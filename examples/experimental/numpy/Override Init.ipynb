{
 "cells": [
  {
   "cell_type": "code",
   "execution_count": 1,
   "metadata": {},
   "outputs": [],
   "source": [
    "import numpy as np\n",
    "import random\n",
    "import syft as sy\n",
    "import json\n",
    "from syft.core.frameworks.torch import utils"
   ]
  },
  {
   "cell_type": "code",
   "execution_count": 2,
   "metadata": {},
   "outputs": [],
   "source": [
    "x = sy.array([1,2,3,4])\n",
    "me = sy.local_worker\n",
    "hook = me.hook\n",
    "me.is_client_worker = False"
   ]
  },
  {
   "cell_type": "code",
   "execution_count": 3,
   "metadata": {},
   "outputs": [],
   "source": [
    "x2 = sy.FloatTensor([1,2,3,4])"
   ]
  },
  {
   "cell_type": "code",
   "execution_count": 4,
   "metadata": {},
   "outputs": [],
   "source": [
    "bob = sy.VirtualWorker(hook=hook,id=2)"
   ]
  },
  {
   "cell_type": "code",
   "execution_count": 5,
   "metadata": {},
   "outputs": [],
   "source": [
    "me.add_worker(bob)"
   ]
  },
  {
   "cell_type": "code",
   "execution_count": 6,
   "metadata": {},
   "outputs": [
    {
     "name": "stdout",
     "output_type": "stream",
     "text": [
      "python_decode\n",
      "{'type': 'numpy.array', 'id': 6557871350, 'data': [1, 2, 3, 4], 'owner': 0}\n",
      "python_decode\n",
      "{'__FloatTensor__': {'type': 'syft.core.frameworks.torch.tensor.FloatTensor', 'torch_type': 'syft.FloatTensor', 'data': [1.0, 2.0, 3.0, 4.0], 'child': {'___LocalTensor__': {'owner': 0, 'id': 60910973550, 'torch_type': 'syft.FloatTensor'}}}}\n"
     ]
    }
   ],
   "source": [
    "xt = x.send(bob)\n",
    "xt2 = x2.send(bob)\n",
    "# xt = x.torch().send(bob)"
   ]
  },
  {
   "cell_type": "code",
   "execution_count": 7,
   "metadata": {},
   "outputs": [
    {
     "data": {
      "text/plain": [
       "{3942983010: array([1, 2, 3, 4]),\n",
       " 79480907037: [_LocalTensor - id:79480907037 owner:2]}"
      ]
     },
     "execution_count": 7,
     "metadata": {},
     "output_type": "execute_result"
    }
   ],
   "source": [
    "bob._objects"
   ]
  },
  {
   "cell_type": "code",
   "execution_count": 8,
   "metadata": {},
   "outputs": [
    {
     "name": "stdout",
     "output_type": "stream",
     "text": [
      "python_decode\n",
      "{'command': 'cumsum', 'has_self': True, 'args': {}, 'kwargs': {}, 'self': {'type': 'numpy.array_ptr', 'id': 98457420184, 'data': [], 'owner': 0, 'location': 2, 'id_at_location': 3942983010}}\n",
      "python_decode\n",
      "cumsum\n",
      "python_decode\n",
      "True\n",
      "python_decode\n",
      "{}\n",
      "python_decode\n",
      "{}\n",
      "python_decode\n",
      "{'type': 'numpy.array_ptr', 'id': 98457420184, 'data': [], 'owner': 0, 'location': 2, 'id_at_location': 3942983010}\n",
      "{'type': 'numpy.array', 'id': 3004262610, 'data': [1, 3, 6, 10], 'owner': 2}\n",
      "begin decoding command result\n",
      "b'{\"obj\": {\"type\": \"numpy.array\", \"id\": 3004262610, \"data\": [], \"owner\": 2}, \"mode\": \"subscribe\"}'\n",
      "python_decode\n",
      "{'type': 'numpy.array', 'id': 3004262610, 'data': [], 'owner': 2}\n"
     ]
    }
   ],
   "source": [
    "res = xt.cumsum()\n",
    "# res"
   ]
  },
  {
   "cell_type": "code",
   "execution_count": 9,
   "metadata": {},
   "outputs": [
    {
     "name": "stdout",
     "output_type": "stream",
     "text": [
      "python_decode\n",
      "{'type': 'numpy.array', 'id': 3004262610, 'data': [1, 3, 6, 10], 'owner': 2}\n"
     ]
    },
    {
     "data": {
      "text/plain": [
       "array([ 1,  3,  6, 10])"
      ]
     },
     "execution_count": 9,
     "metadata": {},
     "output_type": "execute_result"
    }
   ],
   "source": [
    "res.get()"
   ]
  },
  {
   "cell_type": "code",
   "execution_count": 9,
   "metadata": {},
   "outputs": [
    {
     "name": "stdout",
     "output_type": "stream",
     "text": [
      "python_decode\n",
      "{'command': 'cumsum', 'has_self': True, 'args': {'__tuple__': [0]}, 'kwargs': {}, 'self': {'__FloatTensor__': {'type': 'syft.core.frameworks.torch.tensor.FloatTensor', 'torch_type': 'syft.FloatTensor', 'data': [], 'child': {'___PointerTensor__': {'owner': 0, 'id': 5369437614, 'location': 2, 'id_at_location': 53934321412, 'torch_type': 'syft.FloatTensor'}}}}}\n",
      "python_decode\n",
      "cumsum\n",
      "python_decode\n",
      "True\n",
      "python_decode\n",
      "{'__tuple__': [0]}\n",
      "obj_type == tuple\n",
      "python_decode\n",
      "0\n",
      "python_decode\n",
      "{}\n",
      "python_decode\n",
      "{'__FloatTensor__': {'type': 'syft.core.frameworks.torch.tensor.FloatTensor', 'torch_type': 'syft.FloatTensor', 'data': [], 'child': {'___PointerTensor__': {'owner': 0, 'id': 5369437614, 'location': 2, 'id_at_location': 53934321412, 'torch_type': 'syft.FloatTensor'}}}}\n",
      "obj_type == FloatTensor\n",
      "Acquire == False\n",
      "{'__FloatTensor__': {'type': 'syft.core.frameworks.torch.tensor.FloatTensor', 'torch_type': 'syft.FloatTensor', 'data': [1.0, 2.0, 3.0, 4.0], 'child': {'___LocalTensor__': {'owner': 2, 'id': 53934321412, 'torch_type': 'syft.FloatTensor'}}}}\n",
      "begin decoding command result\n",
      "b'{\"obj\": {\"__FloatTensor__\": {\"type\": \"syft.core.frameworks.torch.tensor.FloatTensor\", \"torch_type\": \"syft.FloatTensor\", \"data\": [], \"child\": {\"___LocalTensor__\": {\"owner\": 2, \"id\": 8695226033, \"torch_type\": \"syft.FloatTensor\"}}}}, \"mode\": \"subscribe\"}'\n",
      "python_decode\n",
      "{'__FloatTensor__': {'type': 'syft.core.frameworks.torch.tensor.FloatTensor', 'torch_type': 'syft.FloatTensor', 'data': [], 'child': {'___LocalTensor__': {'owner': 2, 'id': 8695226033, 'torch_type': 'syft.FloatTensor'}}}}\n",
      "obj_type == FloatTensor\n",
      "Acquire == False\n",
      "{'__FloatTensor__': {'type': 'syft.core.frameworks.torch.tensor.FloatTensor', 'torch_type': 'syft.FloatTensor', 'data': [], 'child': {'___PointerTensor__': {'owner': 0, 'id': 7288735374, 'location': 2, 'id_at_location': 8695226033, 'torch_type': 'syft.FloatTensor'}}}}\n"
     ]
    }
   ],
   "source": [
    "res = xt2.cumsum(0)"
   ]
  },
  {
   "cell_type": "code",
   "execution_count": null,
   "metadata": {},
   "outputs": [],
   "source": []
  },
  {
   "cell_type": "code",
   "execution_count": 11,
   "metadata": {},
   "outputs": [
    {
     "data": {
      "text/plain": [
       "3844000594"
      ]
     },
     "execution_count": 11,
     "metadata": {},
     "output_type": "execute_result"
    }
   ],
   "source": [
    "res.id"
   ]
  },
  {
   "cell_type": "code",
   "execution_count": 9,
   "metadata": {},
   "outputs": [
    {
     "data": {
      "text/plain": [
       "{2224853631: array([1, 2, 3, 4]), 3844000594: array([ 1,  3,  6, 10])}"
      ]
     },
     "execution_count": 9,
     "metadata": {},
     "output_type": "execute_result"
    }
   ],
   "source": [
    "bob._objects"
   ]
  },
  {
   "cell_type": "code",
   "execution_count": 10,
   "metadata": {},
   "outputs": [
    {
     "data": {
      "text/plain": [
       "{237577038: array([1, 2, 3, 4]),\n",
       " 1132434330: array_ptr(None, dtype=object),\n",
       " 3844000594: array([], dtype=float64),\n",
       " 7623296799: array([], dtype=float64),\n",
       " 62769686748: array_ptr(None, dtype=object)}"
      ]
     },
     "execution_count": 10,
     "metadata": {},
     "output_type": "execute_result"
    }
   ],
   "source": [
    "me._objects"
   ]
  },
  {
   "cell_type": "code",
   "execution_count": 28,
   "metadata": {},
   "outputs": [],
   "source": [
    "me.de_register(res)"
   ]
  },
  {
   "cell_type": "code",
   "execution_count": 29,
   "metadata": {},
   "outputs": [
    {
     "data": {
      "text/plain": [
       "<syft.core.workers.virtual.VirtualWorker id:0>"
      ]
     },
     "execution_count": 29,
     "metadata": {},
     "output_type": "execute_result"
    }
   ],
   "source": [
    "res.owner"
   ]
  },
  {
   "cell_type": "code",
   "execution_count": null,
   "metadata": {},
   "outputs": [],
   "source": []
  }
 ],
 "metadata": {
  "kernelspec": {
   "display_name": "Python 3",
   "language": "python",
   "name": "python3"
  },
  "language_info": {
   "codemirror_mode": {
    "name": "ipython",
    "version": 3
   },
   "file_extension": ".py",
   "mimetype": "text/x-python",
   "name": "python",
   "nbconvert_exporter": "python",
   "pygments_lexer": "ipython3",
   "version": "3.6.1"
  }
 },
 "nbformat": 4,
 "nbformat_minor": 2
}
