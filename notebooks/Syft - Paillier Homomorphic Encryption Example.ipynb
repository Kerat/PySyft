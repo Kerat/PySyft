{
 "cells": [
  {
   "cell_type": "markdown",
   "metadata": {},
   "source": [
    "# Paillier Homomorphic Encryption Example\n",
    "\n",
    "DISCLAIMER: This is a proof-of-concept implementation. It does not represent a remotely product ready implementation or follow proper conventions for security, convenience, or scalability. It is part of a broader proof-of-concept demonstrating the vision of the OpenMined project, its major moving parts, and how they might work together.\n",
    "\n"
   ]
  },
  {
   "cell_type": "markdown",
   "metadata": {},
   "source": [
    "## Introduction\n",
    "\n",
    "This tutorial includes a basic example of the **Paillier Encryption Algorithm**, a homomorphic crypto system based on the fact that for a composite number $n$ and an integer $z$ it is hard to decide whether exists an $y$ such that $z \\equiv y^n \\pmod{n²}$. This is known as the *decisional composite residuosity assumption*.\n",
    "\n",
    "This algorithm works as follows:\n",
    "\n",
    "### Key generation:\n",
    "(Taking the assumption that the primes chosen have the same length.)\n",
    "1. Two large primes $p$ and $q$ are chosen randomly and independently of each other such that $\\gcd(pq, (p-1)(q-1)) = 1$ (this assures that both have equal length).\n",
    "2. Compute $n = pq$ and $\\lambda = \\phi(n)$, with $\\phi(n) = (p-1)(q-1)$.\n",
    "3. Assign $g = n+1$.\n",
    "4. Set $\\mu = \\phi(n)^{-1} \\pmod{n}$.\n",
    "\n",
    "Now we have the following key pairs:\n",
    "* The **public key** (to encrypt) is $(n, g)$,\n",
    "* the **private or secret key** (to decrypt) is $(\\lambda, \\mu)$.\n",
    "\n",
    "### Encryption:\n",
    "1. $m$ has to be a message such that $0\\leq m < n$.\n",
    "2. Select a random $r$ with $0\\leq r \\leq n$.\n",
    "3. The cyphertext $c$ is obtained as $c = g^m r^n \\pmod{n²}$.\n",
    "\n",
    "### Decryption:\n",
    "If $c$ is the cyphertext, the plaintext message $m$ is obtained as \n",
    "\n",
    "$m = L(c^\\lambda\\pmod{n²})\\cdot\\mu \\pmod{n}$, where $L(u) = (u-1)/n$."
   ]
  },
  {
   "cell_type": "markdown",
   "metadata": {},
   "source": [
    "## Dependencies\n",
    "\n",
    "This example makes use of [KeyPair](https://github.com/OpenMined/PySyft/blob/261fdb10484b7ee586983f6dc74ad168d8d2f160/syft/he/paillier/keys.py#L122) and [PaillierTensor](https://github.com/OpenMined/PySyft/blob/261fdb10484b7ee586983f6dc74ad168d8d2f160/syft/he/paillier/basic.py#L5) classes to apply Paillier encryption, and [TensorBase](https://github.com/OpenMined/PySyft/blob/master/syft/tensor.py) (OpenMined's most generic API) to create the plaintext tensors that will be encrypted. [Numpy](https://docs.scipy.org/doc/numpy-dev/user/quickstart.html) is just a package to manage N-dimensional array objects from which TensorBase is backed by."
   ]
  },
  {
   "cell_type": "code",
   "execution_count": 1,
   "metadata": {},
   "outputs": [],
   "source": [
    "from syft.he.paillier import KeyPair, PaillierTensor\n",
    "from syft import TensorBase\n",
    "import numpy as np"
   ]
  },
  {
   "cell_type": "markdown",
   "metadata": {},
   "source": [
    "## Basic Operations"
   ]
  },
  {
   "cell_type": "markdown",
   "metadata": {},
   "source": [
    "In order to encrypt data using Paillier encryption we need to generate a pair of public and private keys:"
   ]
  },
  {
   "cell_type": "code",
   "execution_count": 2,
   "metadata": {},
   "outputs": [],
   "source": [
    "pubkey,prikey = KeyPair().generate()"
   ]
  },
  {
   "cell_type": "markdown",
   "metadata": {},
   "source": [
    "Then we can create a numpy array the will be turned into an encrypted tensor using the public key (#1) and display it as a Python dictionary (#2):"
   ]
  },
  {
   "cell_type": "code",
   "execution_count": 3,
   "metadata": {},
   "outputs": [
    {
     "data": {
      "text/plain": [
       "{'_EncryptedNumber__ciphertext': 9587711831362355384080176835076503391887402166603761637772234557790650075228392822047892199736666809514467678786349341275460938847810308642534694688978494132896577572336276617154299744215160903522503690099880741370552392893182608428037769662168609940818575362994755362832863275425895218565617795585942090493122010042779337635207508633206881533543091702933151620686569817592620562358868621376259954072164780146749639389556194449875163103081128204966650842489381090836793094238206625151845499124220672507472840195823323499986572058793364898950831313510312858641586138283171063252628289194406732285088921814754960290337,\n",
       " '_EncryptedNumber__is_obfuscated': True,\n",
       " 'exponent': -13,\n",
       " 'public_key': <PaillierPublicKey f341d38459>}"
      ]
     },
     "execution_count": 3,
     "metadata": {},
     "output_type": "execute_result"
    }
   ],
   "source": [
    "x = PaillierTensor(pubkey, np.array([1, 2, 3, 4, 5.])) #1\n",
    "x.data[0].__dict__ #2"
   ]
  },
  {
   "cell_type": "markdown",
   "metadata": {},
   "source": [
    "We can now decrypt our tensor with the private key:"
   ]
  },
  {
   "cell_type": "code",
   "execution_count": 4,
   "metadata": {},
   "outputs": [
    {
     "data": {
      "text/plain": [
       "BaseTensor: array([ 1.,  2.,  3.,  4.,  5.])"
      ]
     },
     "execution_count": 4,
     "metadata": {},
     "output_type": "execute_result"
    }
   ],
   "source": [
    "x.decrypt(prikey)"
   ]
  },
  {
   "cell_type": "markdown",
   "metadata": {},
   "source": [
    "Or decypt the result of adding the first element to the last one:"
   ]
  },
  {
   "cell_type": "code",
   "execution_count": 5,
   "metadata": {},
   "outputs": [
    {
     "data": {
      "text/plain": [
       "BaseTensor: array([ 2.,  3.,  4.,  5.,  6.])"
      ]
     },
     "execution_count": 5,
     "metadata": {},
     "output_type": "execute_result"
    }
   ],
   "source": [
    "(x+x[0]).decrypt(prikey)"
   ]
  },
  {
   "cell_type": "markdown",
   "metadata": {},
   "source": [
    "We can also multiply it by a number:"
   ]
  },
  {
   "cell_type": "code",
   "execution_count": 6,
   "metadata": {},
   "outputs": [
    {
     "data": {
      "text/plain": [
       "BaseTensor: array([  5.,  10.,  15.,  20.,  25.])"
      ]
     },
     "execution_count": 6,
     "metadata": {},
     "output_type": "execute_result"
    }
   ],
   "source": [
    "(x*5).decrypt(prikey)"
   ]
  },
  {
   "cell_type": "markdown",
   "metadata": {},
   "source": [
    "Or apply other linear (product, division, addition and difference) operations:"
   ]
  },
  {
   "cell_type": "code",
   "execution_count": 7,
   "metadata": {},
   "outputs": [
    {
     "data": {
      "text/plain": [
       "BaseTensor: array([ 1.2,  2.4,  3.6,  4.8,  6. ])"
      ]
     },
     "execution_count": 7,
     "metadata": {},
     "output_type": "execute_result"
    }
   ],
   "source": [
    "(x+x/5).decrypt(prikey)"
   ]
  },
  {
   "cell_type": "markdown",
   "metadata": {},
   "source": [
    "## Key Serialization & Deserialization"
   ]
  },
  {
   "cell_type": "markdown",
   "metadata": {},
   "source": [
    "Now we are going to see how can we serialize the keys once we generate them.\n",
    "First we generate other pair of keys and encrypt our information with the public key:"
   ]
  },
  {
   "cell_type": "code",
   "execution_count": 8,
   "metadata": {},
   "outputs": [],
   "source": [
    "pubkey,prikey = KeyPair().generate()"
   ]
  },
  {
   "cell_type": "code",
   "execution_count": 9,
   "metadata": {},
   "outputs": [],
   "source": [
    "x = PaillierTensor(pubkey, np.array([1, 2, 3, 4, 5.]))"
   ]
  },
  {
   "cell_type": "markdown",
   "metadata": {},
   "source": [
    "We can serialize our keys as follows with the `serialize` method for the [public](https://github.com/OpenMined/PySyft/blob/a0134fb5f6907d78a10b91427a4684d2e8279865/syft/he/paillier/keys.py#L110) and the [private](https://github.com/OpenMined/PySyft/blob/a0134fb5f6907d78a10b91427a4684d2e8279865/syft/he/paillier/keys.py#L48) keys respectively:"
   ]
  },
  {
   "cell_type": "code",
   "execution_count": 10,
   "metadata": {},
   "outputs": [
    {
     "data": {
      "text/plain": [
       "'{\"public_key\": {\"n\": 109039055901531821571085017615660123799215584968258690506185191484452435314904051295534637729119074988816164985557717406603192200148209057917286541848425374911845886779232233702260816343359797765293305330075997934933359460751097629954407220146335402048611025846625830604685135153097442084014462174614485842769}}'"
      ]
     },
     "execution_count": 10,
     "metadata": {},
     "output_type": "execute_result"
    }
   ],
   "source": [
    "pubkey_str = pubkey.serialize()\n",
    "pubkey_str"
   ]
  },
  {
   "cell_type": "code",
   "execution_count": 11,
   "metadata": {},
   "outputs": [
    {
     "data": {
      "text/plain": [
       "'{\"secret_key\": {\"n\": 109039055901531821571085017615660123799215584968258690506185191484452435314904051295534637729119074988816164985557717406603192200148209057917286541848425374911845886779232233702260816343359797765293305330075997934933359460751097629954407220146335402048611025846625830604685135153097442084014462174614485842769, \"q\": 12450639974350670618551941962659924758238938196620832453826560246908193468826211315992147874188293298282763970159173528504845385137696742812465693423293589, \"p\": 8757706923191187848191243449828007622575907000795615377147420049807395761942774441178453426172800445093730896202181604613820970343488909466080360137916621}}'"
      ]
     },
     "execution_count": 11,
     "metadata": {},
     "output_type": "execute_result"
    }
   ],
   "source": [
    "prikey_str = prikey.serialize()\n",
    "prikey_str"
   ]
  },
  {
   "cell_type": "markdown",
   "metadata": {},
   "source": [
    "Then we can deserialize them and decrypt the information with the deserialized private (secret) key:"
   ]
  },
  {
   "cell_type": "code",
   "execution_count": 12,
   "metadata": {},
   "outputs": [],
   "source": [
    "pubkey2,prikey2 = KeyPair().deserialize(pubkey_str,prikey_str)"
   ]
  },
  {
   "cell_type": "code",
   "execution_count": 13,
   "metadata": {},
   "outputs": [
    {
     "data": {
      "text/plain": [
       "BaseTensor: array([ 1.,  2.,  3.,  4.,  5.])"
      ]
     },
     "execution_count": 13,
     "metadata": {},
     "output_type": "execute_result"
    }
   ],
   "source": [
    "prikey2.decrypt(x)"
   ]
  },
  {
   "cell_type": "code",
   "execution_count": 14,
   "metadata": {},
   "outputs": [],
   "source": [
    "y = PaillierTensor(pubkey,(np.ones(5))/2)"
   ]
  },
  {
   "cell_type": "code",
   "execution_count": 15,
   "metadata": {},
   "outputs": [
    {
     "data": {
      "text/plain": [
       "BaseTensor: array([ 0.5,  0.5,  0.5,  0.5,  0.5])"
      ]
     },
     "execution_count": 15,
     "metadata": {},
     "output_type": "execute_result"
    }
   ],
   "source": [
    "prikey.decrypt(y)"
   ]
  },
  {
   "cell_type": "markdown",
   "metadata": {},
   "source": [
    "## Value Serialization & Deserialization"
   ]
  },
  {
   "cell_type": "markdown",
   "metadata": {},
   "source": [
    "To serialize our tensors for a correct storage and transmission we use `pickle`."
   ]
  },
  {
   "cell_type": "code",
   "execution_count": 16,
   "metadata": {},
   "outputs": [],
   "source": [
    "import pickle"
   ]
  },
  {
   "cell_type": "markdown",
   "metadata": {},
   "source": [
    "We can save it to a file path or by assigning it to an object through `dumps`:"
   ]
  },
  {
   "cell_type": "code",
   "execution_count": 17,
   "metadata": {},
   "outputs": [],
   "source": [
    "y_str = pickle.dumps(y)"
   ]
  },
  {
   "cell_type": "markdown",
   "metadata": {},
   "source": [
    "And convert it back to its original type with `loads`:"
   ]
  },
  {
   "cell_type": "code",
   "execution_count": 18,
   "metadata": {},
   "outputs": [],
   "source": [
    "y2 = pickle.loads(y_str)"
   ]
  },
  {
   "cell_type": "markdown",
   "metadata": {},
   "source": [
    "As we can see this assures that a decryption of the data can be done yet:"
   ]
  },
  {
   "cell_type": "code",
   "execution_count": 19,
   "metadata": {},
   "outputs": [
    {
     "data": {
      "text/plain": [
       "BaseTensor: array([ 0.5,  0.5,  0.5,  0.5,  0.5])"
      ]
     },
     "execution_count": 19,
     "metadata": {},
     "output_type": "execute_result"
    }
   ],
   "source": [
    "prikey.decrypt(y2)"
   ]
  },
  {
   "cell_type": "markdown",
   "metadata": {
    "collapsed": true
   },
   "source": [
    "## Resources"
   ]
  },
  {
   "cell_type": "markdown",
   "metadata": {},
   "source": [
    "- [PySyft's Relevant Literature](https://github.com/OpenMined/PySyft/tree/a0134fb5f6907d78a10b91427a4684d2e8279865#relevant-literature)\n",
    "- [PySyft's Homomorphic Encryption 101](https://github.com/OpenMined/Docs/blob/2029c26e6a35feed1b800e7423822037792e61e4/tutorials/homomorphic_crypto_101.md#homomorphic-encryption-101)"
   ]
  },
  {
   "cell_type": "code",
   "execution_count": null,
   "metadata": {},
   "outputs": [],
   "source": []
  }
 ],
 "metadata": {
  "kernelspec": {
   "display_name": "openmined",
   "language": "python",
   "name": "openmined"
  },
  "language_info": {
   "codemirror_mode": {
    "name": "ipython",
    "version": 3
   },
   "file_extension": ".py",
   "mimetype": "text/x-python",
   "name": "python",
   "nbconvert_exporter": "python",
   "pygments_lexer": "ipython3",
   "version": "3.5.3"
  }
 },
 "nbformat": 4,
 "nbformat_minor": 1
}
