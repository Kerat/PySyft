{
 "cells": [
  {
   "cell_type": "code",
   "execution_count": 1,
   "metadata": {},
   "outputs": [],
   "source": [
    "import numpy as np\n",
    "import randoy =\n",
    "import syft as sy\n",
    "import json\n",
    "from syft.core.frameworks.torch import utils"
   ]
  },
  {
   "cell_type": "code",
   "execution_count": 2,
   "metadata": {},
   "outputs": [],
   "source": [
    "x = sy.array([1,2,3,4])\n",
    "me = sy.local_worker\n",
    "hook = me.hook"
   ]
  },
  {
   "cell_type": "code",
   "execution_count": 3,
   "metadata": {},
   "outputs": [],
   "source": [
    "bob = sy.VirtualWorker(hook=hook,id=2)"
   ]
  },
  {
   "cell_type": "code",
   "execution_count": 4,
   "metadata": {},
   "outputs": [],
   "source": [
    "me.add_worker(bob)"
   ]
  },
  {
   "cell_type": "code",
   "execution_count": 5,
   "metadata": {},
   "outputs": [],
   "source": [
    "x = sy.array([1,2,3,4])"
   ]
  },
  {
   "cell_type": "code",
   "execution_count": 6,
   "metadata": {},
   "outputs": [],
   "source": [
    "xt = x.send(bob)\n",
    "# xt = x.torch().send(bob)"
   ]
  },
  {
   "cell_type": "code",
   "execution_count": null,
   "metadata": {},
   "outputs": [],
   "source": []
  },
  {
   "cell_type": "code",
   "execution_count": 7,
   "metadata": {},
   "outputs": [
    {
     "data": {
      "text/plain": [
       "{'mode': 'subscribe',\n",
       " 'obj': {'args': {},\n",
       "  'command': 'torch',\n",
       "  'has_self': True,\n",
       "  'kwargs': {},\n",
       "  'self': {'data': ['data is remote'],\n",
       "   'id': 10330136378,\n",
       "   'id_at_location': 40560575,\n",
       "   'location': 2,\n",
       "   'type': 'numpy.array_ptr'}}}"
      ]
     },
     "execution_count": 7,
     "metadata": {},
     "output_type": "execute_result"
    }
   ],
   "source": [
    "cmd, locations, owners = utils.compile_command(attr=\"torch\", args={}, kwargs={}, has_self=True, self=xt)\n",
    "cmd"
   ]
  },
  {
   "cell_type": "code",
   "execution_count": 8,
   "metadata": {},
   "outputs": [],
   "source": [
    "x = me.send_command(recipient=xt.location, message=cmd, framework=\"numpy\")"
   ]
  },
  {
   "cell_type": "code",
   "execution_count": 10,
   "metadata": {},
   "outputs": [],
   "source": [
    "y = x + x"
   ]
  },
  {
   "cell_type": "code",
   "execution_count": 12,
   "metadata": {},
   "outputs": [
    {
     "data": {
      "text/plain": [
       "\n",
       " 2\n",
       " 4\n",
       " 6\n",
       " 8\n",
       "[syft.core.frameworks.torch.tensor.FloatTensor of size 4]"
      ]
     },
     "execution_count": 12,
     "metadata": {},
     "output_type": "execute_result"
    }
   ],
   "source": [
    "y.get()"
   ]
  },
  {
   "cell_type": "code",
   "execution_count": 13,
   "metadata": {},
   "outputs": [
    {
     "data": {
      "text/plain": [
       "{4471197629: array([1, 2, 3, 4]),\n",
       " 7798415103: [_LocalTensor - id:7798415103 owner:2],\n",
       " 8250913666: [_LocalTensor - id:8250913666 owner:2],\n",
       " 8617114141: array([1, 2, 3, 4])}"
      ]
     },
     "execution_count": 13,
     "metadata": {},
     "output_type": "execute_result"
    }
   ],
   "source": [
    "bob._objects"
   ]
  },
  {
   "cell_type": "code",
   "execution_count": 15,
   "metadata": {},
   "outputs": [
    {
     "name": "stdout",
     "output_type": "stream",
     "text": [
      "enforcing owner:<syft.core.workers.virtual.VirtualWorker id:2>\n",
      "<class 'syft.core.frameworks.torch.tensor._LocalTensor'>\n",
      "enforcing owner:<syft.core.workers.virtual.VirtualWorker id:2>\n",
      "<class 'syft.core.frameworks.torch.tensor.FloatTensor'>\n",
      "enforcing owner:<syft.core.workers.virtual.VirtualWorker id:0>\n",
      "enforcing owner:<syft.core.workers.virtual.VirtualWorker id:0>\n",
      "enforcing owner:<syft.core.workers.virtual.VirtualWorker id:0>\n",
      "enforcing owner:<syft.core.workers.virtual.VirtualWorker id:0>\n",
      "enforcing owner:<syft.core.workers.virtual.VirtualWorker id:0>\n",
      "enforcing owner:<syft.core.workers.virtual.VirtualWorker id:0>\n",
      "<class 'syft.core.frameworks.torch.tensor.FloatTensor'>\n",
      "enforcing owner:<syft.core.workers.virtual.VirtualWorker id:0>\n",
      "enforcing owner:<syft.core.workers.virtual.VirtualWorker id:0>\n",
      "<class 'syft.core.frameworks.torch.tensor.DoubleTensor'>\n",
      "enforcing owner:<syft.core.workers.virtual.VirtualWorker id:0>\n",
      "<class 'syft.core.frameworks.torch.tensor._LocalTensor'>\n",
      "enforcing owner:<syft.core.workers.virtual.VirtualWorker id:0>\n",
      "<class 'syft.core.frameworks.torch.tensor.DoubleTensor'>\n",
      "enforcing owner:<syft.core.workers.virtual.VirtualWorker id:0>\n",
      "enforcing owner:<syft.core.workers.virtual.VirtualWorker id:0>\n",
      "enforcing owner:<syft.core.workers.virtual.VirtualWorker id:0>\n",
      "enforcing owner:<syft.core.workers.virtual.VirtualWorker id:0>\n",
      "enforcing owner:<syft.core.workers.virtual.VirtualWorker id:0>\n",
      "enforcing owner:<syft.core.workers.virtual.VirtualWorker id:0>\n",
      "enforcing owner:<syft.core.workers.virtual.VirtualWorker id:0>\n",
      "<class 'syft.core.frameworks.torch.tensor.DoubleTensor'>\n",
      "enforcing owner:<syft.core.workers.virtual.VirtualWorker id:0>\n",
      "<class 'syft.core.frameworks.torch.tensor._LocalTensor'>\n",
      "enforcing owner:<syft.core.workers.virtual.VirtualWorker id:0>\n",
      "<class 'syft.core.frameworks.torch.tensor.DoubleTensor'>\n",
      "enforcing owner:<syft.core.workers.virtual.VirtualWorker id:0>\n",
      "enforcing owner:<syft.core.workers.virtual.VirtualWorker id:0>\n",
      "enforcing owner:<syft.core.workers.virtual.VirtualWorker id:0>\n",
      "enforcing owner:<syft.core.workers.virtual.VirtualWorker id:0>\n",
      "enforcing owner:<syft.core.workers.virtual.VirtualWorker id:0>\n",
      "enforcing owner:<syft.core.workers.virtual.VirtualWorker id:0>\n",
      "enforcing owner:<syft.core.workers.virtual.VirtualWorker id:0>\n",
      "enforcing owner:<syft.core.workers.virtual.VirtualWorker id:0>\n",
      "<class 'syft.core.frameworks.torch.tensor.DoubleTensor'>\n",
      "enforcing owner:<syft.core.workers.virtual.VirtualWorker id:0>\n",
      "<class 'syft.core.frameworks.torch.tensor._LocalTensor'>\n",
      "enforcing owner:<syft.core.workers.virtual.VirtualWorker id:0>\n",
      "<class 'syft.core.frameworks.torch.tensor.DoubleTensor'>\n",
      "enforcing owner:<syft.core.workers.virtual.VirtualWorker id:0>\n",
      "enforcing owner:<syft.core.workers.virtual.VirtualWorker id:0>\n",
      "enforcing owner:<syft.core.workers.virtual.VirtualWorker id:0>\n",
      "enforcing owner:<syft.core.workers.virtual.VirtualWorker id:0>\n",
      "enforcing owner:<syft.core.workers.virtual.VirtualWorker id:0>\n",
      "enforcing owner:<syft.core.workers.virtual.VirtualWorker id:0>\n",
      "enforcing owner:<syft.core.workers.virtual.VirtualWorker id:0>\n",
      "enforcing owner:<syft.core.workers.virtual.VirtualWorker id:0>\n",
      "<class 'syft.core.frameworks.torch.tensor.DoubleTensor'>\n",
      "enforcing owner:<syft.core.workers.virtual.VirtualWorker id:0>\n",
      "<class 'syft.core.frameworks.torch.tensor._LocalTensor'>\n",
      "enforcing owner:<syft.core.workers.virtual.VirtualWorker id:0>\n",
      "<class 'syft.core.frameworks.torch.tensor.ByteTensor'>\n",
      "enforcing owner:<syft.core.workers.virtual.VirtualWorker id:0>\n",
      "enforcing owner:<syft.core.workers.virtual.VirtualWorker id:0>\n",
      "enforcing owner:<syft.core.workers.virtual.VirtualWorker id:0>\n",
      "enforcing owner:<syft.core.workers.virtual.VirtualWorker id:0>\n",
      "enforcing owner:<syft.core.workers.virtual.VirtualWorker id:0>\n",
      "enforcing owner:<syft.core.workers.virtual.VirtualWorker id:0>\n",
      "enforcing owner:<syft.core.workers.virtual.VirtualWorker id:0>\n",
      "enforcing owner:<syft.core.workers.virtual.VirtualWorker id:0>\n",
      "<class 'syft.core.frameworks.torch.tensor.DoubleTensor'>\n",
      "enforcing owner:<syft.core.workers.virtual.VirtualWorker id:0>\n",
      "<class 'syft.core.frameworks.torch.tensor._LocalTensor'>\n",
      "enforcing owner:<syft.core.workers.virtual.VirtualWorker id:0>\n",
      "<class 'syft.core.frameworks.torch.tensor.ByteTensor'>\n",
      "enforcing owner:<syft.core.workers.virtual.VirtualWorker id:0>\n",
      "enforcing owner:<syft.core.workers.virtual.VirtualWorker id:0>\n",
      "enforcing owner:<syft.core.workers.virtual.VirtualWorker id:0>\n",
      "enforcing owner:<syft.core.workers.virtual.VirtualWorker id:0>\n",
      "enforcing owner:<syft.core.workers.virtual.VirtualWorker id:0>\n",
      "enforcing owner:<syft.core.workers.virtual.VirtualWorker id:0>\n",
      "<class 'syft.core.frameworks.torch.tensor.DoubleTensor'>\n",
      "enforcing owner:<syft.core.workers.virtual.VirtualWorker id:0>\n",
      "enforcing owner:<syft.core.workers.virtual.VirtualWorker id:0>\n",
      "<class 'syft.core.frameworks.torch.tensor.DoubleTensor'>\n",
      "enforcing owner:<syft.core.workers.virtual.VirtualWorker id:0>\n",
      "<class 'syft.core.frameworks.torch.tensor._LocalTensor'>\n",
      "enforcing owner:<syft.core.workers.virtual.VirtualWorker id:0>\n",
      "<class 'syft.core.frameworks.torch.tensor.ByteTensor'>\n",
      "enforcing owner:<syft.core.workers.virtual.VirtualWorker id:0>\n",
      "enforcing owner:<syft.core.workers.virtual.VirtualWorker id:0>\n",
      "enforcing owner:<syft.core.workers.virtual.VirtualWorker id:0>\n",
      "enforcing owner:<syft.core.workers.virtual.VirtualWorker id:0>\n",
      "enforcing owner:<syft.core.workers.virtual.VirtualWorker id:0>\n",
      "enforcing owner:<syft.core.workers.virtual.VirtualWorker id:0>\n",
      "<class 'syft.core.frameworks.torch.tensor.ByteTensor'>\n",
      "enforcing owner:<syft.core.workers.virtual.VirtualWorker id:0>\n",
      "enforcing owner:<syft.core.workers.virtual.VirtualWorker id:0>\n",
      "<class 'syft.core.frameworks.torch.tensor.ByteTensor'>\n",
      "enforcing owner:<syft.core.workers.virtual.VirtualWorker id:0>\n",
      "<class 'syft.core.frameworks.torch.tensor._LocalTensor'>\n",
      "enforcing owner:<syft.core.workers.virtual.VirtualWorker id:0>\n",
      "<class 'syft.core.frameworks.torch.tensor.ByteTensor'>\n",
      "enforcing owner:<syft.core.workers.virtual.VirtualWorker id:0>\n",
      "enforcing owner:<syft.core.workers.virtual.VirtualWorker id:0>\n",
      "enforcing owner:<syft.core.workers.virtual.VirtualWorker id:0>\n",
      "enforcing owner:<syft.core.workers.virtual.VirtualWorker id:0>\n",
      "enforcing owner:<syft.core.workers.virtual.VirtualWorker id:0>\n",
      "enforcing owner:<syft.core.workers.virtual.VirtualWorker id:0>\n",
      "<class 'syft.core.frameworks.torch.tensor.ByteTensor'>\n",
      "enforcing owner:<syft.core.workers.virtual.VirtualWorker id:0>\n",
      "enforcing owner:<syft.core.workers.virtual.VirtualWorker id:0>\n",
      "<class 'syft.core.frameworks.torch.tensor.ByteTensor'>\n",
      "enforcing owner:<syft.core.workers.virtual.VirtualWorker id:0>\n",
      "<class 'syft.core.frameworks.torch.tensor._LocalTensor'>\n",
      "enforcing owner:<syft.core.workers.virtual.VirtualWorker id:0>\n",
      "<class 'syft.core.frameworks.torch.tensor.ByteTensor'>\n",
      "enforcing owner:<syft.core.workers.virtual.VirtualWorker id:0>\n",
      "enforcing owner:<syft.core.workers.virtual.VirtualWorker id:0>\n",
      "enforcing owner:<syft.core.workers.virtual.VirtualWorker id:0>\n",
      "enforcing owner:<syft.core.workers.virtual.VirtualWorker id:0>\n",
      "enforcing owner:<syft.core.workers.virtual.VirtualWorker id:0>\n",
      "enforcing owner:<syft.core.workers.virtual.VirtualWorker id:0>\n",
      "<class 'syft.core.frameworks.torch.tensor.ByteTensor'>\n",
      "enforcing owner:<syft.core.workers.virtual.VirtualWorker id:0>\n",
      "enforcing owner:<syft.core.workers.virtual.VirtualWorker id:0>\n",
      "<class 'syft.core.frameworks.torch.tensor.ByteTensor'>\n",
      "enforcing owner:<syft.core.workers.virtual.VirtualWorker id:0>\n",
      "<class 'syft.core.frameworks.torch.tensor._LocalTensor'>\n",
      "enforcing owner:<syft.core.workers.virtual.VirtualWorker id:0>\n",
      "<class 'syft.core.frameworks.torch.tensor.ByteTensor'>\n",
      "enforcing owner:<syft.core.workers.virtual.VirtualWorker id:0>\n",
      "enforcing owner:<syft.core.workers.virtual.VirtualWorker id:0>\n",
      "enforcing owner:<syft.core.workers.virtual.VirtualWorker id:0>\n",
      "enforcing owner:<syft.core.workers.virtual.VirtualWorker id:0>\n",
      "enforcing owner:<syft.core.workers.virtual.VirtualWorker id:0>\n",
      "enforcing owner:<syft.core.workers.virtual.VirtualWorker id:0>\n",
      "<class 'syft.core.frameworks.torch.tensor.ByteTensor'>\n",
      "enforcing owner:<syft.core.workers.virtual.VirtualWorker id:0>\n",
      "enforcing owner:<syft.core.workers.virtual.VirtualWorker id:0>\n",
      "<class 'syft.core.frameworks.torch.tensor.ByteTensor'>\n",
      "enforcing owner:<syft.core.workers.virtual.VirtualWorker id:0>\n",
      "<class 'syft.core.frameworks.torch.tensor._LocalTensor'>\n",
      "enforcing owner:<syft.core.workers.virtual.VirtualWorker id:0>\n",
      "<class 'syft.core.frameworks.torch.tensor.ByteTensor'>\n",
      "enforcing owner:<syft.core.workers.virtual.VirtualWorker id:0>\n",
      "enforcing owner:<syft.core.workers.virtual.VirtualWorker id:0>\n",
      "enforcing owner:<syft.core.workers.virtual.VirtualWorker id:0>\n",
      "enforcing owner:<syft.core.workers.virtual.VirtualWorker id:0>\n",
      "enforcing owner:<syft.core.workers.virtual.VirtualWorker id:0>\n",
      "enforcing owner:<syft.core.workers.virtual.VirtualWorker id:0>\n",
      "enforcing owner:<syft.core.workers.virtual.VirtualWorker id:0>\n",
      "<class 'syft.core.frameworks.torch.tensor.ByteTensor'>\n",
      "enforcing owner:<syft.core.workers.virtual.VirtualWorker id:0>\n",
      "enforcing owner:<syft.core.workers.virtual.VirtualWorker id:0>\n",
      "enforcing owner:<syft.core.workers.virtual.VirtualWorker id:0>\n",
      "enforcing owner:<syft.core.workers.virtual.VirtualWorker id:0>\n",
      "enforcing owner:<syft.core.workers.virtual.VirtualWorker id:0>\n",
      "enforcing owner:<syft.core.workers.virtual.VirtualWorker id:0>\n",
      "enforcing owner:<syft.core.workers.virtual.VirtualWorker id:0>\n",
      "enforcing owner:<syft.core.workers.virtual.VirtualWorker id:0>\n",
      "enforcing owner:<syft.core.workers.virtual.VirtualWorker id:0>\n",
      "<class 'syft.core.frameworks.torch.tensor.ByteTensor'>\n",
      "enforcing owner:<syft.core.workers.virtual.VirtualWorker id:0>\n",
      "<class 'syft.core.frameworks.torch.tensor._LocalTensor'>\n",
      "enforcing owner:<syft.core.workers.virtual.VirtualWorker id:0>\n",
      "<class 'syft.core.frameworks.torch.tensor.ByteTensor'>\n",
      "enforcing owner:<syft.core.workers.virtual.VirtualWorker id:0>\n",
      "enforcing owner:<syft.core.workers.virtual.VirtualWorker id:0>\n",
      "enforcing owner:<syft.core.workers.virtual.VirtualWorker id:0>\n",
      "enforcing owner:<syft.core.workers.virtual.VirtualWorker id:0>\n",
      "enforcing owner:<syft.core.workers.virtual.VirtualWorker id:0>\n",
      "enforcing owner:<syft.core.workers.virtual.VirtualWorker id:0>\n",
      "<class 'syft.core.frameworks.torch.tensor.ByteTensor'>\n",
      "enforcing owner:<syft.core.workers.virtual.VirtualWorker id:0>\n",
      "enforcing owner:<syft.core.workers.virtual.VirtualWorker id:0>\n",
      "<class 'syft.core.frameworks.torch.tensor.DoubleTensor'>\n",
      "enforcing owner:<syft.core.workers.virtual.VirtualWorker id:0>\n",
      "<class 'syft.core.frameworks.torch.tensor._LocalTensor'>\n",
      "enforcing owner:<syft.core.workers.virtual.VirtualWorker id:0>\n",
      "<class 'syft.core.frameworks.torch.tensor.DoubleTensor'>\n",
      "enforcing owner:<syft.core.workers.virtual.VirtualWorker id:0>\n",
      "enforcing owner:<syft.core.workers.virtual.VirtualWorker id:0>\n",
      "enforcing owner:<syft.core.workers.virtual.VirtualWorker id:0>\n",
      "enforcing owner:<syft.core.workers.virtual.VirtualWorker id:0>\n",
      "enforcing owner:<syft.core.workers.virtual.VirtualWorker id:0>\n",
      "enforcing owner:<syft.core.workers.virtual.VirtualWorker id:0>\n",
      "enforcing owner:<syft.core.workers.virtual.VirtualWorker id:0>\n",
      "enforcing owner:<syft.core.workers.virtual.VirtualWorker id:0>\n",
      "<class 'syft.core.frameworks.torch.tensor.DoubleTensor'>\n",
      "enforcing owner:<syft.core.workers.virtual.VirtualWorker id:0>\n",
      "enforcing owner:<syft.core.workers.virtual.VirtualWorker id:0>\n",
      "enforcing owner:<syft.core.workers.virtual.VirtualWorker id:0>\n",
      "enforcing owner:<syft.core.workers.virtual.VirtualWorker id:0>\n",
      "enforcing owner:<syft.core.workers.virtual.VirtualWorker id:0>\n",
      "enforcing owner:<syft.core.workers.virtual.VirtualWorker id:0>\n",
      "enforcing owner:<syft.core.workers.virtual.VirtualWorker id:0>\n",
      "<class 'syft.core.frameworks.torch.tensor.ByteTensor'>\n",
      "enforcing owner:<syft.core.workers.virtual.VirtualWorker id:0>\n",
      "enforcing owner:<syft.core.workers.virtual.VirtualWorker id:0>\n",
      "enforcing owner:<syft.core.workers.virtual.VirtualWorker id:0>\n",
      "<class 'syft.core.frameworks.torch.tensor.DoubleTensor'>\n",
      "enforcing owner:<syft.core.workers.virtual.VirtualWorker id:0>\n",
      "enforcing owner:<syft.core.workers.virtual.VirtualWorker id:0>\n",
      "enforcing owner:<syft.core.workers.virtual.VirtualWorker id:0>\n",
      "enforcing owner:<syft.core.workers.virtual.VirtualWorker id:0>\n",
      "enforcing owner:<syft.core.workers.virtual.VirtualWorker id:0>\n",
      "enforcing owner:<syft.core.workers.virtual.VirtualWorker id:0>\n",
      "enforcing owner:<syft.core.workers.virtual.VirtualWorker id:0>\n",
      "enforcing owner:<syft.core.workers.virtual.VirtualWorker id:0>\n",
      "<class 'syft.core.frameworks.torch.tensor.ByteTensor'>\n",
      "enforcing owner:<syft.core.workers.virtual.VirtualWorker id:0>\n",
      "enforcing owner:<syft.core.workers.virtual.VirtualWorker id:0>\n",
      "enforcing owner:<syft.core.workers.virtual.VirtualWorker id:0>\n",
      "enforcing owner:<syft.core.workers.virtual.VirtualWorker id:0>\n",
      "enforcing owner:<syft.core.workers.virtual.VirtualWorker id:0>\n",
      "enforcing owner:<syft.core.workers.virtual.VirtualWorker id:0>\n",
      "enforcing owner:<syft.core.workers.virtual.VirtualWorker id:0>\n",
      "enforcing owner:<syft.core.workers.virtual.VirtualWorker id:0>\n",
      "<class 'syft.core.frameworks.torch.tensor.DoubleTensor'>\n",
      "enforcing owner:<syft.core.workers.virtual.VirtualWorker id:0>\n",
      "enforcing owner:<syft.core.workers.virtual.VirtualWorker id:0>\n",
      "enforcing owner:<syft.core.workers.virtual.VirtualWorker id:0>\n",
      "enforcing owner:<syft.core.workers.virtual.VirtualWorker id:0>\n",
      "enforcing owner:<syft.core.workers.virtual.VirtualWorker id:0>\n",
      "enforcing owner:<syft.core.workers.virtual.VirtualWorker id:0>\n",
      "enforcing owner:<syft.core.workers.virtual.VirtualWorker id:0>\n",
      "enforcing owner:<syft.core.workers.virtual.VirtualWorker id:0>\n",
      "<class 'syft.core.frameworks.torch.tensor.DoubleTensor'>\n",
      "enforcing owner:<syft.core.workers.virtual.VirtualWorker id:0>\n"
     ]
    },
    {
     "data": {
      "text/plain": [
       "\n",
       " 1\n",
       " 2\n",
       " 3\n",
       " 4\n",
       "[syft.core.frameworks.torch.tensor.FloatTensor of size 4]"
      ]
     },
     "execution_count": 15,
     "metadata": {},
     "output_type": "execute_result"
    }
   ],
   "source": [
    "x.get()"
   ]
  },
  {
   "cell_type": "code",
   "execution_count": 12,
   "metadata": {},
   "outputs": [
    {
     "data": {
      "text/plain": [
       "{5220922905: array([1, 2, 3, 4])}"
      ]
     },
     "execution_count": 12,
     "metadata": {},
     "output_type": "execute_result"
    }
   ],
   "source": [
    "bob._objects"
   ]
  },
  {
   "cell_type": "code",
   "execution_count": 8,
   "metadata": {},
   "outputs": [
    {
     "name": "stdout",
     "output_type": "stream",
     "text": [
      "message wrapper json\n",
      "b'{\"message\": {\"obj\": {\"type\": \"numpy.array\", \"id\": 9550542501, \"data\": [1, 2, 3, 4]}, \"mode\": \"acquire\"}, \"type\": \"obj\"}\\n'\n",
      "{'message': array([1, 2, 3, 4]), 'type': 'obj'}\n"
     ]
    }
   ],
   "source": [
    "xptr = x.send(bob)"
   ]
  },
  {
   "cell_type": "code",
   "execution_count": 23,
   "metadata": {},
   "outputs": [
    {
     "data": {
      "text/plain": [
       "array_ptr(['data is remote'], dtype='<U14')"
      ]
     },
     "execution_count": 23,
     "metadata": {},
     "output_type": "execute_result"
    }
   ],
   "source": [
    "xptr"
   ]
  },
  {
   "cell_type": "code",
   "execution_count": 20,
   "metadata": {},
   "outputs": [],
   "source": [
    "x = xptr.get()"
   ]
  },
  {
   "cell_type": "code",
   "execution_count": 3,
   "metadata": {},
   "outputs": [
    {
     "data": {
      "text/plain": [
       "array([1, 2, 3, 4])"
      ]
     },
     "execution_count": 3,
     "metadata": {},
     "output_type": "execute_result"
    }
   ],
   "source": [
    "x"
   ]
  },
  {
   "cell_type": "code",
   "execution_count": null,
   "metadata": {},
   "outputs": [],
   "source": []
  }
 ],
 "metadata": {
  "kernelspec": {
   "display_name": "Python 3",
   "language": "python",
   "name": "python3"
  },
  "language_info": {
   "codemirror_mode": {
    "name": "ipython",
    "version": 3
   },
   "file_extension": ".py",
   "mimetype": "text/x-python",
   "name": "python",
   "nbconvert_exporter": "python",
   "pygments_lexer": "ipython3",
   "version": "3.6.1"
  }
 },
 "nbformat": 4,
 "nbformat_minor": 2
}
