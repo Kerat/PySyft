{
 "cells": [
  {
   "cell_type": "code",
   "execution_count": 1,
   "metadata": {},
   "outputs": [],
   "source": [
    "import syft as sy\n",
    "hook = sy.TorchHook()\n",
    "me = hook.local_worker\n",
    "remote = sy.VirtualWorker(id=1,hook=hook, is_client_worker=False)"
   ]
  },
  {
   "cell_type": "code",
   "execution_count": 2,
   "metadata": {},
   "outputs": [],
   "source": [
    "me.is_client_worker = False"
   ]
  },
  {
   "cell_type": "code",
   "execution_count": 3,
   "metadata": {},
   "outputs": [
    {
     "name": "stdout",
     "output_type": "stream",
     "text": [
      "<syft.core.frameworks.torch.tensor._LocalTensor object at 0x1103244e0>\n"
     ]
    }
   ],
   "source": [
    "x = sy.FloatTensor([1,2,3,4])"
   ]
  },
  {
   "cell_type": "code",
   "execution_count": 4,
   "metadata": {},
   "outputs": [
    {
     "name": "stdout",
     "output_type": "stream",
     "text": [
      "<syft.core.frameworks.torch.tensor._LocalTensor object at 0x1103241d0>\n",
      "<syft.core.frameworks.torch.tensor._LocalTensor object at 0x118613e10>\n",
      "<syft.core.frameworks.torch.tensor._PointerTensor object at 0x118624e48>\n"
     ]
    },
    {
     "data": {
      "text/plain": [
       "[syft.FloatTensor with no dimension]"
      ]
     },
     "execution_count": 4,
     "metadata": {},
     "output_type": "execute_result"
    }
   ],
   "source": [
    "x.send(remote, new_id=1234)"
   ]
  },
  {
   "cell_type": "code",
   "execution_count": 5,
   "metadata": {},
   "outputs": [
    {
     "data": {
      "text/plain": [
       "{1234: <syft.core.frameworks.torch.tensor._LocalTensor at 0x118613e10>}"
      ]
     },
     "execution_count": 5,
     "metadata": {},
     "output_type": "execute_result"
    }
   ],
   "source": [
    "remote._objects"
   ]
  },
  {
   "cell_type": "code",
   "execution_count": 6,
   "metadata": {},
   "outputs": [
    {
     "data": {
      "text/plain": [
       "{360575612: <syft.core.frameworks.torch.tensor._PointerTensor at 0x118624e48>,\n",
       " 1557939847: <syft.core.frameworks.torch.tensor._LocalTensor at 0x1103241d0>,\n",
       " 9421278264: <syft.core.frameworks.torch.tensor._LocalTensor at 0x118613e10>}"
      ]
     },
     "execution_count": 6,
     "metadata": {},
     "output_type": "execute_result"
    }
   ],
   "source": [
    "me._objects"
   ]
  },
  {
   "cell_type": "code",
   "execution_count": 7,
   "metadata": {},
   "outputs": [
    {
     "name": "stdout",
     "output_type": "stream",
     "text": [
      "{'has_self': True, 'self': 1234, 'command': '__add__', 'args': [1234], 'kwargs': {}, 'arg_types': ['FloatTensor'], 'kwarg_types': []}\n",
      "[1234]\n",
      "<syft.core.frameworks.torch.tensor._LocalTensor object at 0x110281860>\n",
      "Registering to: 1\n"
     ]
    }
   ],
   "source": [
    "y = x + x"
   ]
  },
  {
   "cell_type": "code",
   "execution_count": 8,
   "metadata": {},
   "outputs": [
    {
     "data": {
      "text/plain": [
       "{'child': {'type': 'syft.FloatTensor'},\n",
       " 'id': 8695283130,\n",
       " 'owner': 1,\n",
       " 'type': 'syft.core.frameworks.torch.tensor._LocalTensor'}"
      ]
     },
     "execution_count": 8,
     "metadata": {},
     "output_type": "execute_result"
    }
   ],
   "source": [
    "y"
   ]
  },
  {
   "cell_type": "code",
   "execution_count": 9,
   "metadata": {},
   "outputs": [
    {
     "data": {
      "text/plain": [
       "{1234: <syft.core.frameworks.torch.tensor._LocalTensor at 0x118613e10>,\n",
       " 8695283130: <syft.core.frameworks.torch.tensor._LocalTensor at 0x110281860>}"
      ]
     },
     "execution_count": 9,
     "metadata": {},
     "output_type": "execute_result"
    }
   ],
   "source": [
    "remote._objects"
   ]
  },
  {
   "cell_type": "code",
   "execution_count": 10,
   "metadata": {},
   "outputs": [
    {
     "data": {
      "text/plain": [
       "{360575612: <syft.core.frameworks.torch.tensor._PointerTensor at 0x118624e48>,\n",
       " 1557939847: <syft.core.frameworks.torch.tensor._LocalTensor at 0x1103241d0>,\n",
       " 9421278264: <syft.core.frameworks.torch.tensor._LocalTensor at 0x118613e10>}"
      ]
     },
     "execution_count": 10,
     "metadata": {},
     "output_type": "execute_result"
    }
   ],
   "source": [
    "me._objects"
   ]
  },
  {
   "cell_type": "code",
   "execution_count": 11,
   "metadata": {},
   "outputs": [
    {
     "data": {
      "text/plain": [
       "9095682795"
      ]
     },
     "execution_count": 11,
     "metadata": {},
     "output_type": "execute_result"
    }
   ],
   "source": [
    "me._objects[9095682795].id"
   ]
  },
  {
   "cell_type": "code",
   "execution_count": 9,
   "metadata": {},
   "outputs": [],
   "source": [
    "y"
   ]
  },
  {
   "cell_type": "code",
   "execution_count": 10,
   "metadata": {},
   "outputs": [],
   "source": [
    "y"
   ]
  },
  {
   "cell_type": "code",
   "execution_count": 11,
   "metadata": {},
   "outputs": [
    {
     "data": {
      "text/plain": [
       "[syft.FloatTensor,\n",
       " syft.DoubleTensor,\n",
       " syft.HalfTensor,\n",
       " syft.ByteTensor,\n",
       " syft.CharTensor,\n",
       " syft.ShortTensor,\n",
       " syft.IntTensor,\n",
       " syft.LongTensor,\n",
       " torch.autograd.variable.Variable]"
      ]
     },
     "execution_count": 11,
     "metadata": {},
     "output_type": "execute_result"
    }
   ],
   "source": [
    "sy.tensorvar_types"
   ]
  },
  {
   "cell_type": "code",
   "execution_count": null,
   "metadata": {},
   "outputs": [],
   "source": []
  },
  {
   "cell_type": "code",
   "execution_count": null,
   "metadata": {},
   "outputs": [],
   "source": []
  }
 ],
 "metadata": {
  "kernelspec": {
   "display_name": "Python 3",
   "language": "python",
   "name": "python3"
  },
  "language_info": {
   "codemirror_mode": {
    "name": "ipython",
    "version": 3
   },
   "file_extension": ".py",
   "mimetype": "text/x-python",
   "name": "python",
   "nbconvert_exporter": "python",
   "pygments_lexer": "ipython3",
   "version": "3.6.1"
  }
 },
 "nbformat": 4,
 "nbformat_minor": 2
}
