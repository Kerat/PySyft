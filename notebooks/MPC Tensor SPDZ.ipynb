{
 "cells": [
  {
   "cell_type": "markdown",
   "metadata": {},
   "source": [
    "# MPC Tensor Prototype\n",
    "\n",
    "All functionality in this notebook is just a proof of concept. The tensor is not stable. For a full survey of the tech behind this tensor, see the following blogpost\n",
    "\n",
    "http://mortendahl.github.io/2017/09/19/private-image-analysis-with-mpc/"
   ]
  },
  {
   "cell_type": "code",
   "execution_count": 1,
   "metadata": {},
   "outputs": [],
   "source": [
    "import numpy as np\n",
    "from syft.mpc.rss import MPCRepo\n",
    "from syft.mpc.rss.tensor import RSSMPCTensor"
   ]
  },
  {
   "cell_type": "code",
   "execution_count": 2,
   "metadata": {},
   "outputs": [],
   "source": [
    "server1 = MPCRepo()\n",
    "server2 = MPCRepo()\n",
    "\n",
    "server1.set_parties(server2)\n",
    "server2.set_parties(server1)"
   ]
  },
  {
   "cell_type": "code",
   "execution_count": 3,
   "metadata": {
    "collapsed": true
   },
   "outputs": [],
   "source": [
    "r = RSSMPCTensor(server1, np.random.rand(10))"
   ]
  },
  {
   "cell_type": "code",
   "execution_count": 4,
   "metadata": {},
   "outputs": [
    {
     "data": {
      "text/plain": [
       "RSSMPCTensor: array([0.21921814, 0.16166079, 0.42968832, 0.49386208, 0.0561392,\n",
       "       0.52952276, 0.41402581, 0.74693103, 0.10140532, 0.55745284], dtype=object)"
      ]
     },
     "execution_count": 4,
     "metadata": {},
     "output_type": "execute_result"
    }
   ],
   "source": [
    "r"
   ]
  },
  {
   "cell_type": "code",
   "execution_count": 5,
   "metadata": {},
   "outputs": [
    {
     "data": {
      "text/plain": [
       "RSSMPCTensor: array([0.43843628, 0.32332158, 0.85937664, 0.98772416, 0.1122784,\n",
       "       1.05904552, 0.82805162, 1.49386206, 0.20281064, 1.11490568], dtype=object)"
      ]
     },
     "execution_count": 5,
     "metadata": {},
     "output_type": "execute_result"
    }
   ],
   "source": [
    "r+r"
   ]
  },
  {
   "cell_type": "code",
   "execution_count": 6,
   "metadata": {},
   "outputs": [
    {
     "data": {
      "text/plain": [
       "RSSMPCTensor: array([0, 0, 0, 0, 0, 0, 0, 0, 0, 0], dtype=object)"
      ]
     },
     "execution_count": 6,
     "metadata": {},
     "output_type": "execute_result"
    }
   ],
   "source": [
    "r-r"
   ]
  },
  {
   "cell_type": "code",
   "execution_count": 7,
   "metadata": {},
   "outputs": [
    {
     "data": {
      "text/plain": [
       "RSSMPCTensor: array([1.4336528031365244e+30, 2.939733441598795e+38,\n",
       "       2.939733447943868e+38, 2.939733445535357e+38, 6.553555345215939e+29,\n",
       "       2.9397334544667315e+38, 2.939733443495541e+38,\n",
       "       2.607280123294925e+29, 2.9397334516857835e+38, 1.312337335500617e+30], dtype=object)"
      ]
     },
     "execution_count": 7,
     "metadata": {},
     "output_type": "execute_result"
    }
   ],
   "source": [
    "r*r"
   ]
  },
  {
   "cell_type": "code",
   "execution_count": 8,
   "metadata": {},
   "outputs": [
    {
     "data": {
      "text/plain": [
       "BaseTensor: array([1469866727375836271573230157824, 1469866727375836201204485980160,\n",
       "       1469866727375836201204485980160, 1469866727375836157224020869120,\n",
       "       1469866727375836306757602246656, 1469866727375836201204485980160,\n",
       "       1469866727375836271573230157824, 1469866727375836201204485980160,\n",
       "       1469866727375836183612299935744, 1469866727375836236388858068992], dtype=object)"
      ]
     },
     "execution_count": 8,
     "metadata": {},
     "output_type": "execute_result"
    }
   ],
   "source": [
    "r/2"
   ]
  },
  {
   "cell_type": "code",
   "execution_count": 9,
   "metadata": {},
   "outputs": [
    {
     "data": {
      "text/plain": [
       "2.939733450324404e+38"
      ]
     },
     "execution_count": 9,
     "metadata": {},
     "output_type": "execute_result"
    }
   ],
   "source": [
    "r.dot(r)"
   ]
  },
  {
   "cell_type": "code",
   "execution_count": null,
   "metadata": {
    "collapsed": true
   },
   "outputs": [],
   "source": []
  }
 ],
 "metadata": {
  "kernelspec": {
   "display_name": "Python 3",
   "language": "python",
   "name": "python3"
  },
  "language_info": {
   "codemirror_mode": {
    "name": "ipython",
    "version": 3
   },
   "file_extension": ".py",
   "mimetype": "text/x-python",
   "name": "python",
   "nbconvert_exporter": "python",
   "pygments_lexer": "ipython3",
   "version": "3.6.2"
  }
 },
 "nbformat": 4,
 "nbformat_minor": 2
}
