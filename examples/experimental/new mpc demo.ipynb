{
 "cells": [
  {
   "cell_type": "markdown",
   "metadata": {},
   "source": [
    "This demo is designed to work with the standard socket workers alice and bob from the other demos. It adds two numbers together"
   ]
  },
  {
   "cell_type": "code",
   "execution_count": 1,
   "metadata": {},
   "outputs": [],
   "source": [
    "import syft as sy\n",
    "import torch\n",
    "from syft.mpc import spdz\n",
    "from syft.core.frameworks.torch import _GeneralizedPointerTensor as gpt\n",
    "from syft.core.frameworks.torch import _MPCTensor as mpct"
   ]
  },
  {
   "cell_type": "markdown",
   "metadata": {},
   "source": [
    "Utility fuction to print chains"
   ]
  },
  {
   "cell_type": "code",
   "execution_count": 2,
   "metadata": {},
   "outputs": [],
   "source": [
    "from syft.core.frameworks.torch.utils import chain_print as pp"
   ]
  },
  {
   "cell_type": "code",
   "execution_count": 3,
   "metadata": {},
   "outputs": [],
   "source": [
    "hook = sy.TorchHook(verbose=False)\n",
    "me = hook.local_worker\n",
    "bob = sy.VirtualWorker(id=\"bob\",hook=hook, is_client_worker=False)\n",
    "alice = sy.VirtualWorker(id=\"alice\",hook=hook, is_client_worker=False)\n",
    "me.is_client_worker = False\n",
    "\n",
    "compute_nodes = [bob, alice]\n",
    "\n",
    "me.add_workers([bob, alice])\n",
    "bob.add_workers([me, alice])\n",
    "alice.add_workers([me, bob])"
   ]
  },
  {
   "cell_type": "code",
   "execution_count": 4,
   "metadata": {},
   "outputs": [],
   "source": [
    "x = torch.FloatTensor([[1,2],[3,4]])\n",
    "y = torch.FloatTensor([[2,3],[4,5]])"
   ]
  },
  {
   "cell_type": "code",
   "execution_count": 5,
   "metadata": {},
   "outputs": [],
   "source": [
    "x_enc = spdz.encode(x)\n",
    "y_enc = spdz.encode(y)"
   ]
  },
  {
   "cell_type": "code",
   "execution_count": 6,
   "metadata": {},
   "outputs": [],
   "source": [
    "x_alice, x_bob = spdz.share(x_enc)\n",
    "y_alice, y_bob = spdz.share(y_enc)"
   ]
  },
  {
   "cell_type": "code",
   "execution_count": 7,
   "metadata": {},
   "outputs": [
    {
     "data": {
      "text/plain": [
       "\n",
       " 1  2\n",
       " 3  4\n",
       "[syft.core.frameworks.torch.tensor.LongTensor of size 2x2]"
      ]
     },
     "execution_count": 7,
     "metadata": {},
     "output_type": "execute_result"
    }
   ],
   "source": [
    "field = 2 ** 31 - 1\n",
    "(x_alice + x_bob) % field"
   ]
  },
  {
   "cell_type": "code",
   "execution_count": 8,
   "metadata": {},
   "outputs": [
    {
     "data": {
      "text/plain": [
       "LongTensor[_PointerTensor - id:6808919214 owner:0 loc:bob id@loc:60616982618]"
      ]
     },
     "execution_count": 8,
     "metadata": {},
     "output_type": "execute_result"
    }
   ],
   "source": [
    "x_alice.send(alice)\n",
    "x_bob.send(bob)\n",
    "y_alice.send(alice)\n",
    "y_bob.send(bob)"
   ]
  },
  {
   "cell_type": "markdown",
   "metadata": {},
   "source": [
    "### GPT"
   ]
  },
  {
   "cell_type": "code",
   "execution_count": 9,
   "metadata": {},
   "outputs": [],
   "source": [
    "x_pointer_tensor_dict = {alice:x_alice, bob:x_bob}\n",
    "y_pointer_tensor_dict = {alice:y_alice, bob:y_bob}"
   ]
  },
  {
   "cell_type": "code",
   "execution_count": 10,
   "metadata": {
    "scrolled": true
   },
   "outputs": [],
   "source": [
    "#x_gp = gpt(x_pointer_tensor_dict,None, gpt)\n",
    "#y_gp = gpt(y_pointer_tensor_dict, None, gpt)\n",
    "x_gp = gpt(x_pointer_tensor_dict).on(x)\n",
    "y_gp = gpt(y_pointer_tensor_dict).on(y)"
   ]
  },
  {
   "cell_type": "code",
   "execution_count": 11,
   "metadata": {
    "scrolled": true
   },
   "outputs": [
    {
     "name": "stdout",
     "output_type": "stream",
     "text": [
      "FloatTensor > _GeneralizedPointerTensor\n"
     ]
    }
   ],
   "source": [
    "pp(x_gp)"
   ]
  },
  {
   "cell_type": "code",
   "execution_count": 12,
   "metadata": {},
   "outputs": [
    {
     "data": {
      "text/plain": [
       "{<syft.core.workers.virtual.VirtualWorker id:alice>: LongTensor[_PointerTensor - id:7551001924 owner:0 loc:alice id@loc:69958378848],\n",
       " <syft.core.workers.virtual.VirtualWorker id:bob>: LongTensor[_PointerTensor - id:6129758784 owner:0 loc:bob id@loc:79318155379]}"
      ]
     },
     "execution_count": 12,
     "metadata": {},
     "output_type": "execute_result"
    }
   ],
   "source": [
    "x_gp.child.pointer_tensor_dict"
   ]
  },
  {
   "cell_type": "code",
   "execution_count": 13,
   "metadata": {
    "scrolled": true
   },
   "outputs": [
    {
     "name": "stdout",
     "output_type": "stream",
     "text": [
      "{'command': '__add__', 'has_self': True, 'args': ([_GeneralizedPointerTensor - id:2087336283 owner:0],), 'kwargs': {}, 'self': [_GeneralizedPointerTensor - id:8298842210 owner:0]}\n",
      "ptd:{<syft.core.workers.virtual.VirtualWorker id:alice>: LongTensor[_PointerTensor - id:7551001924 owner:0 loc:alice id@loc:69958378848], <syft.core.workers.virtual.VirtualWorker id:bob>: LongTensor[_PointerTensor - id:6129758784 owner:0 loc:bob id@loc:79318155379]}\n",
      "[[_PointerTensor - id:7551001924 owner:0 loc:alice id@loc:69958378848], [_PointerTensor - id:6129758784 owner:0 loc:bob id@loc:79318155379]]\n",
      "handle call: {'has_self': True, 'self': [_PointerTensor - id:7551001924 owner:0 loc:alice id@loc:69958378848], 'kwargs': {}, 'command': '__add__', 'args': [[_PointerTensor - id:6495050051 owner:0 loc:alice id@loc:81275176675]]}\n",
      "result:{<syft.core.workers.virtual.VirtualWorker id:alice>: [_PointerTensor - id:8579118992 owner:0 loc:alice id@loc:634022710]}\n",
      "handle call: {'has_self': True, 'self': [_PointerTensor - id:6129758784 owner:0 loc:bob id@loc:79318155379], 'kwargs': {}, 'command': '__add__', 'args': [[_PointerTensor - id:6808919214 owner:0 loc:bob id@loc:60616982618]]}\n",
      "result:{<syft.core.workers.virtual.VirtualWorker id:alice>: [_PointerTensor - id:8579118992 owner:0 loc:alice id@loc:634022710], <syft.core.workers.virtual.VirtualWorker id:bob>: [_PointerTensor - id:2027563250 owner:0 loc:bob id@loc:625683415]}\n"
     ]
    }
   ],
   "source": [
    "z_gp = x_gp + y_gp"
   ]
  },
  {
   "cell_type": "code",
   "execution_count": 14,
   "metadata": {},
   "outputs": [
    {
     "name": "stdout",
     "output_type": "stream",
     "text": [
      "FloatTensor > _GeneralizedPointerTensor\n"
     ]
    }
   ],
   "source": [
    "pp(z_gp)"
   ]
  },
  {
   "cell_type": "code",
   "execution_count": 15,
   "metadata": {},
   "outputs": [
    {
     "data": {
      "text/plain": [
       "\n",
       " 3  5\n",
       " 7  9\n",
       "[syft.core.frameworks.torch.tensor.LongTensor of size 2x2]"
      ]
     },
     "execution_count": 15,
     "metadata": {},
     "output_type": "execute_result"
    }
   ],
   "source": [
    "res = []\n",
    "for worker, share in z_gp.child.pointer_tensor_dict.items():\n",
    "    res.append(share.get())\n",
    "(res[0] + res[1]) % field"
   ]
  },
  {
   "cell_type": "markdown",
   "metadata": {},
   "source": [
    "### Towards MPCT"
   ]
  },
  {
   "cell_type": "code",
   "execution_count": 16,
   "metadata": {},
   "outputs": [],
   "source": [
    "x_mpc = mpct(x_gp)\n",
    "y_mpc = mpct(y_gp)"
   ]
  },
  {
   "cell_type": "code",
   "execution_count": 17,
   "metadata": {},
   "outputs": [
    {
     "data": {
      "text/plain": [
       "[_MPCTensor - id:6397047801 owner:0]"
      ]
     },
     "execution_count": 17,
     "metadata": {},
     "output_type": "execute_result"
    }
   ],
   "source": [
    "x_mpc"
   ]
  },
  {
   "cell_type": "code",
   "execution_count": 18,
   "metadata": {},
   "outputs": [
    {
     "name": "stdout",
     "output_type": "stream",
     "text": [
      "LongTensor > _GeneralizedPointerTensor\n",
      "FloatTensor > _GeneralizedPointerTensor\n",
      "{'command': '__sub__', 'has_self': True, 'args': ([_GeneralizedPointerTensor - id:6535698066 owner:0],), 'kwargs': {}, 'self': [_GeneralizedPointerTensor - id:8298842210 owner:0]}\n",
      "ptd:{<syft.core.workers.virtual.VirtualWorker id:alice>: LongTensor[_PointerTensor - id:7551001924 owner:0 loc:alice id@loc:69958378848], <syft.core.workers.virtual.VirtualWorker id:bob>: LongTensor[_PointerTensor - id:6129758784 owner:0 loc:bob id@loc:79318155379]}\n",
      "[[_PointerTensor - id:7551001924 owner:0 loc:alice id@loc:69958378848], [_PointerTensor - id:6129758784 owner:0 loc:bob id@loc:79318155379]]\n",
      "handle call: {'has_self': True, 'self': [_PointerTensor - id:7551001924 owner:0 loc:alice id@loc:69958378848], 'kwargs': {}, 'command': '__sub__', 'args': [[_PointerTensor - id:3910202005 owner:0 loc:alice id@loc:9197251604]]}\n",
      "result:{<syft.core.workers.virtual.VirtualWorker id:alice>: [_PointerTensor - id:1344332015 owner:0 loc:alice id@loc:2397000669]}\n",
      "handle call: {'has_self': True, 'self': [_PointerTensor - id:6129758784 owner:0 loc:bob id@loc:79318155379], 'kwargs': {}, 'command': '__sub__', 'args': [[_PointerTensor - id:182960860 owner:0 loc:bob id@loc:63302671145]]}\n",
      "result:{<syft.core.workers.virtual.VirtualWorker id:alice>: [_PointerTensor - id:1344332015 owner:0 loc:alice id@loc:2397000669], <syft.core.workers.virtual.VirtualWorker id:bob>: [_PointerTensor - id:4603186187 owner:0 loc:bob id@loc:5896543733]}\n",
      "{'command': '__mod__', 'has_self': True, 'args': (2147483647,), 'kwargs': {}, 'self': [_GeneralizedPointerTensor - id:6424980563 owner:0]}\n",
      "ptd:{<syft.core.workers.virtual.VirtualWorker id:alice>: [_PointerTensor - id:1344332015 owner:0 loc:alice id@loc:2397000669], <syft.core.workers.virtual.VirtualWorker id:bob>: [_PointerTensor - id:4603186187 owner:0 loc:bob id@loc:5896543733]}\n",
      "[[_PointerTensor - id:1344332015 owner:0 loc:alice id@loc:2397000669], [_PointerTensor - id:4603186187 owner:0 loc:bob id@loc:5896543733]]\n",
      "handle call: {'has_self': True, 'self': [_PointerTensor - id:1344332015 owner:0 loc:alice id@loc:2397000669], 'kwargs': {}, 'command': '__mod__', 'args': [2147483647]}\n",
      "result:{<syft.core.workers.virtual.VirtualWorker id:alice>: [_PointerTensor - id:8985212925 owner:0 loc:alice id@loc:4384881836]}\n",
      "handle call: {'has_self': True, 'self': [_PointerTensor - id:4603186187 owner:0 loc:bob id@loc:5896543733], 'kwargs': {}, 'command': '__mod__', 'args': [2147483647]}\n",
      "result:{<syft.core.workers.virtual.VirtualWorker id:alice>: [_PointerTensor - id:8985212925 owner:0 loc:alice id@loc:4384881836], <syft.core.workers.virtual.VirtualWorker id:bob>: [_PointerTensor - id:516804641 owner:0 loc:bob id@loc:2774515977]}\n",
      "{'command': '__sub__', 'has_self': True, 'args': ([_GeneralizedPointerTensor - id:501893109 owner:0],), 'kwargs': {}, 'self': [_GeneralizedPointerTensor - id:2087336283 owner:0]}\n",
      "ptd:{<syft.core.workers.virtual.VirtualWorker id:alice>: LongTensor[_PointerTensor - id:6495050051 owner:0 loc:alice id@loc:81275176675], <syft.core.workers.virtual.VirtualWorker id:bob>: LongTensor[_PointerTensor - id:6808919214 owner:0 loc:bob id@loc:60616982618]}\n",
      "[[_PointerTensor - id:6495050051 owner:0 loc:alice id@loc:81275176675], [_PointerTensor - id:6808919214 owner:0 loc:bob id@loc:60616982618]]\n",
      "handle call: {'has_self': True, 'self': [_PointerTensor - id:6495050051 owner:0 loc:alice id@loc:81275176675], 'kwargs': {}, 'command': '__sub__', 'args': [[_PointerTensor - id:9124670711 owner:0 loc:alice id@loc:82902639699]]}\n",
      "result:{<syft.core.workers.virtual.VirtualWorker id:alice>: [_PointerTensor - id:9447008313 owner:0 loc:alice id@loc:515241232]}\n",
      "handle call: {'has_self': True, 'self': [_PointerTensor - id:6808919214 owner:0 loc:bob id@loc:60616982618], 'kwargs': {}, 'command': '__sub__', 'args': [[_PointerTensor - id:927778376 owner:0 loc:bob id@loc:81484690643]]}\n",
      "result:{<syft.core.workers.virtual.VirtualWorker id:alice>: [_PointerTensor - id:9447008313 owner:0 loc:alice id@loc:515241232], <syft.core.workers.virtual.VirtualWorker id:bob>: [_PointerTensor - id:2686498463 owner:0 loc:bob id@loc:4818183039]}\n",
      "{'command': '__mod__', 'has_self': True, 'args': (2147483647,), 'kwargs': {}, 'self': [_GeneralizedPointerTensor - id:8505029099 owner:0]}\n",
      "ptd:{<syft.core.workers.virtual.VirtualWorker id:alice>: [_PointerTensor - id:9447008313 owner:0 loc:alice id@loc:515241232], <syft.core.workers.virtual.VirtualWorker id:bob>: [_PointerTensor - id:2686498463 owner:0 loc:bob id@loc:4818183039]}\n",
      "[[_PointerTensor - id:9447008313 owner:0 loc:alice id@loc:515241232], [_PointerTensor - id:2686498463 owner:0 loc:bob id@loc:4818183039]]\n",
      "handle call: {'has_self': True, 'self': [_PointerTensor - id:9447008313 owner:0 loc:alice id@loc:515241232], 'kwargs': {}, 'command': '__mod__', 'args': [2147483647]}\n",
      "result:{<syft.core.workers.virtual.VirtualWorker id:alice>: [_PointerTensor - id:7579313838 owner:0 loc:alice id@loc:9506337448]}\n",
      "handle call: {'has_self': True, 'self': [_PointerTensor - id:2686498463 owner:0 loc:bob id@loc:4818183039], 'kwargs': {}, 'command': '__mod__', 'args': [2147483647]}\n",
      "result:{<syft.core.workers.virtual.VirtualWorker id:alice>: [_PointerTensor - id:7579313838 owner:0 loc:alice id@loc:9506337448], <syft.core.workers.virtual.VirtualWorker id:bob>: [_PointerTensor - id:7667485444 owner:0 loc:bob id@loc:7858813891]}\n"
     ]
    },
    {
     "ename": "AttributeError",
     "evalue": "type object 'NoneType' has no attribute 'handle_call'",
     "output_type": "error",
     "traceback": [
      "\u001b[0;31m---------------------------------------------------------------------------\u001b[0m",
      "\u001b[0;31mAttributeError\u001b[0m                            Traceback (most recent call last)",
      "\u001b[0;32m<ipython-input-18-2a7b8502998c>\u001b[0m in \u001b[0;36m<module>\u001b[0;34m()\u001b[0m\n\u001b[0;32m----> 1\u001b[0;31m \u001b[0mz_mpc\u001b[0m \u001b[0;34m=\u001b[0m \u001b[0mx_mpc\u001b[0m \u001b[0;34m*\u001b[0m \u001b[0my_mpc\u001b[0m\u001b[0;34m\u001b[0m\u001b[0m\n\u001b[0m",
      "\u001b[0;32m~/Projects/OpenMined/PySyft/syft/core/frameworks/torch/mpc_tensor.py\u001b[0m in \u001b[0;36m__mul__\u001b[0;34m(self, other)\u001b[0m\n\u001b[1;32m     44\u001b[0m     \u001b[0;32mdef\u001b[0m \u001b[0m__mul__\u001b[0m\u001b[0;34m(\u001b[0m\u001b[0mself\u001b[0m\u001b[0;34m,\u001b[0m \u001b[0mother\u001b[0m\u001b[0;34m)\u001b[0m\u001b[0;34m:\u001b[0m\u001b[0;34m\u001b[0m\u001b[0m\n\u001b[1;32m     45\u001b[0m         \u001b[0malice\u001b[0m\u001b[0;34m,\u001b[0m \u001b[0mbob\u001b[0m \u001b[0;34m=\u001b[0m \u001b[0mlist\u001b[0m\u001b[0;34m(\u001b[0m\u001b[0mself\u001b[0m\u001b[0;34m.\u001b[0m\u001b[0mshares\u001b[0m\u001b[0;34m.\u001b[0m\u001b[0mchild\u001b[0m\u001b[0;34m.\u001b[0m\u001b[0mpointer_tensor_dict\u001b[0m\u001b[0;34m.\u001b[0m\u001b[0mkeys\u001b[0m\u001b[0;34m(\u001b[0m\u001b[0;34m)\u001b[0m\u001b[0;34m)\u001b[0m\u001b[0;34m\u001b[0m\u001b[0m\n\u001b[0;32m---> 46\u001b[0;31m         \u001b[0mgp_response\u001b[0m \u001b[0;34m=\u001b[0m \u001b[0mspdz\u001b[0m\u001b[0;34m.\u001b[0m\u001b[0mspdz_mul\u001b[0m\u001b[0;34m(\u001b[0m\u001b[0mself\u001b[0m\u001b[0;34m.\u001b[0m\u001b[0mshares\u001b[0m\u001b[0;34m,\u001b[0m \u001b[0mother\u001b[0m\u001b[0;34m.\u001b[0m\u001b[0mshares\u001b[0m\u001b[0;34m,\u001b[0m \u001b[0malice\u001b[0m\u001b[0;34m,\u001b[0m \u001b[0mbob\u001b[0m\u001b[0;34m)\u001b[0m\u001b[0;34m\u001b[0m\u001b[0m\n\u001b[0m\u001b[1;32m     47\u001b[0m         \u001b[0mresponse\u001b[0m \u001b[0;34m=\u001b[0m \u001b[0m_MPCTensor\u001b[0m\u001b[0;34m(\u001b[0m\u001b[0mgp_response\u001b[0m\u001b[0;34m)\u001b[0m\u001b[0;34m\u001b[0m\u001b[0m\n\u001b[1;32m     48\u001b[0m         \u001b[0;32mreturn\u001b[0m \u001b[0mresponse\u001b[0m\u001b[0;34m\u001b[0m\u001b[0m\n",
      "\u001b[0;32m~/Projects/OpenMined/PySyft/syft/mpc/spdz.py\u001b[0m in \u001b[0;36mspdz_mul\u001b[0;34m(x, y, alice, bob)\u001b[0m\n\u001b[1;32m    117\u001b[0m     \u001b[0me\u001b[0m \u001b[0;34m=\u001b[0m \u001b[0;34m(\u001b[0m\u001b[0my\u001b[0m \u001b[0;34m-\u001b[0m \u001b[0mb\u001b[0m\u001b[0;34m)\u001b[0m \u001b[0;34m%\u001b[0m \u001b[0mfield\u001b[0m\u001b[0;34m\u001b[0m\u001b[0m\n\u001b[1;32m    118\u001b[0m \u001b[0;34m\u001b[0m\u001b[0m\n\u001b[0;32m--> 119\u001b[0;31m     \u001b[0md_other\u001b[0m \u001b[0;34m=\u001b[0m \u001b[0mswap_shares\u001b[0m\u001b[0;34m(\u001b[0m\u001b[0md\u001b[0m\u001b[0;34m)\u001b[0m\u001b[0;34m\u001b[0m\u001b[0m\n\u001b[0m\u001b[1;32m    120\u001b[0m     \u001b[0me_other\u001b[0m \u001b[0;34m=\u001b[0m \u001b[0mswap_shares\u001b[0m\u001b[0;34m(\u001b[0m\u001b[0me\u001b[0m\u001b[0;34m)\u001b[0m\u001b[0;34m\u001b[0m\u001b[0m\n\u001b[1;32m    121\u001b[0m     \u001b[0mdelta\u001b[0m \u001b[0;34m=\u001b[0m \u001b[0;34m(\u001b[0m\u001b[0md\u001b[0m \u001b[0;34m+\u001b[0m \u001b[0md_other\u001b[0m\u001b[0;34m)\u001b[0m \u001b[0;34m%\u001b[0m \u001b[0mfield\u001b[0m\u001b[0;34m\u001b[0m\u001b[0m\n",
      "\u001b[0;32m~/Projects/OpenMined/PySyft/syft/mpc/spdz.py\u001b[0m in \u001b[0;36mswap_shares\u001b[0;34m(shares)\u001b[0m\n\u001b[1;32m     47\u001b[0m     \u001b[0mptd\u001b[0m \u001b[0;34m=\u001b[0m \u001b[0mshares\u001b[0m\u001b[0;34m.\u001b[0m\u001b[0mchild\u001b[0m\u001b[0;34m.\u001b[0m\u001b[0mpointer_tensor_dict\u001b[0m\u001b[0;34m\u001b[0m\u001b[0m\n\u001b[1;32m     48\u001b[0m     \u001b[0malice\u001b[0m\u001b[0;34m,\u001b[0m \u001b[0mbob\u001b[0m \u001b[0;34m=\u001b[0m \u001b[0mlist\u001b[0m\u001b[0;34m(\u001b[0m\u001b[0mptd\u001b[0m\u001b[0;34m.\u001b[0m\u001b[0mkeys\u001b[0m\u001b[0;34m(\u001b[0m\u001b[0;34m)\u001b[0m\u001b[0;34m)\u001b[0m\u001b[0;34m\u001b[0m\u001b[0m\n\u001b[0;32m---> 49\u001b[0;31m     \u001b[0mnew_alice\u001b[0m \u001b[0;34m=\u001b[0m \u001b[0;34m(\u001b[0m\u001b[0mptd\u001b[0m\u001b[0;34m[\u001b[0m\u001b[0malice\u001b[0m\u001b[0;34m]\u001b[0m\u001b[0;34m+\u001b[0m\u001b[0;36m0\u001b[0m\u001b[0;34m)\u001b[0m\u001b[0;34m\u001b[0m\u001b[0m\n\u001b[0m\u001b[1;32m     50\u001b[0m     \u001b[0mnew_bob\u001b[0m \u001b[0;34m=\u001b[0m \u001b[0;34m(\u001b[0m\u001b[0mptd\u001b[0m\u001b[0;34m[\u001b[0m\u001b[0mbob\u001b[0m\u001b[0;34m]\u001b[0m\u001b[0;34m+\u001b[0m\u001b[0;36m0\u001b[0m\u001b[0;34m)\u001b[0m\u001b[0;34m\u001b[0m\u001b[0m\n\u001b[1;32m     51\u001b[0m     \u001b[0mnew_alice\u001b[0m\u001b[0;34m.\u001b[0m\u001b[0msend\u001b[0m\u001b[0;34m(\u001b[0m\u001b[0mbob\u001b[0m\u001b[0;34m)\u001b[0m\u001b[0;34m\u001b[0m\u001b[0m\n",
      "\u001b[0;32m~/Projects/OpenMined/PySyft/syft/core/frameworks/torch/hook.py\u001b[0m in \u001b[0;36m_execute_method_call\u001b[0;34m(self, *args, **kwargs)\u001b[0m\n\u001b[1;32m    420\u001b[0m         \"\"\"\n\u001b[1;32m    421\u001b[0m         \u001b[0;32mdef\u001b[0m \u001b[0m_execute_method_call\u001b[0m\u001b[0;34m(\u001b[0m\u001b[0mself\u001b[0m\u001b[0;34m,\u001b[0m \u001b[0;34m*\u001b[0m\u001b[0margs\u001b[0m\u001b[0;34m,\u001b[0m \u001b[0;34m**\u001b[0m\u001b[0mkwargs\u001b[0m\u001b[0;34m)\u001b[0m\u001b[0;34m:\u001b[0m\u001b[0;34m\u001b[0m\u001b[0m\n\u001b[0;32m--> 422\u001b[0;31m             \u001b[0;32mreturn\u001b[0m \u001b[0mhook_self\u001b[0m\u001b[0;34m.\u001b[0m\u001b[0m_execute_call\u001b[0m\u001b[0;34m(\u001b[0m\u001b[0mattr\u001b[0m\u001b[0;34m,\u001b[0m \u001b[0mself\u001b[0m\u001b[0;34m,\u001b[0m \u001b[0;34m*\u001b[0m\u001b[0margs\u001b[0m\u001b[0;34m,\u001b[0m \u001b[0;34m**\u001b[0m\u001b[0mkwargs\u001b[0m\u001b[0;34m)\u001b[0m\u001b[0;34m\u001b[0m\u001b[0m\n\u001b[0m\u001b[1;32m    423\u001b[0m \u001b[0;34m\u001b[0m\u001b[0m\n\u001b[1;32m    424\u001b[0m         \u001b[0;32mreturn\u001b[0m \u001b[0m_execute_method_call\u001b[0m\u001b[0;34m\u001b[0m\u001b[0m\n",
      "\u001b[0;32m~/Projects/OpenMined/PySyft/syft/core/frameworks/torch/hook.py\u001b[0m in \u001b[0;36m_execute_call\u001b[0;34m(hook_self, attr, self, *args, **kwargs)\u001b[0m\n\u001b[1;32m    474\u001b[0m         \u001b[0mForward\u001b[0m \u001b[0mthe\u001b[0m \u001b[0mcall\u001b[0m \u001b[0mto\u001b[0m \u001b[0mthe\u001b[0m \u001b[0mlocal_worker\u001b[0m\u001b[0;34m\u001b[0m\u001b[0m\n\u001b[1;32m    475\u001b[0m         \"\"\"\n\u001b[0;32m--> 476\u001b[0;31m         \u001b[0;32mreturn\u001b[0m \u001b[0mhook_self\u001b[0m\u001b[0;34m.\u001b[0m\u001b[0mlocal_worker\u001b[0m\u001b[0;34m.\u001b[0m\u001b[0m_execute_call\u001b[0m\u001b[0;34m(\u001b[0m\u001b[0mattr\u001b[0m\u001b[0;34m,\u001b[0m \u001b[0mself\u001b[0m\u001b[0;34m,\u001b[0m \u001b[0;34m*\u001b[0m\u001b[0margs\u001b[0m\u001b[0;34m,\u001b[0m \u001b[0;34m**\u001b[0m\u001b[0mkwargs\u001b[0m\u001b[0;34m)\u001b[0m\u001b[0;34m\u001b[0m\u001b[0m\n\u001b[0m\u001b[1;32m    477\u001b[0m \u001b[0;34m\u001b[0m\u001b[0m\n\u001b[1;32m    478\u001b[0m     \u001b[0;32mdef\u001b[0m \u001b[0m_hook_backward\u001b[0m\u001b[0;34m(\u001b[0m\u001b[0mhook_self\u001b[0m\u001b[0;34m)\u001b[0m\u001b[0;34m:\u001b[0m\u001b[0;34m\u001b[0m\u001b[0m\n",
      "\u001b[0;32m~/Projects/OpenMined/PySyft/syft/core/workers/base.py\u001b[0m in \u001b[0;36m_execute_call\u001b[0;34m(self, attr, self_, *args, **kwargs)\u001b[0m\n\u001b[1;32m    749\u001b[0m         \u001b[0;31m# and because having Virtual workers creates even more ambiguity, we specify the worker\u001b[0m\u001b[0;34m\u001b[0m\u001b[0;34m\u001b[0m\u001b[0m\n\u001b[1;32m    750\u001b[0m         \u001b[0;31m# performing the operation\u001b[0m\u001b[0;34m\u001b[0m\u001b[0;34m\u001b[0m\u001b[0m\n\u001b[0;32m--> 751\u001b[0;31m         \u001b[0mresult\u001b[0m \u001b[0;34m=\u001b[0m \u001b[0mchild_type\u001b[0m\u001b[0;34m.\u001b[0m\u001b[0mhandle_call\u001b[0m\u001b[0;34m(\u001b[0m\u001b[0msyft_command\u001b[0m\u001b[0;34m,\u001b[0m \u001b[0mowner\u001b[0m\u001b[0;34m=\u001b[0m\u001b[0mself\u001b[0m\u001b[0;34m)\u001b[0m\u001b[0;34m\u001b[0m\u001b[0m\n\u001b[0m\u001b[1;32m    752\u001b[0m \u001b[0;34m\u001b[0m\u001b[0m\n\u001b[1;32m    753\u001b[0m         \u001b[0mtorch_utils\u001b[0m\u001b[0;34m.\u001b[0m\u001b[0menforce_owner\u001b[0m\u001b[0;34m(\u001b[0m\u001b[0;34m(\u001b[0m\u001b[0mraw_command\u001b[0m\u001b[0;34m,\u001b[0m \u001b[0mresult\u001b[0m\u001b[0;34m)\u001b[0m\u001b[0;34m,\u001b[0m \u001b[0mself\u001b[0m\u001b[0;34m)\u001b[0m\u001b[0;34m\u001b[0m\u001b[0m\n",
      "\u001b[0;31mAttributeError\u001b[0m: type object 'NoneType' has no attribute 'handle_call'"
     ]
    }
   ],
   "source": [
    "z_mpc = x_mpc * y_mpc"
   ]
  },
  {
   "cell_type": "code",
   "execution_count": 19,
   "metadata": {},
   "outputs": [
    {
     "ename": "NameError",
     "evalue": "name 'z_mpc' is not defined",
     "output_type": "error",
     "traceback": [
      "\u001b[0;31m---------------------------------------------------------------------------\u001b[0m",
      "\u001b[0;31mNameError\u001b[0m                                 Traceback (most recent call last)",
      "\u001b[0;32m<ipython-input-19-3cb9744de63e>\u001b[0m in \u001b[0;36m<module>\u001b[0;34m()\u001b[0m\n\u001b[0;32m----> 1\u001b[0;31m \u001b[0mz_mpc\u001b[0m\u001b[0;34m\u001b[0m\u001b[0m\n\u001b[0m",
      "\u001b[0;31mNameError\u001b[0m: name 'z_mpc' is not defined"
     ]
    }
   ],
   "source": [
    "z_mpc"
   ]
  },
  {
   "cell_type": "code",
   "execution_count": 20,
   "metadata": {},
   "outputs": [
    {
     "ename": "NameError",
     "evalue": "name 'z_mpc' is not defined",
     "output_type": "error",
     "traceback": [
      "\u001b[0;31m---------------------------------------------------------------------------\u001b[0m",
      "\u001b[0;31mNameError\u001b[0m                                 Traceback (most recent call last)",
      "\u001b[0;32m<ipython-input-20-811d134f6574>\u001b[0m in \u001b[0;36m<module>\u001b[0;34m()\u001b[0m\n\u001b[1;32m      1\u001b[0m \u001b[0mres\u001b[0m \u001b[0;34m=\u001b[0m \u001b[0;34m[\u001b[0m\u001b[0;34m]\u001b[0m\u001b[0;34m\u001b[0m\u001b[0m\n\u001b[0;32m----> 2\u001b[0;31m \u001b[0;32mfor\u001b[0m \u001b[0mworker\u001b[0m\u001b[0;34m,\u001b[0m \u001b[0mshare\u001b[0m \u001b[0;32min\u001b[0m \u001b[0mz_mpc\u001b[0m\u001b[0;34m.\u001b[0m\u001b[0mshares\u001b[0m\u001b[0;34m.\u001b[0m\u001b[0mchild\u001b[0m\u001b[0;34m.\u001b[0m\u001b[0mpointer_tensor_dict\u001b[0m\u001b[0;34m.\u001b[0m\u001b[0mitems\u001b[0m\u001b[0;34m(\u001b[0m\u001b[0;34m)\u001b[0m\u001b[0;34m:\u001b[0m\u001b[0;34m\u001b[0m\u001b[0m\n\u001b[0m\u001b[1;32m      3\u001b[0m     \u001b[0mres\u001b[0m\u001b[0;34m.\u001b[0m\u001b[0mappend\u001b[0m\u001b[0;34m(\u001b[0m\u001b[0mshare\u001b[0m\u001b[0;34m.\u001b[0m\u001b[0mget\u001b[0m\u001b[0;34m(\u001b[0m\u001b[0;34m)\u001b[0m\u001b[0;34m)\u001b[0m\u001b[0;34m\u001b[0m\u001b[0m\n\u001b[1;32m      4\u001b[0m \u001b[0;34m(\u001b[0m\u001b[0mres\u001b[0m\u001b[0;34m[\u001b[0m\u001b[0;36m0\u001b[0m\u001b[0;34m]\u001b[0m \u001b[0;34m+\u001b[0m \u001b[0mres\u001b[0m\u001b[0;34m[\u001b[0m\u001b[0;36m1\u001b[0m\u001b[0;34m]\u001b[0m\u001b[0;34m)\u001b[0m \u001b[0;34m%\u001b[0m \u001b[0mfield\u001b[0m\u001b[0;34m\u001b[0m\u001b[0m\n",
      "\u001b[0;31mNameError\u001b[0m: name 'z_mpc' is not defined"
     ]
    }
   ],
   "source": [
    "res = []\n",
    "for worker, share in z_mpc.shares.child.pointer_tensor_dict.items():\n",
    "    res.append(share.get())\n",
    "(res[0] + res[1]) % field"
   ]
  },
  {
   "cell_type": "code",
   "execution_count": null,
   "metadata": {},
   "outputs": [],
   "source": []
  }
 ],
 "metadata": {
  "kernelspec": {
   "display_name": "Python 3",
   "language": "python",
   "name": "python3"
  },
  "language_info": {
   "codemirror_mode": {
    "name": "ipython",
    "version": 3
   },
   "file_extension": ".py",
   "mimetype": "text/x-python",
   "name": "python",
   "nbconvert_exporter": "python",
   "pygments_lexer": "ipython3",
   "version": "3.6.5"
  }
 },
 "nbformat": 4,
 "nbformat_minor": 2
}
