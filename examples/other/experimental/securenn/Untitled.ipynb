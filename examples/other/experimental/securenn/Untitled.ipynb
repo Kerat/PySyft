{
 "cells": [
  {
   "cell_type": "code",
   "execution_count": 1,
   "metadata": {},
   "outputs": [],
   "source": [
    "import syft as sy\n",
    "from syft.spdz import spdz\n",
    "from syft.mpc.securenn import decompose, select_shares, private_compare, generate_zero_shares_communication, msb, relu_deriv\n",
    "from syft.core.frameworks.torch.tensor import _GeneralizedPointerTensor, _SPDZTensor, _SNNTensor\n",
    "from syft.core.frameworks.torch import utils as torch_utils\n",
    "\n",
    "import unittest\n",
    "import numpy as np\n",
    "import torch\n",
    "import importlib\n",
    "\n",
    "global display_chain\n",
    "\n",
    "class Chain():\n",
    "    def __init__(self, leaf=False):\n",
    "        if not leaf:\n",
    "            self.tensor = Chain(True)\n",
    "            self.var = Chain(True)\n",
    "\n",
    "display_chain = Chain()\n",
    "\n",
    "display_chain.tensor.local = 'FloatTensor > _LocalTensor'\n",
    "\n",
    "display_chain.tensor.pointer = 'FloatTensor > _PointerTensor'\n",
    "\n",
    "display_chain.tensor.fixp_local = 'FloatTensor > _FixedPrecisionTensor > LongTensor > _LocalTensor'\n",
    "\n",
    "display_chain.tensor.fixp_mpc_gpt = 'FloatTensor > _FixedPrecisionTensor > LongTensor > _SNNTensor > LongTensor > _GeneralizedPointerTensor'\n",
    "\n",
    "display_chain.var.local = 'Variable > _LocalTensor\\n' \\\n",
    "                          ' - FloatTensor > _LocalTensor\\n' \\\n",
    "                          ' - - Variable > _LocalTensor\\n' \\\n",
    "                          '   - FloatTensor > _LocalTensor'\n",
    "\n",
    "display_chain.var.pointer = 'Variable > _PointerTensor\\n' \\\n",
    "                            ' - FloatTensor > _PointerTensor\\n' \\\n",
    "                            ' - - Variable > _PointerTensor\\n' \\\n",
    "                            '   - FloatTensor > _PointerTensor'\n",
    "\n",
    "display_chain.var.fixp_local = 'Variable > _FixedPrecisionTensor > Variable > _LocalTensor\\n' \\\n",
    "                               ' - FloatTensor > _FixedPrecisionTensor > LongTensor > _LocalTensor\\n' \\\n",
    "                               ' - - Variable > _FixedPrecisionTensor > Variable > _LocalTensor\\n' \\\n",
    "                               '   - FloatTensor > _FixedPrecisionTensor > LongTensor > _LocalTensor'\n",
    "\n",
    "display_chain.var.fixp_mpc_gpt = 'Variable > _FixedPrecisionTensor > Variable > _SNNTensor > Variable > _GeneralizedPointerTensor\\n' \\\n",
    "                                 ' - FloatTensor > _FixedPrecisionTensor > LongTensor > _SNNTensor > LongTensor > _GeneralizedPointerTensor\\n' \\\n",
    "                                 ' - - Variable > _FixedPrecisionTensor > Variable > _SNNTensor > Variable > _GeneralizedPointerTensor\\n' \\\n",
    "                                 '   - FloatTensor > _FixedPrecisionTensor > LongTensor > _SNNTensor > LongTensor > _LocalTensor'\n"
   ]
  },
  {
   "cell_type": "code",
   "execution_count": 2,
   "metadata": {},
   "outputs": [
    {
     "name": "stderr",
     "output_type": "stream",
     "text": [
      "WARNING:root:Worker bob already exists. Replacing old worker which could cause unexpected behavior\n",
      "WARNING:root:Worker alice already exists. Replacing old worker which could cause unexpected behavior\n",
      "WARNING:root:Worker 0 already exists. Replacing old worker which could cause unexpected behavior\n",
      "WARNING:root:Worker 0 already exists. Replacing old worker which could cause unexpected behavior\n"
     ]
    }
   ],
   "source": [
    "hook = sy.TorchHook(verbose=True)\n",
    "\n",
    "me = hook.local_worker\n",
    "me.is_client_worker = False\n",
    "\n",
    "bob = sy.VirtualWorker(id=\"bob\", hook=hook, is_client_worker=False)\n",
    "alice = sy.VirtualWorker(id=\"alice\", hook=hook, is_client_worker=False)\n",
    "\n",
    "me.add_workers([bob, alice])\n",
    "bob.add_workers([me, alice])\n",
    "alice.add_workers([me, bob])"
   ]
  },
  {
   "cell_type": "code",
   "execution_count": 3,
   "metadata": {},
   "outputs": [],
   "source": [
    "L = spdz.Q_BITS\n",
    "\n",
    "def random_as(tensor, mod=L):\n",
    "    r = torch.LongTensor(tensor.get_shape()).random_(mod)\n",
    "    return r\n",
    "\n",
    "def xor(x, y):\n",
    "    return x + y - 2 * x * y\n",
    "\n",
    "def flip(x, dim):\n",
    "    indices = torch.arange(x.get_shape()[dim] - 1, -1, -1).long()\n",
    "\n",
    "    if hasattr(x.child, 'pointer_tensor_dict'):\n",
    "        indices = indices.send(*list(x.child.pointer_tensor_dict.keys()))\n",
    "\n",
    "    return x.index_select(dim, indices)"
   ]
  },
  {
   "cell_type": "code",
   "execution_count": 4,
   "metadata": {},
   "outputs": [],
   "source": [
    "a = (torch.LongTensor([-1,3,-5,7])).share(alice,bob)\n",
    "# d = relu_deriv(a)"
   ]
  },
  {
   "cell_type": "code",
   "execution_count": 5,
   "metadata": {},
   "outputs": [
    {
     "data": {
      "text/plain": [
       "syft.core.frameworks.torch.tensor._SNNTensor"
      ]
     },
     "execution_count": 5,
     "metadata": {},
     "output_type": "execute_result"
    }
   ],
   "source": [
    "type(a.child)"
   ]
  },
  {
   "cell_type": "code",
   "execution_count": null,
   "metadata": {},
   "outputs": [],
   "source": []
  },
  {
   "cell_type": "code",
   "execution_count": 8,
   "metadata": {},
   "outputs": [
    {
     "data": {
      "text/plain": [
       "False"
      ]
     },
     "execution_count": 8,
     "metadata": {},
     "output_type": "execute_result"
    }
   ],
   "source": [
    "torch_utils.is_syft_tensor(type(a.child))"
   ]
  },
  {
   "cell_type": "code",
   "execution_count": 5,
   "metadata": {},
   "outputs": [],
   "source": [
    "b = a.relu()"
   ]
  },
  {
   "cell_type": "code",
   "execution_count": 6,
   "metadata": {},
   "outputs": [
    {
     "data": {
      "text/plain": [
       "\n",
       " 0\n",
       " 3\n",
       " 0\n",
       " 7\n",
       "[syft.core.frameworks.torch.tensor.LongTensor of size 4]"
      ]
     },
     "execution_count": 6,
     "metadata": {},
     "output_type": "execute_result"
    }
   ],
   "source": [
    "b.get()"
   ]
  },
  {
   "cell_type": "code",
   "execution_count": 7,
   "metadata": {},
   "outputs": [
    {
     "ename": "Exception",
     "evalue": "could not deserialize an object sent to router\n{'___SNNTensor__': {'owner': 'bob', 'id': 131439295, 'shares': {'__LongTensor__': {'type': 'syft.core.frameworks.torch.tensor.LongTensor', 'torch_type': 'syft.LongTensor', 'data': [1100000, 2000000, 3000000], 'child': {'___GeneralizedPointerTensor__': {'owner': 'bob', 'id': 5323991053, 'pointer_tensor_dict': {'alice': {'___PointerTensor__': {'owner': 0, 'id': 6388814402, 'location': 'alice', 'id_at_location': 27111993731, 'torch_type': 'syft.LongTensor'}}, 'bob': {'___PointerTensor__': {'owner': 0, 'id': 9563565848, 'location': 'bob', 'id_at_location': 70111375023, 'torch_type': 'syft.LongTensor'}}}, 'torch_type': 'syft.LongTensor'}}}}, 'torch_type': 'syft.LongTensor'}}",
     "output_type": "error",
     "traceback": [
      "\u001b[0;31m---------------------------------------------------------------------------\u001b[0m",
      "\u001b[0;31mException\u001b[0m                                 Traceback (most recent call last)",
      "\u001b[0;32m<ipython-input-7-ddb6475620a4>\u001b[0m in \u001b[0;36m<module>\u001b[0;34m()\u001b[0m\n\u001b[1;32m      7\u001b[0m \u001b[0mz\u001b[0m \u001b[0;34m=\u001b[0m \u001b[0mx\u001b[0m \u001b[0;34m+\u001b[0m \u001b[0mx\u001b[0m\u001b[0;34m\u001b[0m\u001b[0m\n\u001b[1;32m      8\u001b[0m \u001b[0;34m\u001b[0m\u001b[0m\n\u001b[0;32m----> 9\u001b[0;31m \u001b[0mx\u001b[0m \u001b[0;34m=\u001b[0m \u001b[0mx\u001b[0m\u001b[0;34m.\u001b[0m\u001b[0mget\u001b[0m\u001b[0;34m(\u001b[0m\u001b[0;34m)\u001b[0m\u001b[0;34m\u001b[0m\u001b[0m\n\u001b[0m",
      "\u001b[0;32m/Users/atrask/anaconda/lib/python3.6/site-packages/syft-0.1.0-py3.6.egg/syft/core/frameworks/torch/tensor.py\u001b[0m in \u001b[0;36mget\u001b[0;34m(self, deregister_ptr, update_ptr_wrapper)\u001b[0m\n\u001b[1;32m   1831\u001b[0m \u001b[0;34m\u001b[0m\u001b[0m\n\u001b[1;32m   1832\u001b[0m         \u001b[0;31m# returns a Tensor object wrapping a SyftTensor\u001b[0m\u001b[0;34m\u001b[0m\u001b[0;34m\u001b[0m\u001b[0m\n\u001b[0;32m-> 1833\u001b[0;31m         \u001b[0mtensor\u001b[0m \u001b[0;34m=\u001b[0m \u001b[0mself\u001b[0m\u001b[0;34m.\u001b[0m\u001b[0mchild\u001b[0m\u001b[0;34m.\u001b[0m\u001b[0mget\u001b[0m\u001b[0;34m(\u001b[0m\u001b[0mderegister_ptr\u001b[0m\u001b[0;34m=\u001b[0m\u001b[0mderegister_ptr\u001b[0m\u001b[0;34m)\u001b[0m\u001b[0;34m\u001b[0m\u001b[0m\n\u001b[0m\u001b[1;32m   1834\u001b[0m \u001b[0;34m\u001b[0m\u001b[0m\n\u001b[1;32m   1835\u001b[0m         \u001b[0;31m# GeneralizedPointerTensor returns a list\u001b[0m\u001b[0;34m\u001b[0m\u001b[0;34m\u001b[0m\u001b[0m\n",
      "\u001b[0;32m/Users/atrask/anaconda/lib/python3.6/site-packages/syft-0.1.0-py3.6.egg/syft/core/frameworks/torch/tensor.py\u001b[0m in \u001b[0;36mget\u001b[0;34m(self, deregister_ptr)\u001b[0m\n\u001b[1;32m    989\u001b[0m \u001b[0;34m\u001b[0m\u001b[0m\n\u001b[1;32m    990\u001b[0m         \u001b[0;31m# get SyftTensor (Local or Pointer) from remote machine\u001b[0m\u001b[0;34m\u001b[0m\u001b[0;34m\u001b[0m\u001b[0m\n\u001b[0;32m--> 991\u001b[0;31m         \u001b[0mtensorvar\u001b[0m \u001b[0;34m=\u001b[0m \u001b[0mself\u001b[0m\u001b[0;34m.\u001b[0m\u001b[0mowner\u001b[0m\u001b[0;34m.\u001b[0m\u001b[0mrequest_obj\u001b[0m\u001b[0;34m(\u001b[0m\u001b[0mself\u001b[0m\u001b[0;34m.\u001b[0m\u001b[0mid_at_location\u001b[0m\u001b[0;34m,\u001b[0m \u001b[0mself\u001b[0m\u001b[0;34m.\u001b[0m\u001b[0mlocation\u001b[0m\u001b[0;34m)\u001b[0m\u001b[0;34m\u001b[0m\u001b[0m\n\u001b[0m\u001b[1;32m    992\u001b[0m         \u001b[0mtorch_utils\u001b[0m\u001b[0;34m.\u001b[0m\u001b[0massert_has_only_torch_tensorvars\u001b[0m\u001b[0;34m(\u001b[0m\u001b[0mtensorvar\u001b[0m\u001b[0;34m)\u001b[0m\u001b[0;34m\u001b[0m\u001b[0m\n\u001b[1;32m    993\u001b[0m \u001b[0;34m\u001b[0m\u001b[0m\n",
      "\u001b[0;32m/Users/atrask/anaconda/lib/python3.6/site-packages/syft-0.1.0-py3.6.egg/syft/core/workers/base.py\u001b[0m in \u001b[0;36mrequest_obj\u001b[0;34m(self, obj_id, recipient)\u001b[0m\n\u001b[1;32m   1131\u001b[0m                                recipient=recipient)\n\u001b[1;32m   1132\u001b[0m \u001b[0;34m\u001b[0m\u001b[0m\n\u001b[0;32m-> 1133\u001b[0;31m         \u001b[0mobject\u001b[0m \u001b[0;34m=\u001b[0m \u001b[0mencode\u001b[0m\u001b[0;34m.\u001b[0m\u001b[0mdecode\u001b[0m\u001b[0;34m(\u001b[0m\u001b[0mobject\u001b[0m\u001b[0;34m,\u001b[0m \u001b[0mworker\u001b[0m\u001b[0;34m=\u001b[0m\u001b[0mself\u001b[0m\u001b[0;34m)\u001b[0m\u001b[0;34m\u001b[0m\u001b[0m\n\u001b[0m\u001b[1;32m   1134\u001b[0m \u001b[0;34m\u001b[0m\u001b[0m\n\u001b[1;32m   1135\u001b[0m         \u001b[0;31m# for some reason, when returning obj from request_obj method, the gradient\u001b[0m\u001b[0;34m\u001b[0m\u001b[0;34m\u001b[0m\u001b[0m\n",
      "\u001b[0;32m/Users/atrask/anaconda/lib/python3.6/site-packages/syft-0.1.0-py3.6.egg/syft/core/frameworks/encode.py\u001b[0m in \u001b[0;36mdecode\u001b[0;34m(message, worker, acquire, message_is_dict)\u001b[0m\n\u001b[1;32m    181\u001b[0m     \u001b[0;32mif\u001b[0m \u001b[0misinstance\u001b[0m\u001b[0;34m(\u001b[0m\u001b[0mmessage\u001b[0m\u001b[0;34m,\u001b[0m \u001b[0mdict\u001b[0m\u001b[0;34m)\u001b[0m \u001b[0;32mand\u001b[0m \u001b[0;34m'mode'\u001b[0m \u001b[0;32min\u001b[0m \u001b[0mmessage\u001b[0m\u001b[0;34m:\u001b[0m\u001b[0;34m\u001b[0m\u001b[0m\n\u001b[1;32m    182\u001b[0m         \u001b[0mdecoder\u001b[0m\u001b[0;34m.\u001b[0m\u001b[0macquire\u001b[0m \u001b[0;34m=\u001b[0m \u001b[0;32mTrue\u001b[0m \u001b[0;32mif\u001b[0m \u001b[0mmessage\u001b[0m\u001b[0;34m[\u001b[0m\u001b[0;34m'mode'\u001b[0m\u001b[0;34m]\u001b[0m \u001b[0;34m==\u001b[0m \u001b[0;34m'acquire'\u001b[0m \u001b[0;32melse\u001b[0m \u001b[0;32mFalse\u001b[0m\u001b[0;34m\u001b[0m\u001b[0m\n\u001b[0;32m--> 183\u001b[0;31m         \u001b[0mmessage\u001b[0m \u001b[0;34m=\u001b[0m \u001b[0mdecoder\u001b[0m\u001b[0;34m.\u001b[0m\u001b[0mpython_decode\u001b[0m\u001b[0;34m(\u001b[0m\u001b[0mmessage\u001b[0m\u001b[0;34m[\u001b[0m\u001b[0;34m'obj'\u001b[0m\u001b[0;34m]\u001b[0m\u001b[0;34m)\u001b[0m\u001b[0;34m\u001b[0m\u001b[0m\n\u001b[0m\u001b[1;32m    184\u001b[0m \u001b[0;34m\u001b[0m\u001b[0m\n\u001b[1;32m    185\u001b[0m     \u001b[0;32mif\u001b[0m \u001b[0;34m'message'\u001b[0m \u001b[0;32min\u001b[0m \u001b[0mdict_message\u001b[0m\u001b[0;34m:\u001b[0m\u001b[0;34m\u001b[0m\u001b[0m\n",
      "\u001b[0;32m/Users/atrask/anaconda/lib/python3.6/site-packages/syft-0.1.0-py3.6.egg/syft/core/frameworks/encode.py\u001b[0m in \u001b[0;36mpython_decode\u001b[0;34m(self, dct)\u001b[0m\n\u001b[1;32m    272\u001b[0m                 \u001b[0;31m# Case of a tensor\u001b[0m\u001b[0;34m\u001b[0m\u001b[0;34m\u001b[0m\u001b[0m\n\u001b[1;32m    273\u001b[0m                 \u001b[0;32mif\u001b[0m \u001b[0mtorch_utils\u001b[0m\u001b[0;34m.\u001b[0m\u001b[0mis_tensor\u001b[0m\u001b[0;34m(\u001b[0m\u001b[0mobj_type\u001b[0m\u001b[0;34m)\u001b[0m\u001b[0;34m:\u001b[0m\u001b[0;34m\u001b[0m\u001b[0m\n\u001b[0;32m--> 274\u001b[0;31m                     \u001b[0mo\u001b[0m \u001b[0;34m=\u001b[0m \u001b[0mtorch\u001b[0m\u001b[0;34m.\u001b[0m\u001b[0mguard\u001b[0m\u001b[0;34m[\u001b[0m\u001b[0;34m'syft.'\u001b[0m \u001b[0;34m+\u001b[0m \u001b[0mobj_type\u001b[0m\u001b[0;34m]\u001b[0m\u001b[0;34m.\u001b[0m\u001b[0mdeser\u001b[0m\u001b[0;34m(\u001b[0m\u001b[0;34m{\u001b[0m\u001b[0mkey\u001b[0m\u001b[0;34m:\u001b[0m \u001b[0mobj\u001b[0m\u001b[0;34m}\u001b[0m\u001b[0;34m,\u001b[0m \u001b[0mself\u001b[0m\u001b[0;34m.\u001b[0m\u001b[0mworker\u001b[0m\u001b[0;34m,\u001b[0m \u001b[0mself\u001b[0m\u001b[0;34m.\u001b[0m\u001b[0macquire\u001b[0m\u001b[0;34m)\u001b[0m\u001b[0;34m\u001b[0m\u001b[0m\n\u001b[0m\u001b[1;32m    275\u001b[0m                     \u001b[0;32mreturn\u001b[0m \u001b[0mo\u001b[0m\u001b[0;34m\u001b[0m\u001b[0m\n\u001b[1;32m    276\u001b[0m                 \u001b[0;31m# Case of a Variable\u001b[0m\u001b[0;34m\u001b[0m\u001b[0;34m\u001b[0m\u001b[0m\n",
      "\u001b[0;32m/Users/atrask/anaconda/lib/python3.6/site-packages/syft-0.1.0-py3.6.egg/syft/core/frameworks/torch/tensor.py\u001b[0m in \u001b[0;36mdeser\u001b[0;34m(msg_obj, worker, acquire)\u001b[0m\n\u001b[1;32m   1740\u001b[0m \u001b[0;34m\u001b[0m\u001b[0m\n\u001b[1;32m   1741\u001b[0m         \u001b[0mobj_type\u001b[0m\u001b[0;34m,\u001b[0m \u001b[0mmsg_obj\u001b[0m \u001b[0;34m=\u001b[0m \u001b[0mtorch_utils\u001b[0m\u001b[0;34m.\u001b[0m\u001b[0mextract_type_and_obj\u001b[0m\u001b[0;34m(\u001b[0m\u001b[0mmsg_obj\u001b[0m\u001b[0;34m)\u001b[0m\u001b[0;34m\u001b[0m\u001b[0m\n\u001b[0;32m-> 1742\u001b[0;31m         \u001b[0msyft_obj\u001b[0m \u001b[0;34m=\u001b[0m \u001b[0msy\u001b[0m\u001b[0;34m.\u001b[0m\u001b[0m_SyftTensor\u001b[0m\u001b[0;34m.\u001b[0m\u001b[0mdeser_routing\u001b[0m\u001b[0;34m(\u001b[0m\u001b[0mmsg_obj\u001b[0m\u001b[0;34m[\u001b[0m\u001b[0;34m'child'\u001b[0m\u001b[0;34m]\u001b[0m\u001b[0;34m,\u001b[0m \u001b[0mworker\u001b[0m\u001b[0;34m,\u001b[0m \u001b[0macquire\u001b[0m\u001b[0;34m)\u001b[0m\u001b[0;34m\u001b[0m\u001b[0m\n\u001b[0m\u001b[1;32m   1743\u001b[0m \u001b[0;34m\u001b[0m\u001b[0m\n\u001b[1;32m   1744\u001b[0m         \u001b[0;31m# If we have retrieved an already existing object (TODO: add checks) then return it\u001b[0m\u001b[0;34m\u001b[0m\u001b[0;34m\u001b[0m\u001b[0m\n",
      "\u001b[0;32m/Users/atrask/anaconda/lib/python3.6/site-packages/syft-0.1.0-py3.6.egg/syft/core/frameworks/torch/tensor.py\u001b[0m in \u001b[0;36mdeser_routing\u001b[0;34m(cls, dct, worker, acquire)\u001b[0m\n\u001b[1;32m    238\u001b[0m                 \u001b[0;32melse\u001b[0m\u001b[0;34m:\u001b[0m\u001b[0;34m\u001b[0m\u001b[0m\n\u001b[1;32m    239\u001b[0m                     \u001b[0msyft_type\u001b[0m \u001b[0;34m=\u001b[0m \u001b[0mtorch\u001b[0m\u001b[0;34m.\u001b[0m\u001b[0mguard\u001b[0m\u001b[0;34m[\u001b[0m\u001b[0;34m'syft.'\u001b[0m \u001b[0;34m+\u001b[0m \u001b[0mobj_type\u001b[0m\u001b[0;34m]\u001b[0m\u001b[0;34m\u001b[0m\u001b[0m\n\u001b[0;32m--> 240\u001b[0;31m                     \u001b[0;32mreturn\u001b[0m \u001b[0msyft_type\u001b[0m\u001b[0;34m.\u001b[0m\u001b[0mdeser\u001b[0m\u001b[0;34m(\u001b[0m\u001b[0mobj\u001b[0m\u001b[0;34m,\u001b[0m \u001b[0mworker\u001b[0m\u001b[0;34m,\u001b[0m \u001b[0macquire\u001b[0m\u001b[0;34m)\u001b[0m\u001b[0;34m\u001b[0m\u001b[0m\n\u001b[0m\u001b[1;32m    241\u001b[0m \u001b[0;34m\u001b[0m\u001b[0m\n\u001b[1;32m    242\u001b[0m         \u001b[0;32mraise\u001b[0m \u001b[0mException\u001b[0m\u001b[0;34m(\u001b[0m\u001b[0;34m\"could not deserialize an object sent to router\\n\"\u001b[0m\u001b[0;34m+\u001b[0m\u001b[0mstr\u001b[0m\u001b[0;34m(\u001b[0m\u001b[0mdct\u001b[0m\u001b[0;34m)\u001b[0m\u001b[0;34m)\u001b[0m\u001b[0;34m\u001b[0m\u001b[0m\n",
      "\u001b[0;32m/Users/atrask/anaconda/lib/python3.6/site-packages/syft-0.1.0-py3.6.egg/syft/core/frameworks/torch/tensor.py\u001b[0m in \u001b[0;36mdeser\u001b[0;34m(cls, msg_obj, worker, acquire)\u001b[0m\n\u001b[1;32m   1090\u001b[0m \u001b[0;34m\u001b[0m\u001b[0m\n\u001b[1;32m   1091\u001b[0m         \u001b[0;32mif\u001b[0m \u001b[0macquire\u001b[0m\u001b[0;34m:\u001b[0m\u001b[0;34m\u001b[0m\u001b[0m\n\u001b[0;32m-> 1092\u001b[0;31m             \u001b[0mchild\u001b[0m \u001b[0;34m=\u001b[0m \u001b[0mencode\u001b[0m\u001b[0;34m.\u001b[0m\u001b[0mdecode\u001b[0m\u001b[0;34m(\u001b[0m\u001b[0mmsg_obj\u001b[0m\u001b[0;34m[\u001b[0m\u001b[0;34m'child'\u001b[0m\u001b[0;34m]\u001b[0m\u001b[0;34m,\u001b[0m \u001b[0mworker\u001b[0m\u001b[0;34m,\u001b[0m \u001b[0macquire\u001b[0m\u001b[0;34m,\u001b[0m \u001b[0mmessage_is_dict\u001b[0m\u001b[0;34m=\u001b[0m\u001b[0;32mTrue\u001b[0m\u001b[0;34m)\u001b[0m\u001b[0;34m\u001b[0m\u001b[0m\n\u001b[0m\u001b[1;32m   1093\u001b[0m \u001b[0;34m\u001b[0m\u001b[0m\n\u001b[1;32m   1094\u001b[0m             obj = _FixedPrecisionTensor(child=child,\n",
      "\u001b[0;32m/Users/atrask/anaconda/lib/python3.6/site-packages/syft-0.1.0-py3.6.egg/syft/core/frameworks/encode.py\u001b[0m in \u001b[0;36mdecode\u001b[0;34m(message, worker, acquire, message_is_dict)\u001b[0m\n\u001b[1;32m    169\u001b[0m     \u001b[0;31m# we want to decode everything of the message\u001b[0m\u001b[0;34m\u001b[0m\u001b[0;34m\u001b[0m\u001b[0m\n\u001b[1;32m    170\u001b[0m     \u001b[0;32mif\u001b[0m \u001b[0macquire\u001b[0m \u001b[0;32mis\u001b[0m \u001b[0;32mnot\u001b[0m \u001b[0;32mNone\u001b[0m\u001b[0;34m:\u001b[0m\u001b[0;34m\u001b[0m\u001b[0m\n\u001b[0;32m--> 171\u001b[0;31m         \u001b[0;32mreturn\u001b[0m \u001b[0mdecoder\u001b[0m\u001b[0;34m.\u001b[0m\u001b[0mpython_decode\u001b[0m\u001b[0;34m(\u001b[0m\u001b[0mmessage\u001b[0m\u001b[0;34m)\u001b[0m\u001b[0;34m\u001b[0m\u001b[0m\n\u001b[0m\u001b[1;32m    172\u001b[0m \u001b[0;34m\u001b[0m\u001b[0m\n\u001b[1;32m    173\u001b[0m     \u001b[0;31m# TODO It would be good to have a standardized place to put the 'mode' argument\u001b[0m\u001b[0;34m\u001b[0m\u001b[0;34m\u001b[0m\u001b[0m\n",
      "\u001b[0;32m/Users/atrask/anaconda/lib/python3.6/site-packages/syft-0.1.0-py3.6.egg/syft/core/frameworks/encode.py\u001b[0m in \u001b[0;36mpython_decode\u001b[0;34m(self, dct)\u001b[0m\n\u001b[1;32m    272\u001b[0m                 \u001b[0;31m# Case of a tensor\u001b[0m\u001b[0;34m\u001b[0m\u001b[0;34m\u001b[0m\u001b[0m\n\u001b[1;32m    273\u001b[0m                 \u001b[0;32mif\u001b[0m \u001b[0mtorch_utils\u001b[0m\u001b[0;34m.\u001b[0m\u001b[0mis_tensor\u001b[0m\u001b[0;34m(\u001b[0m\u001b[0mobj_type\u001b[0m\u001b[0;34m)\u001b[0m\u001b[0;34m:\u001b[0m\u001b[0;34m\u001b[0m\u001b[0m\n\u001b[0;32m--> 274\u001b[0;31m                     \u001b[0mo\u001b[0m \u001b[0;34m=\u001b[0m \u001b[0mtorch\u001b[0m\u001b[0;34m.\u001b[0m\u001b[0mguard\u001b[0m\u001b[0;34m[\u001b[0m\u001b[0;34m'syft.'\u001b[0m \u001b[0;34m+\u001b[0m \u001b[0mobj_type\u001b[0m\u001b[0;34m]\u001b[0m\u001b[0;34m.\u001b[0m\u001b[0mdeser\u001b[0m\u001b[0;34m(\u001b[0m\u001b[0;34m{\u001b[0m\u001b[0mkey\u001b[0m\u001b[0;34m:\u001b[0m \u001b[0mobj\u001b[0m\u001b[0;34m}\u001b[0m\u001b[0;34m,\u001b[0m \u001b[0mself\u001b[0m\u001b[0;34m.\u001b[0m\u001b[0mworker\u001b[0m\u001b[0;34m,\u001b[0m \u001b[0mself\u001b[0m\u001b[0;34m.\u001b[0m\u001b[0macquire\u001b[0m\u001b[0;34m)\u001b[0m\u001b[0;34m\u001b[0m\u001b[0m\n\u001b[0m\u001b[1;32m    275\u001b[0m                     \u001b[0;32mreturn\u001b[0m \u001b[0mo\u001b[0m\u001b[0;34m\u001b[0m\u001b[0m\n\u001b[1;32m    276\u001b[0m                 \u001b[0;31m# Case of a Variable\u001b[0m\u001b[0;34m\u001b[0m\u001b[0;34m\u001b[0m\u001b[0m\n",
      "\u001b[0;32m/Users/atrask/anaconda/lib/python3.6/site-packages/syft-0.1.0-py3.6.egg/syft/core/frameworks/torch/tensor.py\u001b[0m in \u001b[0;36mdeser\u001b[0;34m(msg_obj, worker, acquire)\u001b[0m\n\u001b[1;32m   1740\u001b[0m \u001b[0;34m\u001b[0m\u001b[0m\n\u001b[1;32m   1741\u001b[0m         \u001b[0mobj_type\u001b[0m\u001b[0;34m,\u001b[0m \u001b[0mmsg_obj\u001b[0m \u001b[0;34m=\u001b[0m \u001b[0mtorch_utils\u001b[0m\u001b[0;34m.\u001b[0m\u001b[0mextract_type_and_obj\u001b[0m\u001b[0;34m(\u001b[0m\u001b[0mmsg_obj\u001b[0m\u001b[0;34m)\u001b[0m\u001b[0;34m\u001b[0m\u001b[0m\n\u001b[0;32m-> 1742\u001b[0;31m         \u001b[0msyft_obj\u001b[0m \u001b[0;34m=\u001b[0m \u001b[0msy\u001b[0m\u001b[0;34m.\u001b[0m\u001b[0m_SyftTensor\u001b[0m\u001b[0;34m.\u001b[0m\u001b[0mdeser_routing\u001b[0m\u001b[0;34m(\u001b[0m\u001b[0mmsg_obj\u001b[0m\u001b[0;34m[\u001b[0m\u001b[0;34m'child'\u001b[0m\u001b[0;34m]\u001b[0m\u001b[0;34m,\u001b[0m \u001b[0mworker\u001b[0m\u001b[0;34m,\u001b[0m \u001b[0macquire\u001b[0m\u001b[0;34m)\u001b[0m\u001b[0;34m\u001b[0m\u001b[0m\n\u001b[0m\u001b[1;32m   1743\u001b[0m \u001b[0;34m\u001b[0m\u001b[0m\n\u001b[1;32m   1744\u001b[0m         \u001b[0;31m# If we have retrieved an already existing object (TODO: add checks) then return it\u001b[0m\u001b[0;34m\u001b[0m\u001b[0;34m\u001b[0m\u001b[0m\n",
      "\u001b[0;32m/Users/atrask/anaconda/lib/python3.6/site-packages/syft-0.1.0-py3.6.egg/syft/core/frameworks/torch/tensor.py\u001b[0m in \u001b[0;36mdeser_routing\u001b[0;34m(cls, dct, worker, acquire)\u001b[0m\n\u001b[1;32m    240\u001b[0m                     \u001b[0;32mreturn\u001b[0m \u001b[0msyft_type\u001b[0m\u001b[0;34m.\u001b[0m\u001b[0mdeser\u001b[0m\u001b[0;34m(\u001b[0m\u001b[0mobj\u001b[0m\u001b[0;34m,\u001b[0m \u001b[0mworker\u001b[0m\u001b[0;34m,\u001b[0m \u001b[0macquire\u001b[0m\u001b[0;34m)\u001b[0m\u001b[0;34m\u001b[0m\u001b[0m\n\u001b[1;32m    241\u001b[0m \u001b[0;34m\u001b[0m\u001b[0m\n\u001b[0;32m--> 242\u001b[0;31m         \u001b[0;32mraise\u001b[0m \u001b[0mException\u001b[0m\u001b[0;34m(\u001b[0m\u001b[0;34m\"could not deserialize an object sent to router\\n\"\u001b[0m\u001b[0;34m+\u001b[0m\u001b[0mstr\u001b[0m\u001b[0;34m(\u001b[0m\u001b[0mdct\u001b[0m\u001b[0;34m)\u001b[0m\u001b[0;34m)\u001b[0m\u001b[0;34m\u001b[0m\u001b[0m\n\u001b[0m\u001b[1;32m    243\u001b[0m \u001b[0;34m\u001b[0m\u001b[0m\n\u001b[1;32m    244\u001b[0m     \u001b[0;34m@\u001b[0m\u001b[0mclassmethod\u001b[0m\u001b[0;34m\u001b[0m\u001b[0m\n",
      "\u001b[0;31mException\u001b[0m: could not deserialize an object sent to router\n{'___SNNTensor__': {'owner': 'bob', 'id': 131439295, 'shares': {'__LongTensor__': {'type': 'syft.core.frameworks.torch.tensor.LongTensor', 'torch_type': 'syft.LongTensor', 'data': [1100000, 2000000, 3000000], 'child': {'___GeneralizedPointerTensor__': {'owner': 'bob', 'id': 5323991053, 'pointer_tensor_dict': {'alice': {'___PointerTensor__': {'owner': 0, 'id': 6388814402, 'location': 'alice', 'id_at_location': 27111993731, 'torch_type': 'syft.LongTensor'}}, 'bob': {'___PointerTensor__': {'owner': 0, 'id': 9563565848, 'location': 'bob', 'id_at_location': 70111375023, 'torch_type': 'syft.LongTensor'}}}, 'torch_type': 'syft.LongTensor'}}}}, 'torch_type': 'syft.LongTensor'}}"
     ]
    }
   ],
   "source": [
    "x = torch.FloatTensor([1.1, 2, 3])\n",
    "x = x.send(bob).fix_precision().share(alice, bob)\n",
    "assert torch_utils.chain_print(x, display=False) == display_chain.tensor.pointer\n",
    "x_ = bob.get_obj(x.id_at_location).parent\n",
    "assert torch_utils.chain_print(x_, display=False) == display_chain.tensor.fixp_mpc_gpt\n",
    "\n",
    "z = x + x\n",
    "\n",
    "x = x.get()"
   ]
  },
  {
   "cell_type": "code",
   "execution_count": 8,
   "metadata": {},
   "outputs": [
    {
     "data": {
      "text/plain": [
       "[syft.core.frameworks.torch.tensor._LocalTensor,\n",
       " syft.core.frameworks.torch.tensor._WrapTorchObjectPlusIsMinusTensor,\n",
       " syft.core.frameworks.torch.tensor._PlusIsMinusTensor,\n",
       " syft.core.frameworks.torch.tensor._GeneralizedPointerTensor,\n",
       " syft.core.frameworks.torch.tensor._PointerTensor,\n",
       " syft.core.frameworks.torch.tensor._FixedPrecisionTensor,\n",
       " syft.core.frameworks.torch.tensor._SPDZTensor,\n",
       " syft.core.frameworks.torch.tensor._SNNTensor]"
      ]
     },
     "execution_count": 8,
     "metadata": {},
     "output_type": "execute_result"
    }
   ],
   "source": [
    "sy._SyftTensor.__subclasses__()"
   ]
  },
  {
   "cell_type": "code",
   "execution_count": null,
   "metadata": {},
   "outputs": [],
   "source": [
    "\n",
    "\n",
    "\n",
    "\n",
    "assert torch_utils.chain_print(x, display=False) == display_chain.tensor.fixp_mpc_gpt\n",
    "\n",
    "x = x.get()\n",
    "assert torch_utils.chain_print(x, display=False) == display_chain.tensor.fixp_local\n",
    "\n",
    "x = x.decode()\n",
    "assert torch_utils.chain_print(x, display=False) == display_chain.tensor.local\n",
    "\n",
    "z = z.get().get().decode()\n",
    "assert torch.eq(z, torch.FloatTensor([2.2, 4, 6])).all()"
   ]
  },
  {
   "cell_type": "code",
   "execution_count": null,
   "metadata": {},
   "outputs": [],
   "source": []
  },
  {
   "cell_type": "code",
   "execution_count": null,
   "metadata": {},
   "outputs": [],
   "source": []
  },
  {
   "cell_type": "code",
   "execution_count": null,
   "metadata": {},
   "outputs": [],
   "source": []
  },
  {
   "cell_type": "code",
   "execution_count": null,
   "metadata": {},
   "outputs": [],
   "source": []
  },
  {
   "cell_type": "code",
   "execution_count": null,
   "metadata": {},
   "outputs": [],
   "source": []
  },
  {
   "cell_type": "code",
   "execution_count": null,
   "metadata": {},
   "outputs": [],
   "source": []
  },
  {
   "cell_type": "code",
   "execution_count": 21,
   "metadata": {},
   "outputs": [
    {
     "name": "stdout",
     "output_type": "stream",
     "text": [
      "gen sz torch.Size([1, 31])\n"
     ]
    }
   ],
   "source": [
    "def decompose(tensor):\n",
    "    \"\"\"\n",
    "    decompose a tensor into its binary representation\n",
    "    \"\"\"\n",
    "    powers = torch.arange(0,Q_BITS)\n",
    "    for i in range(len(tensor.shape)):\n",
    "        powers = powers.unsqueeze(0)\n",
    "    tensor = tensor.unsqueeze(-1)\n",
    "    moduli = 2 ** powers\n",
    "    tensor = ((tensor+2**(Q_BITS)) / moduli.type_as(tensor)) % 2\n",
    "    return tensor\n",
    "\n",
    "def _pc_beta0(x, r):\n",
    "    # note x and r are both binary tensors,\n",
    "    # and dim -1 contains their bits\n",
    "    # x should be shared, r should be public\n",
    "    w = xor(x, r)\n",
    "    z = r  - (x - 1)\n",
    "    w_sum = torch.zeros(w.shape).type_as(w)\n",
    "    for i in range(Q_BITS - 2, -1, -1):\n",
    "        w_sum[..., i] = w[..., (i + 1):].sum(dim=-1, keepdim=True)\n",
    "    c = z + w_sum\n",
    "    return c\n",
    "\n",
    "\n",
    "def _pc_beta1(x, t):\n",
    "    w = xor(x, t)\n",
    "    z = (x + 1) - t\n",
    "    w_sum = torch.zeros(w.shape).type_as(w)\n",
    "    for i in range(Q_BITS - 2, -1, -1):\n",
    "        w_sum[..., i] = w[..., (i + 1):].sum(dim=-1, keepdim=True)\n",
    "    c = z + w_sum\n",
    "    return c\n",
    "\n",
    "def _pc_else(workers, *sizes):\n",
    "\n",
    "    u = generate_zero_shares_communication(*workers, *sizes)\n",
    "\n",
    "    u_ptrdict = get_ptrdict(u)\n",
    "    (w0, u0), (w1, u1) = u_ptrdict.items()\n",
    "    u0 = u0.wrap(True)\n",
    "    u1 = u1.wrap(True)\n",
    "\n",
    "    c0 = u0 * 0\n",
    "    c1 = u1 * 0\n",
    "    for i in range(Q_BITS - 2, -1, -1):\n",
    "        if i == 0:\n",
    "            c0[..., i] = -1 * u0[..., i]\n",
    "            c1[..., i] = u1[..., i]\n",
    "        c0[..., i] = u0[..., i] + 1\n",
    "        c1[..., i] = -1 * u1[..., i]\n",
    "    ptr_dict = {w0:c0.child, w1:c1.child}\n",
    "    c_gp = _GeneralizedPointerTensor(ptr_dict, torch_type='syft.LongTensor').wrap(True)\n",
    "    c = _SPDZTensor(c_gp, torch_type='syft.LongTensor').wrap(True)\n",
    "    return c\n",
    "\n",
    "def generate_one_shares_communication(alice, bob, sizes):\n",
    "    return torch.ones(sizes).long().share(alice, bob)\n",
    "\n",
    "def xor(x, y):\n",
    "    return x + y - 2 * x * y\n",
    "\n",
    "def get_ptrdict(mpct):\n",
    "    child = mpct\n",
    "    while not isinstance(child, sy.core.frameworks.torch._GeneralizedPointerTensor) and child is not None:\n",
    "        child = child.child\n",
    "    if child is None:\n",
    "        raise TypeError(\"Expected child tree to contain a GeneralizedPointerTensor\")\n",
    "    return child.pointer_tensor_dict\n",
    "\n",
    "x = torch.LongTensor([5])#.share(bob, alice)\n",
    "\n",
    "r = torch.LongTensor([4])\n",
    "\n",
    "Q_BITS = spdz.Q_BITS\n",
    "\n",
    "beta = (torch.rand(1)>0).long()\n",
    "\n",
    "t = (r + 1) % (2 ** Q_BITS)\n",
    "\n",
    "x_bits = decompose(x)\n",
    "r_bits = decompose(r)\n",
    "t_bits = decompose(t)\n",
    "\n",
    "c_zeros = _pc_beta0(x_bits, r_bits)\n",
    "c_ones = _pc_beta1(x_bits, t_bits)\n",
    "c_other = _pc_else([alice, bob], x_bits.shape)\n",
    "\n",
    "# TODO: recombine c properly here\n",
    "c = torch.zeros(*x_bits.shape).long()\n",
    "zeros = (beta == 0).long()\n",
    "ones = (beta == 1).long()\n",
    "others = (r == (2 ** Q_BITS - 1)).long()\n",
    "ones = ones & (others - 1).abs()"
   ]
  },
  {
   "cell_type": "code",
   "execution_count": 22,
   "metadata": {},
   "outputs": [],
   "source": [
    "c = (zeros * c_zeros) + (ones * c_ones)"
   ]
  },
  {
   "cell_type": "code",
   "execution_count": null,
   "metadata": {},
   "outputs": [],
   "source": []
  },
  {
   "cell_type": "code",
   "execution_count": null,
   "metadata": {},
   "outputs": [],
   "source": [
    "c[zeros] = c_zeros\n",
    "c[ones] = c_ones\n",
    "c[others] = c_other"
   ]
  },
  {
   "cell_type": "code",
   "execution_count": null,
   "metadata": {},
   "outputs": [],
   "source": []
  },
  {
   "cell_type": "code",
   "execution_count": 69,
   "metadata": {},
   "outputs": [],
   "source": []
  },
  {
   "cell_type": "code",
   "execution_count": 75,
   "metadata": {},
   "outputs": [
    {
     "data": {
      "text/plain": [
       "\n",
       "\n",
       "Columns 0 to 12 \n",
       "    1     1     1     1     1     1     1     1     1     1     1     1     1\n",
       "\n",
       "Columns 13 to 25 \n",
       "    1     1     1     1     1     1     1     1     1     1     1     1     1\n",
       "\n",
       "Columns 26 to 30 \n",
       "    1     1     1     1     1\n",
       "[syft.core.frameworks.torch.tensor.LongTensor of size 1x31]"
      ]
     },
     "execution_count": 75,
     "metadata": {},
     "output_type": "execute_result"
    }
   ],
   "source": [
    "c_ones"
   ]
  },
  {
   "cell_type": "code",
   "execution_count": null,
   "metadata": {},
   "outputs": [],
   "source": []
  },
  {
   "cell_type": "code",
   "execution_count": null,
   "metadata": {},
   "outputs": [],
   "source": []
  },
  {
   "cell_type": "code",
   "execution_count": null,
   "metadata": {},
   "outputs": [],
   "source": []
  },
  {
   "cell_type": "code",
   "execution_count": 17,
   "metadata": {},
   "outputs": [],
   "source": [
    "def _pc_else(workers, *sizes):\n",
    "    u = generate_zero_shares_communication(*workers, *sizes)\n",
    "    (w0, u0), (w1, u1) = u.child.shares.child.pointer_tensor_dict.items()\n",
    "    u0 = u0.wrap()\n",
    "    u1 = u1.wrap()\n",
    "    \n",
    "    c0 = u0 * 0\n",
    "    c1 = u1 * 0\n",
    "    for i in range(Q_BITS - 2, -1, -1):\n",
    "        if i == 0:\n",
    "            c0[..., i] = -u0[..., i]\n",
    "            c1[..., i] = u1[..., i]\n",
    "\n",
    "        c0[..., i] = u0[..., i] + 1\n",
    "        c1[..., i] = -u1[..., i]\n",
    "    ptr_dict = {w0:c0.child, w1:c1.child}\n",
    "    c_gp = _GeneralizedPointerTensor(ptr_dict, torch_type='syft.LongTensor').wrap(True)\n",
    "    c = _SPDZTensor(c_gp, torch_type='syft.LongTensor').wrap(True)\n",
    "    return c"
   ]
  },
  {
   "cell_type": "code",
   "execution_count": null,
   "metadata": {},
   "outputs": [],
   "source": []
  },
  {
   "cell_type": "code",
   "execution_count": 18,
   "metadata": {},
   "outputs": [],
   "source": []
  },
  {
   "cell_type": "code",
   "execution_count": 21,
   "metadata": {},
   "outputs": [
    {
     "data": {
      "text/plain": [
       "[Head of chain]\n",
       "[syft.core.frameworks.torch.tensor.LongTensor with no dimension]"
      ]
     },
     "execution_count": 21,
     "metadata": {},
     "output_type": "execute_result"
    }
   ],
   "source": [
    "c_other"
   ]
  },
  {
   "cell_type": "code",
   "execution_count": null,
   "metadata": {},
   "outputs": [],
   "source": []
  },
  {
   "cell_type": "code",
   "execution_count": null,
   "metadata": {},
   "outputs": [],
   "source": []
  },
  {
   "cell_type": "code",
   "execution_count": null,
   "metadata": {},
   "outputs": [],
   "source": []
  },
  {
   "cell_type": "code",
   "execution_count": null,
   "metadata": {},
   "outputs": [],
   "source": []
  },
  {
   "cell_type": "code",
   "execution_count": 66,
   "metadata": {},
   "outputs": [],
   "source": [
    "def private_compare(x, r, beta, workers):\n",
    "    \"\"\"\n",
    "    computes beta XOR (x > r)\n",
    "\n",
    "    x is private input\n",
    "    r is public input for comparison\n",
    "    beta is public random bit tensor\n",
    "\n",
    "    all of type _GeneralizedPointerTensor\n",
    "    \"\"\"\n",
    "    t = (r + 1) % (2 ** Q_BITS)\n",
    "\n",
    "    x_bits = decompose(x)\n",
    "    r_bits = decompose(r)\n",
    "    t_bits = decompose(t)\n",
    "\n",
    "    zeros = beta == 0\n",
    "    ones = beta == 1\n",
    "    others = r == (2 ** Q_BITS - 1)\n",
    "    ones = ones & (others - 1).abs()\n",
    "\n",
    "    c_zeros = _pc_beta0(x_bits, r_bits)\n",
    "    c_ones = _pc_beta1(x_bits, t_bits)\n",
    "    c_other = _pc_else()\n",
    "\n",
    "    # TODO: recombine c properly here\n",
    "    # torch.zeros()\n",
    "    c = torch.cat([c_zeros, c_ones, c_other], -1)\n",
    "\n",
    "    s = random_as(c, mod=p)\n",
    "    permute = torch.randperm(c.size(-1))\n",
    "    d = s * c[..., permute]\n",
    "    d.get()\n",
    "    return (d == 0).max()"
   ]
  },
  {
   "cell_type": "code",
   "execution_count": null,
   "metadata": {},
   "outputs": [],
   "source": []
  }
 ],
 "metadata": {
  "kernelspec": {
   "display_name": "Python 3",
   "language": "python",
   "name": "python3"
  },
  "language_info": {
   "codemirror_mode": {
    "name": "ipython",
    "version": 3
   },
   "file_extension": ".py",
   "mimetype": "text/x-python",
   "name": "python",
   "nbconvert_exporter": "python",
   "pygments_lexer": "ipython3",
   "version": "3.6.1"
  }
 },
 "nbformat": 4,
 "nbformat_minor": 2
}
