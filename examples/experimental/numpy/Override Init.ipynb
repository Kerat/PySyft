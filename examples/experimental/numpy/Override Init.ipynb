{
 "cells": [
  {
   "cell_type": "code",
   "execution_count": 5,
   "metadata": {},
   "outputs": [],
   "source": [
    "import numpy as np\n",
    "import random\n",
    "import syft as sy\n",
    "import json\n",
    "from syft.core.frameworks.torch import utils"
   ]
  },
  {
   "cell_type": "code",
   "execution_count": 6,
   "metadata": {},
   "outputs": [],
   "source": [
    "x = sy.array([1,2,3,4])\n",
    "me = sy.local_worker\n",
    "hook = me.hook\n",
    "me.is_client_worker = False"
   ]
  },
  {
   "cell_type": "code",
   "execution_count": 7,
   "metadata": {},
   "outputs": [],
   "source": [
    "bob = sy.VirtualWorker(hook=hook,id=2)"
   ]
  },
  {
   "cell_type": "code",
   "execution_count": 8,
   "metadata": {},
   "outputs": [],
   "source": [
    "me.add_worker(bob)"
   ]
  },
  {
   "cell_type": "code",
   "execution_count": 9,
   "metadata": {},
   "outputs": [],
   "source": [
    "x = sy.array([1,2,3,4])"
   ]
  },
  {
   "cell_type": "code",
   "execution_count": 10,
   "metadata": {},
   "outputs": [],
   "source": [
    "xc = x + x"
   ]
  },
  {
   "cell_type": "code",
   "execution_count": 11,
   "metadata": {},
   "outputs": [
    {
     "data": {
      "text/plain": [
       "{}"
      ]
     },
     "execution_count": 11,
     "metadata": {},
     "output_type": "execute_result"
    }
   ],
   "source": [
    "me._objects"
   ]
  },
  {
   "cell_type": "code",
   "execution_count": 12,
   "metadata": {},
   "outputs": [
    {
     "data": {
      "text/plain": [
       "8892349395"
      ]
     },
     "execution_count": 12,
     "metadata": {},
     "output_type": "execute_result"
    }
   ],
   "source": [
    "xc.id"
   ]
  },
  {
   "cell_type": "code",
   "execution_count": null,
   "metadata": {},
   "outputs": [],
   "source": []
  },
  {
   "cell_type": "code",
   "execution_count": 13,
   "metadata": {},
   "outputs": [],
   "source": [
    "xt = x.send(bob)\n",
    "# xt = x.torch().send(bob)"
   ]
  },
  {
   "cell_type": "code",
   "execution_count": 14,
   "metadata": {},
   "outputs": [
    {
     "name": "stderr",
     "output_type": "stream",
     "text": [
      "WARNING:root:Registering a pointer on non-owned syftTensor.\n"
     ]
    },
    {
     "ename": "TypeError",
     "evalue": "create_pointer() missing 3 required positional arguments: 'id', 'location', and 'id_at_location'",
     "output_type": "error",
     "traceback": [
      "\u001b[0;31m---------------------------------------------------------------------------\u001b[0m",
      "\u001b[0;31mTypeError\u001b[0m                                 Traceback (most recent call last)",
      "\u001b[0;32m<ipython-input-14-b7f1652d389d>\u001b[0m in \u001b[0;36m<module>\u001b[0;34m()\u001b[0m\n\u001b[0;32m----> 1\u001b[0;31m \u001b[0mxt\u001b[0m\u001b[0;34m.\u001b[0m\u001b[0mcumsum\u001b[0m\u001b[0;34m(\u001b[0m\u001b[0;36m0\u001b[0m\u001b[0;34m)\u001b[0m\u001b[0;34m\u001b[0m\u001b[0m\n\u001b[0m",
      "\u001b[0;32m/Users/atrask/anaconda/lib/python3.6/site-packages/syft-0.1.0-py3.6.egg/syft/core/frameworks/numpy/ndarray.py\u001b[0m in \u001b[0;36mcumsum\u001b[0;34m(self, *args, **kwargs)\u001b[0m\n\u001b[1;32m    198\u001b[0m         return self.owner.send_command(recipient=self.location,\n\u001b[1;32m    199\u001b[0m                                        \u001b[0mmessage\u001b[0m\u001b[0;34m=\u001b[0m\u001b[0mcmd\u001b[0m\u001b[0;34m,\u001b[0m\u001b[0;34m\u001b[0m\u001b[0m\n\u001b[0;32m--> 200\u001b[0;31m                                        framework=\"numpy\")\n\u001b[0m\u001b[1;32m    201\u001b[0m \u001b[0;34m\u001b[0m\u001b[0m\n\u001b[1;32m    202\u001b[0m     \u001b[0;32mdef\u001b[0m \u001b[0mtorch\u001b[0m\u001b[0;34m(\u001b[0m\u001b[0mself\u001b[0m\u001b[0;34m)\u001b[0m\u001b[0;34m:\u001b[0m\u001b[0;34m\u001b[0m\u001b[0m\n",
      "\u001b[0;32m/Users/atrask/anaconda/lib/python3.6/site-packages/syft-0.1.0-py3.6.egg/syft/core/workers/base.py\u001b[0m in \u001b[0;36msend_command\u001b[0;34m(self, recipient, message, framework)\u001b[0m\n\u001b[1;32m    968\u001b[0m             \u001b[0mmessage\u001b[0m\u001b[0;34m=\u001b[0m\u001b[0mmessage\u001b[0m\u001b[0;34m,\u001b[0m\u001b[0;34m\u001b[0m\u001b[0m\n\u001b[1;32m    969\u001b[0m             \u001b[0mmessage_type\u001b[0m\u001b[0;34m=\u001b[0m\u001b[0mframework\u001b[0m\u001b[0;34m+\u001b[0m\u001b[0;34m'_cmd'\u001b[0m\u001b[0;34m,\u001b[0m\u001b[0;34m\u001b[0m\u001b[0m\n\u001b[0;32m--> 970\u001b[0;31m             \u001b[0mrecipient\u001b[0m\u001b[0;34m=\u001b[0m\u001b[0mrecipient\u001b[0m\u001b[0;34m\u001b[0m\u001b[0m\n\u001b[0m\u001b[1;32m    971\u001b[0m         )\n\u001b[1;32m    972\u001b[0m \u001b[0;34m\u001b[0m\u001b[0m\n",
      "\u001b[0;32m/Users/atrask/anaconda/lib/python3.6/site-packages/syft-0.1.0-py3.6.egg/syft/core/workers/base.py\u001b[0m in \u001b[0;36msend_msg\u001b[0;34m(self, message, message_type, recipient)\u001b[0m\n\u001b[1;32m    197\u001b[0m         \u001b[0mself\u001b[0m\u001b[0;34m.\u001b[0m\u001b[0mmessage_queue\u001b[0m \u001b[0;34m=\u001b[0m \u001b[0;34m[\u001b[0m\u001b[0;34m]\u001b[0m\u001b[0;34m\u001b[0m\u001b[0m\n\u001b[1;32m    198\u001b[0m \u001b[0;34m\u001b[0m\u001b[0m\n\u001b[0;32m--> 199\u001b[0;31m         \u001b[0;32mreturn\u001b[0m \u001b[0mself\u001b[0m\u001b[0;34m.\u001b[0m\u001b[0m_send_msg\u001b[0m\u001b[0;34m(\u001b[0m\u001b[0mmessage_wrapper_json\u001b[0m\u001b[0;34m,\u001b[0m \u001b[0mrecipient\u001b[0m\u001b[0;34m)\u001b[0m\u001b[0;34m\u001b[0m\u001b[0m\n\u001b[0m\u001b[1;32m    200\u001b[0m \u001b[0;34m\u001b[0m\u001b[0m\n\u001b[1;32m    201\u001b[0m     \u001b[0;32mdef\u001b[0m \u001b[0mcompile_composite_message\u001b[0m\u001b[0;34m(\u001b[0m\u001b[0mself\u001b[0m\u001b[0;34m)\u001b[0m\u001b[0;34m:\u001b[0m\u001b[0;34m\u001b[0m\u001b[0m\n",
      "\u001b[0;32m/Users/atrask/anaconda/lib/python3.6/site-packages/syft-0.1.0-py3.6.egg/syft/core/workers/virtual.py\u001b[0m in \u001b[0;36m_send_msg\u001b[0;34m(self, message_wrapper_json_binary, recipient)\u001b[0m\n\u001b[1;32m     99\u001b[0m         \"\"\"\n\u001b[1;32m    100\u001b[0m \u001b[0;34m\u001b[0m\u001b[0m\n\u001b[0;32m--> 101\u001b[0;31m         \u001b[0;32mreturn\u001b[0m \u001b[0mrecipient\u001b[0m\u001b[0;34m.\u001b[0m\u001b[0mreceive_msg\u001b[0m\u001b[0;34m(\u001b[0m\u001b[0mmessage_wrapper_json_binary\u001b[0m\u001b[0;34m)\u001b[0m\u001b[0;34m\u001b[0m\u001b[0m\n\u001b[0m",
      "\u001b[0;32m/Users/atrask/anaconda/lib/python3.6/site-packages/syft-0.1.0-py3.6.egg/syft/core/workers/base.py\u001b[0m in \u001b[0;36mreceive_msg\u001b[0;34m(self, message_wrapper_json)\u001b[0m\n\u001b[1;32m    246\u001b[0m         \u001b[0mmessage_wrapper\u001b[0m \u001b[0;34m=\u001b[0m \u001b[0mencode\u001b[0m\u001b[0;34m.\u001b[0m\u001b[0mdecode\u001b[0m\u001b[0;34m(\u001b[0m\u001b[0mmessage_wrapper_json\u001b[0m\u001b[0;34m,\u001b[0m \u001b[0mworker\u001b[0m\u001b[0;34m=\u001b[0m\u001b[0mself\u001b[0m\u001b[0;34m)\u001b[0m\u001b[0;34m\u001b[0m\u001b[0m\n\u001b[1;32m    247\u001b[0m \u001b[0;34m\u001b[0m\u001b[0m\n\u001b[0;32m--> 248\u001b[0;31m         \u001b[0mresponse\u001b[0m\u001b[0;34m,\u001b[0m \u001b[0mprivate\u001b[0m \u001b[0;34m=\u001b[0m \u001b[0mself\u001b[0m\u001b[0;34m.\u001b[0m\u001b[0mprocess_message_type\u001b[0m\u001b[0;34m(\u001b[0m\u001b[0mmessage_wrapper\u001b[0m\u001b[0;34m)\u001b[0m\u001b[0;34m\u001b[0m\u001b[0m\n\u001b[0m\u001b[1;32m    249\u001b[0m \u001b[0;34m\u001b[0m\u001b[0m\n\u001b[1;32m    250\u001b[0m         \u001b[0mresponse\u001b[0m \u001b[0;34m=\u001b[0m \u001b[0mencode\u001b[0m\u001b[0;34m.\u001b[0m\u001b[0mencode\u001b[0m\u001b[0;34m(\u001b[0m\u001b[0mresponse\u001b[0m\u001b[0;34m,\u001b[0m \u001b[0mretrieve_pointers\u001b[0m\u001b[0;34m=\u001b[0m\u001b[0;32mFalse\u001b[0m\u001b[0;34m,\u001b[0m \u001b[0mprivate_local\u001b[0m\u001b[0;34m=\u001b[0m\u001b[0mprivate\u001b[0m\u001b[0;34m)\u001b[0m\u001b[0;34m\u001b[0m\u001b[0m\n",
      "\u001b[0;32m/Users/atrask/anaconda/lib/python3.6/site-packages/syft-0.1.0-py3.6.egg/syft/core/workers/base.py\u001b[0m in \u001b[0;36mprocess_message_type\u001b[0;34m(self, message_wrapper)\u001b[0m\n\u001b[1;32m    325\u001b[0m         \u001b[0;32melif\u001b[0m \u001b[0mmessage_wrapper\u001b[0m\u001b[0;34m[\u001b[0m\u001b[0;34m'type'\u001b[0m\u001b[0;34m]\u001b[0m \u001b[0;34m==\u001b[0m \u001b[0;34m'numpy_cmd'\u001b[0m\u001b[0;34m:\u001b[0m\u001b[0;34m\u001b[0m\u001b[0m\n\u001b[1;32m    326\u001b[0m             \u001b[0mresult\u001b[0m \u001b[0;34m=\u001b[0m \u001b[0mself\u001b[0m\u001b[0;34m.\u001b[0m\u001b[0mprocess_numpy_command\u001b[0m\u001b[0;34m(\u001b[0m\u001b[0mmessage\u001b[0m\u001b[0;34m)\u001b[0m\u001b[0;34m\u001b[0m\u001b[0m\n\u001b[0;32m--> 327\u001b[0;31m             \u001b[0mself\u001b[0m\u001b[0;34m.\u001b[0m\u001b[0mregister\u001b[0m\u001b[0;34m(\u001b[0m\u001b[0mresult\u001b[0m\u001b[0;34m)\u001b[0m\u001b[0;34m\u001b[0m\u001b[0m\n\u001b[0m\u001b[1;32m    328\u001b[0m             \u001b[0;32mreturn\u001b[0m \u001b[0mresult\u001b[0m\u001b[0;34m,\u001b[0m \u001b[0;32mTrue\u001b[0m \u001b[0;31m# Result is private\u001b[0m\u001b[0;34m\u001b[0m\u001b[0m\n\u001b[1;32m    329\u001b[0m \u001b[0;34m\u001b[0m\u001b[0m\n",
      "\u001b[0;32m/Users/atrask/anaconda/lib/python3.6/site-packages/syft-0.1.0-py3.6.egg/syft/core/workers/base.py\u001b[0m in \u001b[0;36mregister\u001b[0;34m(self, result)\u001b[0m\n\u001b[1;32m    645\u001b[0m             \u001b[0;34m\"do nothing\"\u001b[0m\u001b[0;34m\u001b[0m\u001b[0m\n\u001b[1;32m    646\u001b[0m         \u001b[0;32melif\u001b[0m \u001b[0misinstance\u001b[0m\u001b[0;34m(\u001b[0m\u001b[0mresult\u001b[0m\u001b[0;34m,\u001b[0m \u001b[0mnp\u001b[0m\u001b[0;34m.\u001b[0m\u001b[0mndarray\u001b[0m\u001b[0;34m)\u001b[0m\u001b[0;34m:\u001b[0m\u001b[0;34m\u001b[0m\u001b[0m\n\u001b[0;32m--> 647\u001b[0;31m             \u001b[0mself\u001b[0m\u001b[0;34m.\u001b[0m\u001b[0mregister_object\u001b[0m\u001b[0;34m(\u001b[0m\u001b[0mresult\u001b[0m\u001b[0;34m)\u001b[0m\u001b[0;34m\u001b[0m\u001b[0m\n\u001b[0m\u001b[1;32m    648\u001b[0m         \u001b[0;32melse\u001b[0m\u001b[0;34m:\u001b[0m\u001b[0;34m\u001b[0m\u001b[0m\n\u001b[1;32m    649\u001b[0m             \u001b[0;32mraise\u001b[0m \u001b[0mTypeError\u001b[0m\u001b[0;34m(\u001b[0m\u001b[0;34m'The type'\u001b[0m\u001b[0;34m,\u001b[0m \u001b[0mtype\u001b[0m\u001b[0;34m(\u001b[0m\u001b[0mresult\u001b[0m\u001b[0;34m)\u001b[0m\u001b[0;34m,\u001b[0m \u001b[0;34m'is not supported at the moment'\u001b[0m\u001b[0;34m)\u001b[0m\u001b[0;34m\u001b[0m\u001b[0m\n",
      "\u001b[0;32m/Users/atrask/anaconda/lib/python3.6/site-packages/syft-0.1.0-py3.6.egg/syft/core/workers/base.py\u001b[0m in \u001b[0;36mregister_object\u001b[0;34m(self, obj, id)\u001b[0m\n\u001b[1;32m    693\u001b[0m         \u001b[0;32melse\u001b[0m\u001b[0;34m:\u001b[0m\u001b[0;34m\u001b[0m\u001b[0m\n\u001b[1;32m    694\u001b[0m             \u001b[0mlogging\u001b[0m\u001b[0;34m.\u001b[0m\u001b[0mwarning\u001b[0m\u001b[0;34m(\u001b[0m\u001b[0;34m\"Registering a pointer on non-owned syftTensor.\"\u001b[0m\u001b[0;34m)\u001b[0m\u001b[0;34m\u001b[0m\u001b[0m\n\u001b[0;32m--> 695\u001b[0;31m             \u001b[0mpointer\u001b[0m \u001b[0;34m=\u001b[0m \u001b[0mobj\u001b[0m\u001b[0;34m.\u001b[0m\u001b[0mcreate_pointer\u001b[0m\u001b[0;34m(\u001b[0m\u001b[0;34m)\u001b[0m\u001b[0;34m\u001b[0m\u001b[0m\n\u001b[0m\u001b[1;32m    696\u001b[0m             \u001b[0mpointer\u001b[0m\u001b[0;34m.\u001b[0m\u001b[0mowner\u001b[0m \u001b[0;34m=\u001b[0m \u001b[0mself\u001b[0m\u001b[0;34m\u001b[0m\u001b[0m\n\u001b[1;32m    697\u001b[0m             \u001b[0mself\u001b[0m\u001b[0;34m.\u001b[0m\u001b[0mset_obj\u001b[0m\u001b[0;34m(\u001b[0m\u001b[0mpointer\u001b[0m\u001b[0;34m.\u001b[0m\u001b[0mid\u001b[0m\u001b[0;34m,\u001b[0m \u001b[0mpointer\u001b[0m\u001b[0;34m)\u001b[0m\u001b[0;34m\u001b[0m\u001b[0m\n",
      "\u001b[0;31mTypeError\u001b[0m: create_pointer() missing 3 required positional arguments: 'id', 'location', and 'id_at_location'"
     ]
    }
   ],
   "source": [
    "xt.cumsum(0)"
   ]
  },
  {
   "cell_type": "code",
   "execution_count": 8,
   "metadata": {},
   "outputs": [
    {
     "data": {
      "text/plain": [
       "{8123915731: array([1, 2, 3, 4])}"
      ]
     },
     "execution_count": 8,
     "metadata": {},
     "output_type": "execute_result"
    }
   ],
   "source": [
    "bob._objects"
   ]
  },
  {
   "cell_type": "code",
   "execution_count": 10,
   "metadata": {},
   "outputs": [],
   "source": [
    "y = x + x"
   ]
  },
  {
   "cell_type": "code",
   "execution_count": 12,
   "metadata": {},
   "outputs": [
    {
     "data": {
      "text/plain": [
       "\n",
       " 2\n",
       " 4\n",
       " 6\n",
       " 8\n",
       "[syft.core.frameworks.torch.tensor.FloatTensor of size 4]"
      ]
     },
     "execution_count": 12,
     "metadata": {},
     "output_type": "execute_result"
    }
   ],
   "source": [
    "y.get()"
   ]
  },
  {
   "cell_type": "code",
   "execution_count": 13,
   "metadata": {},
   "outputs": [
    {
     "data": {
      "text/plain": [
       "{4471197629: array([1, 2, 3, 4]),\n",
       " 7798415103: [_LocalTensor - id:7798415103 owner:2],\n",
       " 8250913666: [_LocalTensor - id:8250913666 owner:2],\n",
       " 8617114141: array([1, 2, 3, 4])}"
      ]
     },
     "execution_count": 13,
     "metadata": {},
     "output_type": "execute_result"
    }
   ],
   "source": [
    "bob._objects"
   ]
  },
  {
   "cell_type": "code",
   "execution_count": 15,
   "metadata": {},
   "outputs": [
    {
     "name": "stdout",
     "output_type": "stream",
     "text": [
      "enforcing owner:<syft.core.workers.virtual.VirtualWorker id:2>\n",
      "<class 'syft.core.frameworks.torch.tensor._LocalTensor'>\n",
      "enforcing owner:<syft.core.workers.virtual.VirtualWorker id:2>\n",
      "<class 'syft.core.frameworks.torch.tensor.FloatTensor'>\n",
      "enforcing owner:<syft.core.workers.virtual.VirtualWorker id:0>\n",
      "enforcing owner:<syft.core.workers.virtual.VirtualWorker id:0>\n",
      "enforcing owner:<syft.core.workers.virtual.VirtualWorker id:0>\n",
      "enforcing owner:<syft.core.workers.virtual.VirtualWorker id:0>\n",
      "enforcing owner:<syft.core.workers.virtual.VirtualWorker id:0>\n",
      "enforcing owner:<syft.core.workers.virtual.VirtualWorker id:0>\n",
      "<class 'syft.core.frameworks.torch.tensor.FloatTensor'>\n",
      "enforcing owner:<syft.core.workers.virtual.VirtualWorker id:0>\n",
      "enforcing owner:<syft.core.workers.virtual.VirtualWorker id:0>\n",
      "<class 'syft.core.frameworks.torch.tensor.DoubleTensor'>\n",
      "enforcing owner:<syft.core.workers.virtual.VirtualWorker id:0>\n",
      "<class 'syft.core.frameworks.torch.tensor._LocalTensor'>\n",
      "enforcing owner:<syft.core.workers.virtual.VirtualWorker id:0>\n",
      "<class 'syft.core.frameworks.torch.tensor.DoubleTensor'>\n",
      "enforcing owner:<syft.core.workers.virtual.VirtualWorker id:0>\n",
      "enforcing owner:<syft.core.workers.virtual.VirtualWorker id:0>\n",
      "enforcing owner:<syft.core.workers.virtual.VirtualWorker id:0>\n",
      "enforcing owner:<syft.core.workers.virtual.VirtualWorker id:0>\n",
      "enforcing owner:<syft.core.workers.virtual.VirtualWorker id:0>\n",
      "enforcing owner:<syft.core.workers.virtual.VirtualWorker id:0>\n",
      "enforcing owner:<syft.core.workers.virtual.VirtualWorker id:0>\n",
      "<class 'syft.core.frameworks.torch.tensor.DoubleTensor'>\n",
      "enforcing owner:<syft.core.workers.virtual.VirtualWorker id:0>\n",
      "<class 'syft.core.frameworks.torch.tensor._LocalTensor'>\n",
      "enforcing owner:<syft.core.workers.virtual.VirtualWorker id:0>\n",
      "<class 'syft.core.frameworks.torch.tensor.DoubleTensor'>\n",
      "enforcing owner:<syft.core.workers.virtual.VirtualWorker id:0>\n",
      "enforcing owner:<syft.core.workers.virtual.VirtualWorker id:0>\n",
      "enforcing owner:<syft.core.workers.virtual.VirtualWorker id:0>\n",
      "enforcing owner:<syft.core.workers.virtual.VirtualWorker id:0>\n",
      "enforcing owner:<syft.core.workers.virtual.VirtualWorker id:0>\n",
      "enforcing owner:<syft.core.workers.virtual.VirtualWorker id:0>\n",
      "enforcing owner:<syft.core.workers.virtual.VirtualWorker id:0>\n",
      "enforcing owner:<syft.core.workers.virtual.VirtualWorker id:0>\n",
      "<class 'syft.core.frameworks.torch.tensor.DoubleTensor'>\n",
      "enforcing owner:<syft.core.workers.virtual.VirtualWorker id:0>\n",
      "<class 'syft.core.frameworks.torch.tensor._LocalTensor'>\n",
      "enforcing owner:<syft.core.workers.virtual.VirtualWorker id:0>\n",
      "<class 'syft.core.frameworks.torch.tensor.DoubleTensor'>\n",
      "enforcing owner:<syft.core.workers.virtual.VirtualWorker id:0>\n",
      "enforcing owner:<syft.core.workers.virtual.VirtualWorker id:0>\n",
      "enforcing owner:<syft.core.workers.virtual.VirtualWorker id:0>\n",
      "enforcing owner:<syft.core.workers.virtual.VirtualWorker id:0>\n",
      "enforcing owner:<syft.core.workers.virtual.VirtualWorker id:0>\n",
      "enforcing owner:<syft.core.workers.virtual.VirtualWorker id:0>\n",
      "enforcing owner:<syft.core.workers.virtual.VirtualWorker id:0>\n",
      "enforcing owner:<syft.core.workers.virtual.VirtualWorker id:0>\n",
      "<class 'syft.core.frameworks.torch.tensor.DoubleTensor'>\n",
      "enforcing owner:<syft.core.workers.virtual.VirtualWorker id:0>\n",
      "<class 'syft.core.frameworks.torch.tensor._LocalTensor'>\n",
      "enforcing owner:<syft.core.workers.virtual.VirtualWorker id:0>\n",
      "<class 'syft.core.frameworks.torch.tensor.ByteTensor'>\n",
      "enforcing owner:<syft.core.workers.virtual.VirtualWorker id:0>\n",
      "enforcing owner:<syft.core.workers.virtual.VirtualWorker id:0>\n",
      "enforcing owner:<syft.core.workers.virtual.VirtualWorker id:0>\n",
      "enforcing owner:<syft.core.workers.virtual.VirtualWorker id:0>\n",
      "enforcing owner:<syft.core.workers.virtual.VirtualWorker id:0>\n",
      "enforcing owner:<syft.core.workers.virtual.VirtualWorker id:0>\n",
      "enforcing owner:<syft.core.workers.virtual.VirtualWorker id:0>\n",
      "enforcing owner:<syft.core.workers.virtual.VirtualWorker id:0>\n",
      "<class 'syft.core.frameworks.torch.tensor.DoubleTensor'>\n",
      "enforcing owner:<syft.core.workers.virtual.VirtualWorker id:0>\n",
      "<class 'syft.core.frameworks.torch.tensor._LocalTensor'>\n",
      "enforcing owner:<syft.core.workers.virtual.VirtualWorker id:0>\n",
      "<class 'syft.core.frameworks.torch.tensor.ByteTensor'>\n",
      "enforcing owner:<syft.core.workers.virtual.VirtualWorker id:0>\n",
      "enforcing owner:<syft.core.workers.virtual.VirtualWorker id:0>\n",
      "enforcing owner:<syft.core.workers.virtual.VirtualWorker id:0>\n",
      "enforcing owner:<syft.core.workers.virtual.VirtualWorker id:0>\n",
      "enforcing owner:<syft.core.workers.virtual.VirtualWorker id:0>\n",
      "enforcing owner:<syft.core.workers.virtual.VirtualWorker id:0>\n",
      "<class 'syft.core.frameworks.torch.tensor.DoubleTensor'>\n",
      "enforcing owner:<syft.core.workers.virtual.VirtualWorker id:0>\n",
      "enforcing owner:<syft.core.workers.virtual.VirtualWorker id:0>\n",
      "<class 'syft.core.frameworks.torch.tensor.DoubleTensor'>\n",
      "enforcing owner:<syft.core.workers.virtual.VirtualWorker id:0>\n",
      "<class 'syft.core.frameworks.torch.tensor._LocalTensor'>\n",
      "enforcing owner:<syft.core.workers.virtual.VirtualWorker id:0>\n",
      "<class 'syft.core.frameworks.torch.tensor.ByteTensor'>\n",
      "enforcing owner:<syft.core.workers.virtual.VirtualWorker id:0>\n",
      "enforcing owner:<syft.core.workers.virtual.VirtualWorker id:0>\n",
      "enforcing owner:<syft.core.workers.virtual.VirtualWorker id:0>\n",
      "enforcing owner:<syft.core.workers.virtual.VirtualWorker id:0>\n",
      "enforcing owner:<syft.core.workers.virtual.VirtualWorker id:0>\n",
      "enforcing owner:<syft.core.workers.virtual.VirtualWorker id:0>\n",
      "<class 'syft.core.frameworks.torch.tensor.ByteTensor'>\n",
      "enforcing owner:<syft.core.workers.virtual.VirtualWorker id:0>\n",
      "enforcing owner:<syft.core.workers.virtual.VirtualWorker id:0>\n",
      "<class 'syft.core.frameworks.torch.tensor.ByteTensor'>\n",
      "enforcing owner:<syft.core.workers.virtual.VirtualWorker id:0>\n",
      "<class 'syft.core.frameworks.torch.tensor._LocalTensor'>\n",
      "enforcing owner:<syft.core.workers.virtual.VirtualWorker id:0>\n",
      "<class 'syft.core.frameworks.torch.tensor.ByteTensor'>\n",
      "enforcing owner:<syft.core.workers.virtual.VirtualWorker id:0>\n",
      "enforcing owner:<syft.core.workers.virtual.VirtualWorker id:0>\n",
      "enforcing owner:<syft.core.workers.virtual.VirtualWorker id:0>\n",
      "enforcing owner:<syft.core.workers.virtual.VirtualWorker id:0>\n",
      "enforcing owner:<syft.core.workers.virtual.VirtualWorker id:0>\n",
      "enforcing owner:<syft.core.workers.virtual.VirtualWorker id:0>\n",
      "<class 'syft.core.frameworks.torch.tensor.ByteTensor'>\n",
      "enforcing owner:<syft.core.workers.virtual.VirtualWorker id:0>\n",
      "enforcing owner:<syft.core.workers.virtual.VirtualWorker id:0>\n",
      "<class 'syft.core.frameworks.torch.tensor.ByteTensor'>\n",
      "enforcing owner:<syft.core.workers.virtual.VirtualWorker id:0>\n",
      "<class 'syft.core.frameworks.torch.tensor._LocalTensor'>\n",
      "enforcing owner:<syft.core.workers.virtual.VirtualWorker id:0>\n",
      "<class 'syft.core.frameworks.torch.tensor.ByteTensor'>\n",
      "enforcing owner:<syft.core.workers.virtual.VirtualWorker id:0>\n",
      "enforcing owner:<syft.core.workers.virtual.VirtualWorker id:0>\n",
      "enforcing owner:<syft.core.workers.virtual.VirtualWorker id:0>\n",
      "enforcing owner:<syft.core.workers.virtual.VirtualWorker id:0>\n",
      "enforcing owner:<syft.core.workers.virtual.VirtualWorker id:0>\n",
      "enforcing owner:<syft.core.workers.virtual.VirtualWorker id:0>\n",
      "<class 'syft.core.frameworks.torch.tensor.ByteTensor'>\n",
      "enforcing owner:<syft.core.workers.virtual.VirtualWorker id:0>\n",
      "enforcing owner:<syft.core.workers.virtual.VirtualWorker id:0>\n",
      "<class 'syft.core.frameworks.torch.tensor.ByteTensor'>\n",
      "enforcing owner:<syft.core.workers.virtual.VirtualWorker id:0>\n",
      "<class 'syft.core.frameworks.torch.tensor._LocalTensor'>\n",
      "enforcing owner:<syft.core.workers.virtual.VirtualWorker id:0>\n",
      "<class 'syft.core.frameworks.torch.tensor.ByteTensor'>\n",
      "enforcing owner:<syft.core.workers.virtual.VirtualWorker id:0>\n",
      "enforcing owner:<syft.core.workers.virtual.VirtualWorker id:0>\n",
      "enforcing owner:<syft.core.workers.virtual.VirtualWorker id:0>\n",
      "enforcing owner:<syft.core.workers.virtual.VirtualWorker id:0>\n",
      "enforcing owner:<syft.core.workers.virtual.VirtualWorker id:0>\n",
      "enforcing owner:<syft.core.workers.virtual.VirtualWorker id:0>\n",
      "<class 'syft.core.frameworks.torch.tensor.ByteTensor'>\n",
      "enforcing owner:<syft.core.workers.virtual.VirtualWorker id:0>\n",
      "enforcing owner:<syft.core.workers.virtual.VirtualWorker id:0>\n",
      "<class 'syft.core.frameworks.torch.tensor.ByteTensor'>\n",
      "enforcing owner:<syft.core.workers.virtual.VirtualWorker id:0>\n",
      "<class 'syft.core.frameworks.torch.tensor._LocalTensor'>\n",
      "enforcing owner:<syft.core.workers.virtual.VirtualWorker id:0>\n",
      "<class 'syft.core.frameworks.torch.tensor.ByteTensor'>\n",
      "enforcing owner:<syft.core.workers.virtual.VirtualWorker id:0>\n",
      "enforcing owner:<syft.core.workers.virtual.VirtualWorker id:0>\n",
      "enforcing owner:<syft.core.workers.virtual.VirtualWorker id:0>\n",
      "enforcing owner:<syft.core.workers.virtual.VirtualWorker id:0>\n",
      "enforcing owner:<syft.core.workers.virtual.VirtualWorker id:0>\n",
      "enforcing owner:<syft.core.workers.virtual.VirtualWorker id:0>\n",
      "enforcing owner:<syft.core.workers.virtual.VirtualWorker id:0>\n",
      "<class 'syft.core.frameworks.torch.tensor.ByteTensor'>\n",
      "enforcing owner:<syft.core.workers.virtual.VirtualWorker id:0>\n",
      "enforcing owner:<syft.core.workers.virtual.VirtualWorker id:0>\n",
      "enforcing owner:<syft.core.workers.virtual.VirtualWorker id:0>\n",
      "enforcing owner:<syft.core.workers.virtual.VirtualWorker id:0>\n",
      "enforcing owner:<syft.core.workers.virtual.VirtualWorker id:0>\n",
      "enforcing owner:<syft.core.workers.virtual.VirtualWorker id:0>\n",
      "enforcing owner:<syft.core.workers.virtual.VirtualWorker id:0>\n",
      "enforcing owner:<syft.core.workers.virtual.VirtualWorker id:0>\n",
      "enforcing owner:<syft.core.workers.virtual.VirtualWorker id:0>\n",
      "<class 'syft.core.frameworks.torch.tensor.ByteTensor'>\n",
      "enforcing owner:<syft.core.workers.virtual.VirtualWorker id:0>\n",
      "<class 'syft.core.frameworks.torch.tensor._LocalTensor'>\n",
      "enforcing owner:<syft.core.workers.virtual.VirtualWorker id:0>\n",
      "<class 'syft.core.frameworks.torch.tensor.ByteTensor'>\n",
      "enforcing owner:<syft.core.workers.virtual.VirtualWorker id:0>\n",
      "enforcing owner:<syft.core.workers.virtual.VirtualWorker id:0>\n",
      "enforcing owner:<syft.core.workers.virtual.VirtualWorker id:0>\n",
      "enforcing owner:<syft.core.workers.virtual.VirtualWorker id:0>\n",
      "enforcing owner:<syft.core.workers.virtual.VirtualWorker id:0>\n",
      "enforcing owner:<syft.core.workers.virtual.VirtualWorker id:0>\n",
      "<class 'syft.core.frameworks.torch.tensor.ByteTensor'>\n",
      "enforcing owner:<syft.core.workers.virtual.VirtualWorker id:0>\n",
      "enforcing owner:<syft.core.workers.virtual.VirtualWorker id:0>\n",
      "<class 'syft.core.frameworks.torch.tensor.DoubleTensor'>\n",
      "enforcing owner:<syft.core.workers.virtual.VirtualWorker id:0>\n",
      "<class 'syft.core.frameworks.torch.tensor._LocalTensor'>\n",
      "enforcing owner:<syft.core.workers.virtual.VirtualWorker id:0>\n",
      "<class 'syft.core.frameworks.torch.tensor.DoubleTensor'>\n",
      "enforcing owner:<syft.core.workers.virtual.VirtualWorker id:0>\n",
      "enforcing owner:<syft.core.workers.virtual.VirtualWorker id:0>\n",
      "enforcing owner:<syft.core.workers.virtual.VirtualWorker id:0>\n",
      "enforcing owner:<syft.core.workers.virtual.VirtualWorker id:0>\n",
      "enforcing owner:<syft.core.workers.virtual.VirtualWorker id:0>\n",
      "enforcing owner:<syft.core.workers.virtual.VirtualWorker id:0>\n",
      "enforcing owner:<syft.core.workers.virtual.VirtualWorker id:0>\n",
      "enforcing owner:<syft.core.workers.virtual.VirtualWorker id:0>\n",
      "<class 'syft.core.frameworks.torch.tensor.DoubleTensor'>\n",
      "enforcing owner:<syft.core.workers.virtual.VirtualWorker id:0>\n",
      "enforcing owner:<syft.core.workers.virtual.VirtualWorker id:0>\n",
      "enforcing owner:<syft.core.workers.virtual.VirtualWorker id:0>\n",
      "enforcing owner:<syft.core.workers.virtual.VirtualWorker id:0>\n",
      "enforcing owner:<syft.core.workers.virtual.VirtualWorker id:0>\n",
      "enforcing owner:<syft.core.workers.virtual.VirtualWorker id:0>\n",
      "enforcing owner:<syft.core.workers.virtual.VirtualWorker id:0>\n",
      "<class 'syft.core.frameworks.torch.tensor.ByteTensor'>\n",
      "enforcing owner:<syft.core.workers.virtual.VirtualWorker id:0>\n",
      "enforcing owner:<syft.core.workers.virtual.VirtualWorker id:0>\n",
      "enforcing owner:<syft.core.workers.virtual.VirtualWorker id:0>\n",
      "<class 'syft.core.frameworks.torch.tensor.DoubleTensor'>\n",
      "enforcing owner:<syft.core.workers.virtual.VirtualWorker id:0>\n",
      "enforcing owner:<syft.core.workers.virtual.VirtualWorker id:0>\n",
      "enforcing owner:<syft.core.workers.virtual.VirtualWorker id:0>\n",
      "enforcing owner:<syft.core.workers.virtual.VirtualWorker id:0>\n",
      "enforcing owner:<syft.core.workers.virtual.VirtualWorker id:0>\n",
      "enforcing owner:<syft.core.workers.virtual.VirtualWorker id:0>\n",
      "enforcing owner:<syft.core.workers.virtual.VirtualWorker id:0>\n",
      "enforcing owner:<syft.core.workers.virtual.VirtualWorker id:0>\n",
      "<class 'syft.core.frameworks.torch.tensor.ByteTensor'>\n",
      "enforcing owner:<syft.core.workers.virtual.VirtualWorker id:0>\n",
      "enforcing owner:<syft.core.workers.virtual.VirtualWorker id:0>\n",
      "enforcing owner:<syft.core.workers.virtual.VirtualWorker id:0>\n",
      "enforcing owner:<syft.core.workers.virtual.VirtualWorker id:0>\n",
      "enforcing owner:<syft.core.workers.virtual.VirtualWorker id:0>\n",
      "enforcing owner:<syft.core.workers.virtual.VirtualWorker id:0>\n",
      "enforcing owner:<syft.core.workers.virtual.VirtualWorker id:0>\n",
      "enforcing owner:<syft.core.workers.virtual.VirtualWorker id:0>\n",
      "<class 'syft.core.frameworks.torch.tensor.DoubleTensor'>\n",
      "enforcing owner:<syft.core.workers.virtual.VirtualWorker id:0>\n",
      "enforcing owner:<syft.core.workers.virtual.VirtualWorker id:0>\n",
      "enforcing owner:<syft.core.workers.virtual.VirtualWorker id:0>\n",
      "enforcing owner:<syft.core.workers.virtual.VirtualWorker id:0>\n",
      "enforcing owner:<syft.core.workers.virtual.VirtualWorker id:0>\n",
      "enforcing owner:<syft.core.workers.virtual.VirtualWorker id:0>\n",
      "enforcing owner:<syft.core.workers.virtual.VirtualWorker id:0>\n",
      "enforcing owner:<syft.core.workers.virtual.VirtualWorker id:0>\n",
      "<class 'syft.core.frameworks.torch.tensor.DoubleTensor'>\n",
      "enforcing owner:<syft.core.workers.virtual.VirtualWorker id:0>\n"
     ]
    },
    {
     "data": {
      "text/plain": [
       "\n",
       " 1\n",
       " 2\n",
       " 3\n",
       " 4\n",
       "[syft.core.frameworks.torch.tensor.FloatTensor of size 4]"
      ]
     },
     "execution_count": 15,
     "metadata": {},
     "output_type": "execute_result"
    }
   ],
   "source": [
    "x.get()"
   ]
  },
  {
   "cell_type": "code",
   "execution_count": 12,
   "metadata": {},
   "outputs": [
    {
     "data": {
      "text/plain": [
       "{5220922905: array([1, 2, 3, 4])}"
      ]
     },
     "execution_count": 12,
     "metadata": {},
     "output_type": "execute_result"
    }
   ],
   "source": [
    "bob._objects"
   ]
  },
  {
   "cell_type": "code",
   "execution_count": 8,
   "metadata": {},
   "outputs": [
    {
     "name": "stdout",
     "output_type": "stream",
     "text": [
      "message wrapper json\n",
      "b'{\"message\": {\"obj\": {\"type\": \"numpy.array\", \"id\": 9550542501, \"data\": [1, 2, 3, 4]}, \"mode\": \"acquire\"}, \"type\": \"obj\"}\\n'\n",
      "{'message': array([1, 2, 3, 4]), 'type': 'obj'}\n"
     ]
    }
   ],
   "source": [
    "xptr = x.send(bob)"
   ]
  },
  {
   "cell_type": "code",
   "execution_count": 23,
   "metadata": {},
   "outputs": [
    {
     "data": {
      "text/plain": [
       "array_ptr(['data is remote'], dtype='<U14')"
      ]
     },
     "execution_count": 23,
     "metadata": {},
     "output_type": "execute_result"
    }
   ],
   "source": [
    "xptr"
   ]
  },
  {
   "cell_type": "code",
   "execution_count": 20,
   "metadata": {},
   "outputs": [],
   "source": [
    "x = xptr.get()"
   ]
  },
  {
   "cell_type": "code",
   "execution_count": 3,
   "metadata": {},
   "outputs": [
    {
     "data": {
      "text/plain": [
       "array([1, 2, 3, 4])"
      ]
     },
     "execution_count": 3,
     "metadata": {},
     "output_type": "execute_result"
    }
   ],
   "source": [
    "x"
   ]
  },
  {
   "cell_type": "code",
   "execution_count": null,
   "metadata": {},
   "outputs": [],
   "source": []
  }
 ],
 "metadata": {
  "kernelspec": {
   "display_name": "Python 3",
   "language": "python",
   "name": "python3"
  },
  "language_info": {
   "codemirror_mode": {
    "name": "ipython",
    "version": 3
   },
   "file_extension": ".py",
   "mimetype": "text/x-python",
   "name": "python",
   "nbconvert_exporter": "python",
   "pygments_lexer": "ipython3",
   "version": "3.6.1"
  }
 },
 "nbformat": 4,
 "nbformat_minor": 2
}
