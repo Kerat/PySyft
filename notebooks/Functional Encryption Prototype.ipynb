{
 "cells": [
  {
   "cell_type": "code",
   "execution_count": 1,
   "metadata": {
    "collapsed": true
   },
   "outputs": [],
   "source": [
    "from syft.he.paillier import KeyPair, PaillierTensor\n",
    "from syft import TensorBase\n",
    "import unittest\n",
    "import numpy as np\n"
   ]
  },
  {
   "cell_type": "code",
   "execution_count": 2,
   "metadata": {},
   "outputs": [],
   "source": [
    "p, s = KeyPair().generate()\n",
    "\n",
    "x = PaillierTensor(p, np.array([3., 8., 15., 24., 35.]))\n",
    "x2 = TensorBase(np.array([3, 4, 5, 6, 7.]))\n",
    "\n",
    "y = x / x2"
   ]
  },
  {
   "cell_type": "code",
   "execution_count": 24,
   "metadata": {},
   "outputs": [],
   "source": [
    "out = x2.data[0]"
   ]
  },
  {
   "cell_type": "code",
   "execution_count": 33,
   "metadata": {},
   "outputs": [
    {
     "data": {
      "text/plain": [
       "e"
      ]
     },
     "execution_count": 33,
     "metadata": {},
     "output_type": "execute_result"
    }
   ],
   "source": [
    "x.data[0] * (1/3.0)"
   ]
  },
  {
   "cell_type": "code",
   "execution_count": null,
   "metadata": {
    "collapsed": true
   },
   "outputs": [],
   "source": [
    "def __truediv__(self, tensor):\n",
    "    \"\"\"Performs element-wise division between two tensors\"\"\"\n",
    "    if self.encrypted:\n",
    "        return NotImplemented\n",
    "\n",
    "    if(type(tensor) != TensorBase and isinstance(tensor, TensorBase)):\n",
    "        out = tensor * 0\n",
    "        out += self\n",
    "        return out.data / tensor.data\n",
    "    else:\n",
    "        tensor = _ensure_tensorbase(tensor)\n",
    "        return TensorBase(self.data / tensor.data)"
   ]
  },
  {
   "cell_type": "code",
   "execution_count": null,
   "metadata": {
    "collapsed": true
   },
   "outputs": [],
   "source": []
  },
  {
   "cell_type": "code",
   "execution_count": 35,
   "metadata": {},
   "outputs": [
    {
     "data": {
      "text/plain": [
       "array([e, e, e, e, e], dtype=object)"
      ]
     },
     "execution_count": 35,
     "metadata": {},
     "output_type": "execute_result"
    }
   ],
   "source": [
    "\n",
    "def div(self, tensor):\n",
    "    \"\"\"Performs element-wise addition between two tensors\"\"\"\n",
    "\n",
    "    if(isinstance(tensor, TensorBase)):\n",
    "        if(not tensor.encrypted):\n",
    "            result = self.data * (1 / tensor.data)\n",
    "            o = PaillierTensor(self.public_key, result, False)\n",
    "            return o\n",
    "        else:\n",
    "            return NotImplemented\n",
    "    else:\n",
    "        return PaillierTensor(self.public_key, self.data * (1 / float(tensor)), False)\n",
    "y = div(x,x2)\n",
    "y"
   ]
  },
  {
   "cell_type": "code",
   "execution_count": null,
   "metadata": {
    "collapsed": true
   },
   "outputs": [],
   "source": []
  }
 ],
 "metadata": {
  "kernelspec": {
   "display_name": "Python 3",
   "language": "python",
   "name": "python3"
  },
  "language_info": {
   "codemirror_mode": {
    "name": "ipython",
    "version": 3
   },
   "file_extension": ".py",
   "mimetype": "text/x-python",
   "name": "python",
   "nbconvert_exporter": "python",
   "pygments_lexer": "ipython3",
   "version": "3.6.1"
  }
 },
 "nbformat": 4,
 "nbformat_minor": 2
}
