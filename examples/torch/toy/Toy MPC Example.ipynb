{
 "cells": [
  {
   "cell_type": "code",
   "execution_count": 54,
   "metadata": {},
   "outputs": [
    {
     "name": "stderr",
     "output_type": "stream",
     "text": [
      "WARNING:root:Torch was already hooked... skipping hooking process\n",
      "WARNING:root:Worker bob already exists. Replacing old worker which could causeunexpected behavior\n",
      "WARNING:root:Worker alice already exists. Replacing old worker which could causeunexpected behavior\n",
      "WARNING:root:Worker james already exists. Replacing old worker which could causeunexpected behavior\n",
      "WARNING:root:Worker bob already exists. Replacing old worker which could causeunexpected behavior\n",
      "WARNING:root:Worker alice already exists. Replacing old worker which could causeunexpected behavior\n",
      "WARNING:root:Worker james already exists. Replacing old worker which could causeunexpected behavior\n",
      "WARNING:root:Worker 0 already exists. Replacing old worker which could causeunexpected behavior\n",
      "WARNING:root:Worker 0 already exists. Replacing old worker which could causeunexpected behavior\n",
      "WARNING:root:Worker 0 already exists. Replacing old worker which could causeunexpected behavior\n"
     ]
    },
    {
     "data": {
      "text/plain": [
       "\n",
       "  2   4   6   8  10\n",
       "  1   2   3   4   5\n",
       "[syft.core.frameworks.torch.tensor.LongTensor of size 2x5]"
      ]
     },
     "execution_count": 54,
     "metadata": {},
     "output_type": "execute_result"
    }
   ],
   "source": [
    "import random\n",
    "import syft as sy\n",
    "from syft.core import utils\n",
    "from syft.core.frameworks.torch import utils as torch_utils\n",
    "from syft.core.frameworks import encode\n",
    "from syft.core.frameworks.torch.mpc_tensor import _MPCTensor\n",
    "from syft.core.frameworks.torch.tensor import _GeneralizedPointerTensor\n",
    "from syft.mpc import spdz\n",
    "import torch\n",
    "import torch.nn.functional as F\n",
    "from torch.autograd import Variable as Var\n",
    "import json\n",
    "\n",
    "hook = sy.TorchHook(verbose=True)\n",
    "\n",
    "me = hook.local_worker\n",
    "me.is_client_worker = False\n",
    "\n",
    "bob = sy.VirtualWorker(id=\"bob\", hook=hook, is_client_worker=False)\n",
    "alice = sy.VirtualWorker(id=\"alice\", hook=hook, is_client_worker=False)\n",
    "james = sy.VirtualWorker(id=\"james\", hook=hook, is_client_worker=False)\n",
    "\n",
    "me.add_workers([bob, alice, james])\n",
    "bob.add_workers([me, alice, james])\n",
    "alice.add_workers([me, bob, james])\n",
    "james.add_workers([me, bob, alice])\n",
    "\n",
    "def share(x):\n",
    "    x_enc = spdz.encode(x)\n",
    "    x_alice, x_bob = spdz.share(x_enc)\n",
    "    x_alice.send(alice)\n",
    "    x_bob.send(bob)\n",
    "    x_pointer_tensor_dict = {alice: x_alice.child, bob: x_bob.child}\n",
    "    x_gp = _GeneralizedPointerTensor(x_pointer_tensor_dict).on(x)\n",
    "    x_mpc = _MPCTensor(x_gp)\n",
    "    return x_mpc\n",
    "\n",
    "x = share(torch.LongTensor([[1,2,3,4,5],[1,2,3,4,5]]))\n",
    "y = share(torch.LongTensor([[2,2,2,2,2],[1,1,1,1,1]]))\n",
    "\n",
    "z = x * y\n",
    "\n",
    "z.get()"
   ]
  },
  {
   "cell_type": "code",
   "execution_count": 34,
   "metadata": {},
   "outputs": [],
   "source": []
  },
  {
   "cell_type": "code",
   "execution_count": 43,
   "metadata": {},
   "outputs": [],
   "source": []
  },
  {
   "cell_type": "code",
   "execution_count": 48,
   "metadata": {},
   "outputs": [],
   "source": []
  },
  {
   "cell_type": "code",
   "execution_count": 49,
   "metadata": {},
   "outputs": [
    {
     "data": {
      "text/plain": [
       "\n",
       "  2   4   6   7  10\n",
       "  0   2   3   4   5\n",
       "[syft.core.frameworks.torch.tensor.LongTensor of size 2x5]"
      ]
     },
     "execution_count": 49,
     "metadata": {},
     "output_type": "execute_result"
    }
   ],
   "source": []
  },
  {
   "cell_type": "code",
   "execution_count": 11,
   "metadata": {},
   "outputs": [],
   "source": [
    "def generate_mpc_number_pair(n1, n2):\n",
    "    x = torch.LongTensor([n1])\n",
    "    y = torch.LongTensor([n2])\n",
    "    x_enc = spdz.encode(x)\n",
    "    y_enc = spdz.encode(y)\n",
    "    x_alice, x_bob = spdz.share(x_enc)\n",
    "    y_alice, y_bob = spdz.share(y_enc)\n",
    "    x_alice.send(alice)\n",
    "    x_bob.send(bob)\n",
    "    y_alice.send(alice)\n",
    "    y_bob.send(bob)\n",
    "    x_pointer_tensor_dict = {alice: x_alice.child, bob: x_bob.child}\n",
    "    y_pointer_tensor_dict = {alice: y_alice.child, bob: y_bob.child}\n",
    "    x_gp = _GeneralizedPointerTensor(x_pointer_tensor_dict).on(x)\n",
    "    y_gp = _GeneralizedPointerTensor(y_pointer_tensor_dict).on(y)\n",
    "    x_mpc = _MPCTensor(x_gp)\n",
    "    y_mpc = _MPCTensor(y_gp)\n",
    "    return x_mpc, y_mpc\n",
    "\n",
    "def mpc_sum(n1, n2):\n",
    "    x_mpc, y_mpc = generate_mpc_number_pair(n1, n2)\n",
    "    sum_mpc = x_mpc + y_mpc\n",
    "    sum_mpc = sum_mpc.get()\n",
    "    assert torch.eq(sum_mpc, torch.LongTensor([n1 + n2])).all()\n",
    "\n",
    "def test_mpc_sum():\n",
    "    self.mpc_sum(3, 5)\n",
    "    self.mpc_sum(4, 0)\n",
    "    self.mpc_sum(5, -5)\n",
    "    self.mpc_sum(3, -5)\n",
    "    self.mpc_sum(2 ** 24, 2 ** 12)\n",
    "\n",
    "def mpc_mul(n1, n2):\n",
    "    x_mpc, y_mpc = generate_mpc_number_pair(n1, n2)\n",
    "    mul_mpc = x_mpc * y_mpc\n",
    "    mul_mpc = mul_mpc.get()\n",
    "    return mul_mpc\n",
    "    assert torch.eq(mul_mpc, torch.LongTensor([n1 * n2])).all(), (mul_mpc, 'should be', torch.LongTensor([n1 * n2]))\n",
    "\n",
    "def test_mpc_mul():\n",
    "    mpc_mul(3, 5)\n",
    "    mpc_mul(4, 0)\n",
    "    mpc_mul(5, -5)\n",
    "    mpc_mul(3, 5)\n",
    "    mpc_mul(2 ** 12, 2 ** 12)"
   ]
  },
  {
   "cell_type": "code",
   "execution_count": 26,
   "metadata": {},
   "outputs": [
    {
     "data": {
      "text/plain": [
       "\n",
       " 14\n",
       "[syft.core.frameworks.torch.tensor.LongTensor of size 1]"
      ]
     },
     "execution_count": 26,
     "metadata": {},
     "output_type": "execute_result"
    }
   ],
   "source": [
    "mpc_mul(3, 5)"
   ]
  },
  {
   "cell_type": "code",
   "execution_count": null,
   "metadata": {},
   "outputs": [],
   "source": []
  }
 ],
 "metadata": {
  "kernelspec": {
   "display_name": "Python 3",
   "language": "python",
   "name": "python3"
  },
  "language_info": {
   "codemirror_mode": {
    "name": "ipython",
    "version": 3
   },
   "file_extension": ".py",
   "mimetype": "text/x-python",
   "name": "python",
   "nbconvert_exporter": "python",
   "pygments_lexer": "ipython3",
   "version": "3.6.1"
  }
 },
 "nbformat": 4,
 "nbformat_minor": 2
}
