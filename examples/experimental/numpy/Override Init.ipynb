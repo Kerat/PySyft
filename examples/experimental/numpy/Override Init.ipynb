{
 "cells": [
  {
   "cell_type": "code",
   "execution_count": 2,
   "metadata": {},
   "outputs": [],
   "source": [
    "import numpy as np\n",
    "import random\n",
    "import syft as sy\n",
    "import json\n",
    "from syft.core.frameworks.numpy import NumpyEncoder"
   ]
  },
  {
   "cell_type": "code",
   "execution_count": 3,
   "metadata": {},
   "outputs": [],
   "source": [
    "class abstractarray(np.ndarray):\n",
    "\n",
    "    def __new__(cls, input_array, id=None, owner=None):\n",
    "\n",
    "        # Input array is an already formed ndarray instance\n",
    "        # We first cast to be our class type\n",
    "        obj = np.asarray(input_array).view(cls)\n",
    "    \n",
    "        obj = obj.init(input_array, id, owner)\n",
    "        \n",
    "        return obj\n",
    "    \n",
    "    def init(self, input_array, id, owner):\n",
    "\n",
    "        # add the new attribute to the created instance\n",
    "        if (id is None):\n",
    "            id = random.randint(0, 1e10)\n",
    "        self.id = id\n",
    "        \n",
    "        if(owner is None):\n",
    "            # cache the local_worker object locally which we will\n",
    "            # use for all outgoing communications\n",
    "            if not hasattr(sy, 'local_worker'):\n",
    "                hook = sy.TorchHook()\n",
    "            owner = sy.local_worker\n",
    "\n",
    "        self.owner = owner\n",
    "\n",
    "        # Finally, we must return the newly created object:\n",
    "        return self\n",
    "\n",
    "    def __array_finalize__(self, obj):\n",
    "        # see InfoArray.__array_finalize__ for comments\n",
    "        if obj is None: return\n",
    "        self.info = getattr(obj, 'info', None)\n",
    "\n",
    "        \n",
    "class array(abstractarray):\n",
    "    \n",
    "    def ser(self, to_json=False):\n",
    "        if(to_json):\n",
    "            return json.dumps(self, cls=NumpyEncoder)\n",
    "        else:\n",
    "            out = {}\n",
    "            out['type'] = \"numpy.array\"\n",
    "            out['id'] = self.id\n",
    "            out['data'] = self.tolist()\n",
    "            return out\n",
    "    \n",
    "    def send(self, worker, ptr_id=None):\n",
    "        \n",
    "        if isinstance(worker, (int, str)):\n",
    "            worker = self.owner.get_worker(worker)\n",
    "            \n",
    "        if ptr_id is None:\n",
    "            ptr_id = random.randint(0, 10e10)\n",
    "\n",
    "        obj_id = self.id\n",
    "        \n",
    "        self.owner.send_obj(self, obj_id, worker)\n",
    "        \n",
    "        ptr = self.create_pointer(id=ptr_id,\n",
    "                                  location=worker,\n",
    "                                  id_at_location=obj_id)\n",
    "        return ptr\n",
    "    \n",
    "    def create_pointer(self, id, location, id_at_location):\n",
    "        \n",
    "        return array_ptr(None,\n",
    "                         id=id,\n",
    "                         owner=self.owner,\n",
    "                         location=location,\n",
    "                         id_at_location=id_at_location)\n",
    "        \n",
    "        \n",
    "            \n",
    "class array_ptr(abstractarray):\n",
    "    \n",
    "    def __new__(cls, _,\n",
    "                id=None,\n",
    "                owner=None,\n",
    "                location=None,\n",
    "                id_at_location=None):\n",
    "\n",
    "        # Input array is an already formed ndarray instance\n",
    "        # We first cast to be our class type\n",
    "        obj = np.asarray([\"data is remote\"]).view(cls)\n",
    "    \n",
    "        obj = obj.init([\"data is remote\"], id, owner)\n",
    "        \n",
    "        obj.location = location\n",
    "        obj.id_at_location = id_at_location\n",
    "        \n",
    "        return obj\n",
    "    \n",
    "    \n",
    "    def get(self, deregister_ptr=True):\n",
    "        \"\"\"\n",
    "            Get a chain back from a remote worker that his pointer is pointing at\n",
    "        \"\"\"\n",
    "        \n",
    "        # Remove this pointer - TODO: call deregister function instead of doing it by hand\n",
    "        if(deregister_ptr):\n",
    "            self.owner.rm_obj(self.id)\n",
    "        \n",
    "        # if the pointer happens to be pointing to a local object,\n",
    "        # just return that object (this is an edge case)\n",
    "        if self.location == self.owner:\n",
    "            return self.owner.get_obj(self.id_at_location)\n",
    "    \n",
    "        obj = self.owner.request_obj(self.id_at_location, self.location)\n",
    "        obj.id = self.id\n",
    "        self.owner.register(obj)\n",
    "        return obj\n",
    "        \n",
    "        "
   ]
  },
  {
   "cell_type": "code",
   "execution_count": 4,
   "metadata": {},
   "outputs": [],
   "source": [
    "x = array([1,2,3,4])\n",
    "me = sy.local_worker\n",
    "hook = me.hook"
   ]
  },
  {
   "cell_type": "code",
   "execution_count": 5,
   "metadata": {},
   "outputs": [],
   "source": [
    "bob = sy.VirtualWorker(hook=hook)"
   ]
  },
  {
   "cell_type": "code",
   "execution_count": 6,
   "metadata": {},
   "outputs": [],
   "source": [
    "x = array([1,2,3,4])"
   ]
  },
  {
   "cell_type": "code",
   "execution_count": 7,
   "metadata": {},
   "outputs": [],
   "source": [
    "xptr = x.send(bob)"
   ]
  },
  {
   "cell_type": "code",
   "execution_count": 8,
   "metadata": {},
   "outputs": [
    {
     "data": {
      "text/plain": [
       "71421821372"
      ]
     },
     "execution_count": 8,
     "metadata": {},
     "output_type": "execute_result"
    }
   ],
   "source": [
    "xptr.id"
   ]
  },
  {
   "cell_type": "code",
   "execution_count": 9,
   "metadata": {},
   "outputs": [
    {
     "data": {
      "text/plain": [
       "1552408959"
      ]
     },
     "execution_count": 9,
     "metadata": {},
     "output_type": "execute_result"
    }
   ],
   "source": [
    "xptr.id_at_location"
   ]
  },
  {
   "cell_type": "code",
   "execution_count": 10,
   "metadata": {},
   "outputs": [
    {
     "data": {
      "text/plain": [
       "{1552408959: array([1, 2, 3, 4])}"
      ]
     },
     "execution_count": 10,
     "metadata": {},
     "output_type": "execute_result"
    }
   ],
   "source": [
    "bob._objects"
   ]
  },
  {
   "cell_type": "code",
   "execution_count": 11,
   "metadata": {},
   "outputs": [],
   "source": [
    "x2 = xptr.get()"
   ]
  },
  {
   "cell_type": "code",
   "execution_count": 12,
   "metadata": {},
   "outputs": [
    {
     "data": {
      "text/plain": [
       "array([1, 2, 3, 4])"
      ]
     },
     "execution_count": 12,
     "metadata": {},
     "output_type": "execute_result"
    }
   ],
   "source": [
    "x,"
   ]
  },
  {
   "cell_type": "code",
   "execution_count": null,
   "metadata": {},
   "outputs": [],
   "source": []
  },
  {
   "cell_type": "code",
   "execution_count": null,
   "metadata": {},
   "outputs": [],
   "source": []
  }
 ],
 "metadata": {
  "kernelspec": {
   "display_name": "Python 3",
   "language": "python",
   "name": "python3"
  },
  "language_info": {
   "codemirror_mode": {
    "name": "ipython",
    "version": 3
   },
   "file_extension": ".py",
   "mimetype": "text/x-python",
   "name": "python",
   "nbconvert_exporter": "python",
   "pygments_lexer": "ipython3",
   "version": "3.6.1"
  }
 },
 "nbformat": 4,
 "nbformat_minor": 2
}
