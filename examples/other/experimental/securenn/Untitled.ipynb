{
 "cells": [
  {
   "cell_type": "code",
   "execution_count": 1,
   "metadata": {},
   "outputs": [],
   "source": [
    "import syft as sy\n",
    "from syft.spdz import spdz\n",
    "from syft.mpc.securenn import decompose, select_shares, private_compare, generate_zero_shares_communication, msb, relu_deriv\n",
    "from syft.core.frameworks.torch.tensor import _GeneralizedPointerTensor, _SPDZTensor, _SNNTensor\n",
    "from syft.core.frameworks.torch import utils as torch_utils\n",
    "\n",
    "import unittest\n",
    "import numpy as np\n",
    "import torch\n",
    "import importlib\n",
    "\n",
    "global display_chain\n",
    "\n",
    "class Chain():\n",
    "    def __init__(self, leaf=False):\n",
    "        if not leaf:\n",
    "            self.tensor = Chain(True)\n",
    "            self.var = Chain(True)\n",
    "\n",
    "display_chain = Chain()\n",
    "\n",
    "display_chain.tensor.local = 'FloatTensor > _LocalTensor'\n",
    "\n",
    "display_chain.tensor.pointer = 'FloatTensor > _PointerTensor'\n",
    "\n",
    "display_chain.tensor.fixp_local = 'FloatTensor > _FixedPrecisionTensor > LongTensor > _LocalTensor'\n",
    "\n",
    "display_chain.tensor.fixp_mpc_gpt = 'FloatTensor > _FixedPrecisionTensor > LongTensor > _SNNTensor > LongTensor > _GeneralizedPointerTensor'\n",
    "\n",
    "display_chain.var.local = 'Variable > _LocalTensor\\n' \\\n",
    "                          ' - FloatTensor > _LocalTensor\\n' \\\n",
    "                          ' - - Variable > _LocalTensor\\n' \\\n",
    "                          '   - FloatTensor > _LocalTensor'\n",
    "\n",
    "display_chain.var.pointer = 'Variable > _PointerTensor\\n' \\\n",
    "                            ' - FloatTensor > _PointerTensor\\n' \\\n",
    "                            ' - - Variable > _PointerTensor\\n' \\\n",
    "                            '   - FloatTensor > _PointerTensor'\n",
    "\n",
    "display_chain.var.fixp_local = 'Variable > _FixedPrecisionTensor > Variable > _LocalTensor\\n' \\\n",
    "                               ' - FloatTensor > _FixedPrecisionTensor > LongTensor > _LocalTensor\\n' \\\n",
    "                               ' - - Variable > _FixedPrecisionTensor > Variable > _LocalTensor\\n' \\\n",
    "                               '   - FloatTensor > _FixedPrecisionTensor > LongTensor > _LocalTensor'\n",
    "\n",
    "display_chain.var.fixp_mpc_gpt = 'Variable > _FixedPrecisionTensor > Variable > _SNNTensor > Variable > _GeneralizedPointerTensor\\n' \\\n",
    "                                 ' - FloatTensor > _FixedPrecisionTensor > LongTensor > _SNNTensor > LongTensor > _GeneralizedPointerTensor\\n' \\\n",
    "                                 ' - - Variable > _FixedPrecisionTensor > Variable > _SNNTensor > Variable > _GeneralizedPointerTensor\\n' \\\n",
    "                                 '   - FloatTensor > _FixedPrecisionTensor > LongTensor > _SNNTensor > LongTensor > _LocalTensor'\n"
   ]
  },
  {
   "cell_type": "code",
   "execution_count": 2,
   "metadata": {},
   "outputs": [
    {
     "name": "stderr",
     "output_type": "stream",
     "text": [
      "WARNING:root:Worker bob already exists. Replacing old worker which could cause unexpected behavior\n",
      "WARNING:root:Worker alice already exists. Replacing old worker which could cause unexpected behavior\n",
      "WARNING:root:Worker 0 already exists. Replacing old worker which could cause unexpected behavior\n",
      "WARNING:root:Worker 0 already exists. Replacing old worker which could cause unexpected behavior\n"
     ]
    }
   ],
   "source": [
    "hook = sy.TorchHook(verbose=True)\n",
    "\n",
    "me = hook.local_worker\n",
    "me.is_client_worker = False\n",
    "\n",
    "bob = sy.VirtualWorker(id=\"bob\", hook=hook, is_client_worker=False)\n",
    "alice = sy.VirtualWorker(id=\"alice\", hook=hook, is_client_worker=False)\n",
    "\n",
    "me.add_workers([bob, alice])\n",
    "bob.add_workers([me, alice])\n",
    "alice.add_workers([me, bob])"
   ]
  },
  {
   "cell_type": "code",
   "execution_count": 3,
   "metadata": {},
   "outputs": [],
   "source": [
    "L = spdz.Q_BITS\n",
    "\n",
    "def random_as(tensor, mod=L):\n",
    "    r = torch.LongTensor(tensor.get_shape()).random_(mod)\n",
    "    return r\n",
    "\n",
    "def xor(x, y):\n",
    "    return x + y - 2 * x * y\n",
    "\n",
    "def flip(x, dim):\n",
    "    indices = torch.arange(x.get_shape()[dim] - 1, -1, -1).long()\n",
    "\n",
    "    if hasattr(x.child, 'pointer_tensor_dict'):\n",
    "        indices = indices.send(*list(x.child.pointer_tensor_dict.keys()))\n",
    "\n",
    "    return x.index_select(dim, indices)"
   ]
  },
  {
   "cell_type": "code",
   "execution_count": 28,
   "metadata": {},
   "outputs": [],
   "source": [
    "x = (torch.LongTensor([[-1,3,-5,7],[-1,0,1,2]])).share(alice,bob)"
   ]
  },
  {
   "cell_type": "code",
   "execution_count": 30,
   "metadata": {},
   "outputs": [
    {
     "name": "stdout",
     "output_type": "stream",
     "text": [
      "1 loop, best of 3: 227 ms per loop\n"
     ]
    }
   ],
   "source": [
    "%%timeit\n",
    "out = x.relu()"
   ]
  },
  {
   "cell_type": "code",
   "execution_count": 6,
   "metadata": {},
   "outputs": [
    {
     "data": {
      "text/plain": [
       "\n",
       " 0  3  0  7\n",
       " 0  0  1  2\n",
       "[syft.core.frameworks.torch.tensor.LongTensor of size 2x4]"
      ]
     },
     "execution_count": 6,
     "metadata": {},
     "output_type": "execute_result"
    }
   ],
   "source": [
    "out.get()"
   ]
  },
  {
   "cell_type": "code",
   "execution_count": null,
   "metadata": {},
   "outputs": [],
   "source": []
  },
  {
   "cell_type": "code",
   "execution_count": null,
   "metadata": {},
   "outputs": [],
   "source": []
  },
  {
   "cell_type": "code",
   "execution_count": null,
   "metadata": {},
   "outputs": [],
   "source": []
  },
  {
   "cell_type": "code",
   "execution_count": null,
   "metadata": {},
   "outputs": [],
   "source": []
  },
  {
   "cell_type": "code",
   "execution_count": null,
   "metadata": {},
   "outputs": [],
   "source": []
  },
  {
   "cell_type": "code",
   "execution_count": null,
   "metadata": {},
   "outputs": [],
   "source": []
  },
  {
   "cell_type": "code",
   "execution_count": null,
   "metadata": {},
   "outputs": [],
   "source": []
  }
 ],
 "metadata": {
  "kernelspec": {
   "display_name": "Python 3",
   "language": "python",
   "name": "python3"
  },
  "language_info": {
   "codemirror_mode": {
    "name": "ipython",
    "version": 3
   },
   "file_extension": ".py",
   "mimetype": "text/x-python",
   "name": "python",
   "nbconvert_exporter": "python",
   "pygments_lexer": "ipython3",
   "version": "3.6.1"
  }
 },
 "nbformat": 4,
 "nbformat_minor": 2
}
