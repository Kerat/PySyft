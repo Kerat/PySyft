{
 "cells": [
  {
   "cell_type": "code",
   "execution_count": 1,
   "metadata": {},
   "outputs": [],
   "source": [
    "import syft as sy\n",
    "from syft.core import utils\n",
    "import torch\n",
    "import torch.nn.functional as F\n",
    "import json\n",
    "import random\n",
    "from syft.core.utils import chain_print as pp\n",
    "hook = sy.TorchHook(verbose=False)\n",
    "me = hook.local_worker\n",
    "bob = sy.VirtualWorker(id=\"bob\",hook=hook, is_client_worker=False)\n",
    "alice = sy.VirtualWorker(id=\"alice\",hook=hook, is_client_worker=False)\n",
    "james = sy.VirtualWorker(id=\"james\",hook=hook, is_client_worker=False)\n",
    "me.is_client_worker = False\n",
    "me.add_workers([bob, alice, james])\n",
    "bob.add_workers([me, alice, james])\n",
    "alice.add_workers([me, bob, james])\n",
    "james.add_workers([me, bob, alice])"
   ]
  },
  {
   "cell_type": "code",
   "execution_count": 2,
   "metadata": {},
   "outputs": [
    {
     "data": {
      "text/plain": [
       "<property at 0x11898e908>"
      ]
     },
     "execution_count": 2,
     "metadata": {},
     "output_type": "execute_result"
    }
   ],
   "source": [
    "t = sy.IntTensor\n",
    "t.child"
   ]
  },
  {
   "cell_type": "code",
   "execution_count": null,
   "metadata": {},
   "outputs": [],
   "source": [
    "x = torch.FloatTensor([1, 2, -3, 4, 5])\n",
    "x = x.cos()\n",
    "assert (x.int() == torch.IntTensor(\n",
    "    [0, 0, 0, 0, 0])).all()"
   ]
  },
  {
   "cell_type": "code",
   "execution_count": null,
   "metadata": {},
   "outputs": [],
   "source": [
    "t = sy.IntTensor\n",
    "t.child"
   ]
  },
  {
   "cell_type": "code",
   "execution_count": 3,
   "metadata": {
    "scrolled": true
   },
   "outputs": [
    {
     "name": "stdout",
     "output_type": "stream",
     "text": [
      "int\n",
      ">>> int\n",
      "--   \n",
      "<class 'syft.core.frameworks.torch.tensor.Variable'>\n",
      "<class 'syft.core.frameworks.torch.tensor._LocalTensor'>\n",
      ">>> int\n",
      "--   \n",
      "<class 'syft.core.frameworks.torch.tensor._LocalTensor'>\n",
      "<class 'syft.core.frameworks.torch.tensor.Variable'>\n",
      "torch._import_dotted_name\n",
      ">>> torch._import_dotted_name\n",
      ">>> torch._import_dotted_name\n",
      "copy_\n",
      "> prepare_child_command\n",
      "2 0\n",
      "{'obj': {'command': 'copy_', 'has_self': True, 'args': {'__tuple__': [{'__FloatTensor__': {'type': 'syft.core.frameworks.torch.tensor.FloatTensor', 'torch_type': 'syft.FloatTensor', 'data': [], 'child': {'___LocalTensor__': {'owner': 0, 'id': 5703192623, 'torch_type': 'syft.FloatTensor'}}}}, False]}, 'kwargs': {}, 'self': {'__IntTensor__': {'type': 'syft.core.frameworks.torch.tensor.IntTensor', 'torch_type': 'syft.IntTensor', 'data': [], 'child': {'___LocalTensor__': {'owner': 0, 'id': 8185365277, 'torch_type': 'syft.IntTensor'}}}}}, 'mode': 'subscribe'}\n",
      ">>> copy_\n",
      "--   \n",
      "<class 'syft.core.frameworks.torch.tensor.FloatTensor'>\n",
      "<class 'syft.core.frameworks.torch.tensor._LocalTensor'>\n",
      "--   \n",
      "<class 'syft.core.frameworks.torch.tensor.IntTensor'>\n",
      "<class 'syft.core.frameworks.torch.tensor._LocalTensor'>\n",
      "{'obj': {'command': 'copy_', 'has_self': True, 'args': {'__tuple__': [{'___LocalTensor__': {'owner': 0, 'id': 5703192623, 'torch_type': 'syft.FloatTensor'}}, False]}, 'kwargs': {}, 'self': {'___LocalTensor__': {'owner': 0, 'id': 8185365277, 'torch_type': 'syft.IntTensor'}}}, 'mode': 'subscribe'}\n",
      "< end prepare_child_command\n",
      ">>> copy_\n",
      "--   \n",
      "<class 'syft.core.frameworks.torch.tensor._LocalTensor'>\n",
      "<class 'syft.core.frameworks.torch.tensor.FloatTensor'>\n",
      "--   \n",
      "<class 'syft.core.frameworks.torch.tensor._LocalTensor'>\n",
      "<class 'syft.core.frameworks.torch.tensor.IntTensor'>\n"
     ]
    }
   ],
   "source": [
    "x = sy.Variable(torch.FloatTensor([1, 2.2, -3, 4, 5]))\n",
    "z = x.int()"
   ]
  },
  {
   "cell_type": "code",
   "execution_count": 4,
   "metadata": {},
   "outputs": [
    {
     "name": "stdout",
     "output_type": "stream",
     "text": [
      "copy_\n",
      "> prepare_child_command\n",
      "1 0\n",
      "{'obj': {'command': 'copy_', 'has_self': True, 'args': {'__tuple__': [{'__IntTensor__': {'type': 'syft.core.frameworks.torch.tensor.IntTensor', 'torch_type': 'syft.IntTensor', 'data': [], 'child': {'___LocalTensor__': {'owner': 0, 'id': 8185365277, 'torch_type': 'syft.IntTensor'}}}}]}, 'kwargs': {}, 'self': {'__DoubleTensor__': {'type': 'syft.core.frameworks.torch.tensor.DoubleTensor', 'torch_type': 'syft.DoubleTensor', 'data': [], 'child': {'___LocalTensor__': {'owner': 0, 'id': 592961809, 'torch_type': 'syft.DoubleTensor'}}}}}, 'mode': 'subscribe'}\n",
      ">>> copy_\n",
      "--   \n",
      "<class 'syft.core.frameworks.torch.tensor.IntTensor'>\n",
      "<class 'syft.core.frameworks.torch.tensor._LocalTensor'>\n",
      "--   \n",
      "<class 'syft.core.frameworks.torch.tensor.DoubleTensor'>\n",
      "<class 'syft.core.frameworks.torch.tensor._LocalTensor'>\n",
      "{'obj': {'command': 'copy_', 'has_self': True, 'args': {'__tuple__': [{'___LocalTensor__': {'owner': 0, 'id': 8185365277, 'torch_type': 'syft.IntTensor'}}]}, 'kwargs': {}, 'self': {'___LocalTensor__': {'owner': 0, 'id': 592961809, 'torch_type': 'syft.DoubleTensor'}}}, 'mode': 'subscribe'}\n",
      "< end prepare_child_command\n",
      ">>> copy_\n",
      "--   \n",
      "<class 'syft.core.frameworks.torch.tensor._LocalTensor'>\n",
      "<class 'syft.core.frameworks.torch.tensor.IntTensor'>\n",
      "--   \n",
      "<class 'syft.core.frameworks.torch.tensor._LocalTensor'>\n",
      "<class 'syft.core.frameworks.torch.tensor.DoubleTensor'>\n",
      "abs_\n",
      ">>> abs_\n",
      "--   \n",
      "<class 'syft.core.frameworks.torch.tensor.DoubleTensor'>\n",
      "<class 'syft.core.frameworks.torch.tensor._LocalTensor'>\n",
      ">>> abs_\n",
      "--   \n",
      "<class 'syft.core.frameworks.torch.tensor._LocalTensor'>\n",
      "<class 'syft.core.frameworks.torch.tensor.DoubleTensor'>\n",
      "view\n",
      ">>> view\n",
      "--   \n",
      "<class 'syft.core.frameworks.torch.tensor.DoubleTensor'>\n",
      "<class 'syft.core.frameworks.torch.tensor._LocalTensor'>\n",
      ">>> view\n",
      "--   \n",
      "<class 'syft.core.frameworks.torch.tensor._LocalTensor'>\n",
      "<class 'syft.core.frameworks.torch.tensor.DoubleTensor'>\n",
      "eq\n",
      ">>> eq\n",
      "--   \n",
      "<class 'syft.core.frameworks.torch.tensor.DoubleTensor'>\n",
      "<class 'syft.core.frameworks.torch.tensor._LocalTensor'>\n",
      ">>> eq\n",
      "--   \n",
      "<class 'syft.core.frameworks.torch.tensor._LocalTensor'>\n",
      "<class 'syft.core.frameworks.torch.tensor.DoubleTensor'>\n",
      "eq\n",
      ">>> eq\n",
      "--   \n",
      "<class 'syft.core.frameworks.torch.tensor.DoubleTensor'>\n",
      "<class 'syft.core.frameworks.torch.tensor._LocalTensor'>\n",
      ">>> eq\n",
      "--   \n",
      "<class 'syft.core.frameworks.torch.tensor._LocalTensor'>\n",
      "<class 'syft.core.frameworks.torch.tensor.DoubleTensor'>\n",
      "ne\n",
      ">>> ne\n",
      "--   \n",
      "<class 'syft.core.frameworks.torch.tensor.DoubleTensor'>\n",
      "<class 'syft.core.frameworks.torch.tensor._LocalTensor'>\n",
      "--   \n",
      "<class 'syft.core.frameworks.torch.tensor.DoubleTensor'>\n",
      "<class 'syft.core.frameworks.torch.tensor._LocalTensor'>\n",
      ">>> ne\n",
      "--   \n",
      "<class 'syft.core.frameworks.torch.tensor._LocalTensor'>\n",
      "<class 'syft.core.frameworks.torch.tensor.DoubleTensor'>\n",
      "--   \n",
      "<class 'syft.core.frameworks.torch.tensor._LocalTensor'>\n",
      "<class 'syft.core.frameworks.torch.tensor.DoubleTensor'>\n",
      "__add__\n",
      ">>> __add__\n",
      "--   \n",
      "<class 'syft.core.frameworks.torch.tensor.ByteTensor'>\n",
      "<class 'syft.core.frameworks.torch.tensor._LocalTensor'>\n",
      "--   \n",
      "<class 'syft.core.frameworks.torch.tensor.ByteTensor'>\n",
      "<class 'syft.core.frameworks.torch.tensor._LocalTensor'>\n",
      ">>> __add__\n",
      "--   \n",
      "<class 'syft.core.frameworks.torch.tensor._LocalTensor'>\n",
      "<class 'syft.core.frameworks.torch.tensor.ByteTensor'>\n",
      "--   \n",
      "<class 'syft.core.frameworks.torch.tensor._LocalTensor'>\n",
      "<class 'syft.core.frameworks.torch.tensor.ByteTensor'>\n",
      "add\n",
      ">>> add\n",
      "--   \n",
      "<class 'syft.core.frameworks.torch.tensor.ByteTensor'>\n",
      "<class 'syft.core.frameworks.torch.tensor._LocalTensor'>\n",
      "--   \n",
      "<class 'syft.core.frameworks.torch.tensor.ByteTensor'>\n",
      "<class 'syft.core.frameworks.torch.tensor._LocalTensor'>\n",
      ">>> add\n",
      "--   \n",
      "<class 'syft.core.frameworks.torch.tensor._LocalTensor'>\n",
      "<class 'syft.core.frameworks.torch.tensor.ByteTensor'>\n",
      "--   \n",
      "<class 'syft.core.frameworks.torch.tensor._LocalTensor'>\n",
      "<class 'syft.core.frameworks.torch.tensor.ByteTensor'>\n",
      "__add__\n",
      ">>> __add__\n",
      "--   \n",
      "<class 'syft.core.frameworks.torch.tensor.ByteTensor'>\n",
      "<class 'syft.core.frameworks.torch.tensor._LocalTensor'>\n",
      "--   \n",
      "<class 'syft.core.frameworks.torch.tensor.ByteTensor'>\n",
      "<class 'syft.core.frameworks.torch.tensor._LocalTensor'>\n",
      ">>> __add__\n",
      "--   \n",
      "<class 'syft.core.frameworks.torch.tensor._LocalTensor'>\n",
      "<class 'syft.core.frameworks.torch.tensor.ByteTensor'>\n",
      "--   \n",
      "<class 'syft.core.frameworks.torch.tensor._LocalTensor'>\n",
      "<class 'syft.core.frameworks.torch.tensor.ByteTensor'>\n",
      "add\n",
      ">>> add\n",
      "--   \n",
      "<class 'syft.core.frameworks.torch.tensor.ByteTensor'>\n",
      "<class 'syft.core.frameworks.torch.tensor._LocalTensor'>\n",
      "--   \n",
      "<class 'syft.core.frameworks.torch.tensor.ByteTensor'>\n",
      "<class 'syft.core.frameworks.torch.tensor._LocalTensor'>\n",
      ">>> add\n",
      "--   \n",
      "<class 'syft.core.frameworks.torch.tensor._LocalTensor'>\n",
      "<class 'syft.core.frameworks.torch.tensor.ByteTensor'>\n",
      "--   \n",
      "<class 'syft.core.frameworks.torch.tensor._LocalTensor'>\n",
      "<class 'syft.core.frameworks.torch.tensor.ByteTensor'>\n",
      "all\n",
      ">>> all\n",
      "--   \n",
      "<class 'syft.core.frameworks.torch.tensor.ByteTensor'>\n",
      "<class 'syft.core.frameworks.torch.tensor._LocalTensor'>\n",
      ">>> all\n",
      "--   \n",
      "<class 'syft.core.frameworks.torch.tensor._LocalTensor'>\n",
      "<class 'syft.core.frameworks.torch.tensor.ByteTensor'>\n",
      "eq\n",
      ">>> eq\n",
      "--   \n",
      "<class 'syft.core.frameworks.torch.tensor.ByteTensor'>\n",
      "<class 'syft.core.frameworks.torch.tensor._LocalTensor'>\n",
      ">>> eq\n",
      "--   \n",
      "<class 'syft.core.frameworks.torch.tensor._LocalTensor'>\n",
      "<class 'syft.core.frameworks.torch.tensor.ByteTensor'>\n",
      "__getitem__\n",
      ">>> __getitem__\n",
      "--   \n",
      "<class 'syft.core.frameworks.torch.tensor.ByteTensor'>\n",
      "<class 'syft.core.frameworks.torch.tensor._LocalTensor'>\n",
      "--   \n",
      "<class 'syft.core.frameworks.torch.tensor.DoubleTensor'>\n",
      "<class 'syft.core.frameworks.torch.tensor._LocalTensor'>\n",
      ">>> __getitem__\n",
      "--   \n",
      "<class 'syft.core.frameworks.torch.tensor._LocalTensor'>\n",
      "<class 'syft.core.frameworks.torch.tensor.ByteTensor'>\n",
      "--   \n",
      "<class 'syft.core.frameworks.torch.tensor._LocalTensor'>\n",
      "<class 'syft.core.frameworks.torch.tensor.DoubleTensor'>\n",
      "__getitem__\n",
      ">>> __getitem__\n",
      "--   \n",
      "<class 'syft.core.frameworks.torch.tensor.DoubleTensor'>\n",
      "<class 'syft.core.frameworks.torch.tensor._LocalTensor'>\n",
      ">>> __getitem__\n",
      "--   \n",
      "<class 'syft.core.frameworks.torch.tensor._LocalTensor'>\n",
      "<class 'syft.core.frameworks.torch.tensor.DoubleTensor'>\n",
      "__setitem__\n",
      ">>> __setitem__\n",
      "--   \n",
      "<class 'syft.core.frameworks.torch.tensor.ByteTensor'>\n",
      "<class 'syft.core.frameworks.torch.tensor._LocalTensor'>\n",
      "--   \n",
      "<class 'syft.core.frameworks.torch.tensor.DoubleTensor'>\n",
      "<class 'syft.core.frameworks.torch.tensor._LocalTensor'>\n",
      ">>> __setitem__\n",
      "--   \n",
      "<class 'syft.core.frameworks.torch.tensor._LocalTensor'>\n",
      "<class 'syft.core.frameworks.torch.tensor.ByteTensor'>\n",
      "--   \n",
      "<class 'syft.core.frameworks.torch.tensor._LocalTensor'>\n",
      "<class 'syft.core.frameworks.torch.tensor.DoubleTensor'>\n",
      "any\n",
      ">>> any\n",
      "--   \n",
      "<class 'syft.core.frameworks.torch.tensor.ByteTensor'>\n",
      "<class 'syft.core.frameworks.torch.tensor._LocalTensor'>\n",
      ">>> any\n",
      "--   \n",
      "<class 'syft.core.frameworks.torch.tensor._LocalTensor'>\n",
      "<class 'syft.core.frameworks.torch.tensor.ByteTensor'>\n",
      "min\n",
      ">>> min\n",
      "--   \n",
      "<class 'syft.core.frameworks.torch.tensor.DoubleTensor'>\n",
      "<class 'syft.core.frameworks.torch.tensor._LocalTensor'>\n",
      ">>> min\n",
      "--   \n",
      "<class 'syft.core.frameworks.torch.tensor._LocalTensor'>\n",
      "<class 'syft.core.frameworks.torch.tensor.DoubleTensor'>\n",
      "max\n",
      ">>> max\n",
      "--   \n",
      "<class 'syft.core.frameworks.torch.tensor.DoubleTensor'>\n",
      "<class 'syft.core.frameworks.torch.tensor._LocalTensor'>\n",
      ">>> max\n",
      "--   \n",
      "<class 'syft.core.frameworks.torch.tensor._LocalTensor'>\n",
      "<class 'syft.core.frameworks.torch.tensor.DoubleTensor'>\n"
     ]
    },
    {
     "data": {
      "text/plain": [
       "Variable containing:\n",
       " 1\n",
       " 2\n",
       "-3\n",
       " 4\n",
       " 5\n",
       "[syft.core.frameworks.torch.tensor.IntTensor of size 5]"
      ]
     },
     "execution_count": 4,
     "metadata": {},
     "output_type": "execute_result"
    }
   ],
   "source": [
    "z"
   ]
  },
  {
   "cell_type": "code",
   "execution_count": null,
   "metadata": {},
   "outputs": [],
   "source": [
    "x = sy.Variable(torch.FloatTensor([1, 2, -3, 4, 5]))\n",
    "sy.IntTensor(x.size()).copy_(x.data)"
   ]
  },
  {
   "cell_type": "code",
   "execution_count": null,
   "metadata": {
    "scrolled": true
   },
   "outputs": [],
   "source": [
    "t = sy.IntTensor()\n",
    "t.child.torch_type"
   ]
  },
  {
   "cell_type": "code",
   "execution_count": null,
   "metadata": {},
   "outputs": [],
   "source": [
    "x = torch.FloatTensor([1, 2, -3, 4, 5])\n",
    "x = x.cos()\n",
    "assert (x.int() == torch.IntTensor(\n",
    "    [0, 0, 0, 0, 0])).all()"
   ]
  },
  {
   "cell_type": "code",
   "execution_count": null,
   "metadata": {},
   "outputs": [],
   "source": []
  },
  {
   "cell_type": "code",
   "execution_count": null,
   "metadata": {},
   "outputs": [],
   "source": []
  },
  {
   "cell_type": "code",
   "execution_count": null,
   "metadata": {},
   "outputs": [],
   "source": []
  },
  {
   "cell_type": "code",
   "execution_count": null,
   "metadata": {},
   "outputs": [],
   "source": []
  },
  {
   "cell_type": "code",
   "execution_count": null,
   "metadata": {},
   "outputs": [],
   "source": []
  },
  {
   "cell_type": "code",
   "execution_count": null,
   "metadata": {
    "scrolled": true
   },
   "outputs": [],
   "source": [
    "t.parent"
   ]
  },
  {
   "cell_type": "code",
   "execution_count": null,
   "metadata": {
    "scrolled": true
   },
   "outputs": [],
   "source": [
    "print('Me')\n",
    "for k, v in me._objects.items():\n",
    "    if k not in mek:\n",
    "        print(k, v)\n",
    "print('Bob')\n",
    "for k, v in bob._objects.items():\n",
    "    if k not in bobk:\n",
    "        print(k, v)"
   ]
  },
  {
   "cell_type": "code",
   "execution_count": null,
   "metadata": {},
   "outputs": [],
   "source": []
  },
  {
   "cell_type": "code",
   "execution_count": null,
   "metadata": {},
   "outputs": [],
   "source": [
    "cos\n",
    "int\n",
    "copy_\n",
    "eq\n",
    "all"
   ]
  },
  {
   "cell_type": "code",
   "execution_count": null,
   "metadata": {},
   "outputs": [],
   "source": [
    "cos\n",
    "int\n",
    "copy_\n"
   ]
  },
  {
   "cell_type": "code",
   "execution_count": null,
   "metadata": {},
   "outputs": [],
   "source": [
    "x.int"
   ]
  },
  {
   "cell_type": "code",
   "execution_count": null,
   "metadata": {},
   "outputs": [],
   "source": [
    "setattr(sy.core.frameworks.torch.tensor, torch.IntTensor.__name__, torch.IntTensor)"
   ]
  },
  {
   "cell_type": "code",
   "execution_count": null,
   "metadata": {},
   "outputs": [],
   "source": [
    "x.int()"
   ]
  },
  {
   "cell_type": "code",
   "execution_count": null,
   "metadata": {},
   "outputs": [],
   "source": []
  },
  {
   "cell_type": "code",
   "execution_count": 5,
   "metadata": {},
   "outputs": [
    {
     "ename": "AttributeError",
     "evalue": "module 'syft' has no attribute 'Parameter'",
     "output_type": "error",
     "traceback": [
      "\u001b[0;31m---------------------------------------------------------------------------\u001b[0m",
      "\u001b[0;31mAttributeError\u001b[0m                            Traceback (most recent call last)",
      "\u001b[0;32m<ipython-input-5-b4c7e6158625>\u001b[0m in \u001b[0;36m<module>\u001b[0;34m()\u001b[0m\n\u001b[0;32m----> 1\u001b[0;31m \u001b[0msy\u001b[0m\u001b[0;34m.\u001b[0m\u001b[0mParameter\u001b[0m\u001b[0;34m(\u001b[0m\u001b[0;34m)\u001b[0m\u001b[0;34m\u001b[0m\u001b[0m\n\u001b[0m",
      "\u001b[0;31mAttributeError\u001b[0m: module 'syft' has no attribute 'Parameter'"
     ]
    }
   ],
   "source": [
    "sy.Parameter()"
   ]
  },
  {
   "cell_type": "code",
   "execution_count": null,
   "metadata": {},
   "outputs": [],
   "source": [
    "sy.core.frameworks.torch.tensor.IntTensor -> torch.IntTensor"
   ]
  },
  {
   "cell_type": "code",
   "execution_count": null,
   "metadata": {},
   "outputs": [],
   "source": []
  }
 ],
 "metadata": {
  "kernelspec": {
   "display_name": "Python 3",
   "language": "python",
   "name": "python3"
  },
  "language_info": {
   "codemirror_mode": {
    "name": "ipython",
    "version": 3
   },
   "file_extension": ".py",
   "mimetype": "text/x-python",
   "name": "python",
   "nbconvert_exporter": "python",
   "pygments_lexer": "ipython3",
   "version": "3.6.4"
  }
 },
 "nbformat": 4,
 "nbformat_minor": 2
}
