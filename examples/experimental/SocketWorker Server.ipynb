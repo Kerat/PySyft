{
 "cells": [
  {
   "cell_type": "markdown",
   "metadata": {},
   "source": [
    "# Socket Worker Server Tutorial\n",
    "\n",
    "This tutorial is a 2 notebook tutorial. The partner notebook is the notebook entitled SocketWorker Client.ipynb and is in the same folder as this notebook. You should execute this notebook BEFORE the other.\n",
    "\n",
    "In this tutorial, we'll demonstrate how to launch a SocketWorker server which will listen for PyTorch commands over a socket connection. This tutorial is a followup to the VirtualWorker tutorial (https://github.com/OpenMined/PySyft/blob/master/examples/MPC%20Using%20Virtual%20Worker.ipynb) where the only difference is that in this tutorial the two workers are connected via a socket connection on the localhost network."
   ]
  },
  {
   "cell_type": "markdown",
   "metadata": {},
   "source": [
    "# Step 1: Hook PyTorch\n",
    "\n",
    "Just like previous tutorials, the first step is to override PyTorch commands using the TorchHook object."
   ]
  },
  {
   "cell_type": "code",
   "execution_count": 1,
   "metadata": {},
   "outputs": [
    {
     "name": "stdout",
     "output_type": "stream",
     "text": [
      "Hooking into Torch...\n",
      "Overloading complete.\n"
     ]
    }
   ],
   "source": [
    "from syft.core.hooks import TorchHook\n",
    "from syft.core.workers import VirtualWorker, SocketWorker\n",
    "\n",
    "hook = TorchHook()"
   ]
  },
  {
   "cell_type": "markdown",
   "metadata": {},
   "source": [
    "# Step 2: Launch Server\n",
    "\n",
    "The next step is to launch the server. We set is_pointer=False to tell the worker that this worker object is not merely a connection to a foreign worker but is in fact responsible for computation itself. We set is_client_worker=False to tell the worker to store tensors locally (as opposed to letting a client manage tensor lifecycles)."
   ]
  },
  {
   "cell_type": "code",
   "execution_count": null,
   "metadata": {},
   "outputs": [
    {
     "name": "stdout",
     "output_type": "stream",
     "text": [
      "Starting Socket Worker...\n",
      "Ready to receive commands...\n",
      "Received Command From: ('127.0.0.1', 64854)\n",
      "Received Command From: ('127.0.0.1', 64854)\n",
      "Received Command From: ('127.0.0.1', 64854)\n",
      "Received Command From: ('127.0.0.1', 64854)\n",
      "Received Command From: ('127.0.0.1', 64854)\n",
      "Received Command From: ('127.0.0.1', 64854)\n",
      "Received Command From: ('127.0.0.1', 64854)\n",
      "Received Command From: ('127.0.0.1', 64854)\n"
     ]
    }
   ],
   "source": [
    "local_worker = SocketWorker(hook=hook,\n",
    "                            id=2,\n",
    "                            port=8181,\n",
    "                            is_pointer=False,\n",
    "                            is_client_worker=False)"
   ]
  },
  {
   "cell_type": "code",
   "execution_count": null,
   "metadata": {},
   "outputs": [],
   "source": []
  },
  {
   "cell_type": "code",
   "execution_count": null,
   "metadata": {},
   "outputs": [],
   "source": []
  },
  {
   "cell_type": "code",
   "execution_count": null,
   "metadata": {},
   "outputs": [],
   "source": []
  },
  {
   "cell_type": "code",
   "execution_count": null,
   "metadata": {},
   "outputs": [],
   "source": []
  },
  {
   "cell_type": "code",
   "execution_count": null,
   "metadata": {},
   "outputs": [],
   "source": []
  }
 ],
 "metadata": {
  "kernelspec": {
   "display_name": "Python 3",
   "language": "python",
   "name": "python3"
  },
  "language_info": {
   "codemirror_mode": {
    "name": "ipython",
    "version": 3
   },
   "file_extension": ".py",
   "mimetype": "text/x-python",
   "name": "python",
   "nbconvert_exporter": "python",
   "pygments_lexer": "ipython3",
   "version": "3.6.1"
  }
 },
 "nbformat": 4,
 "nbformat_minor": 2
}
