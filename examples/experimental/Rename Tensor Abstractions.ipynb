{
 "cells": [
  {
   "cell_type": "code",
   "execution_count": 1,
   "metadata": {},
   "outputs": [],
   "source": [
    "import syft as sy\n",
    "hook = sy.TorchHook()\n",
    "me = hook.local_worker\n",
    "remote = sy.VirtualWorker(id=1,hook=hook, is_client_worker=False)"
   ]
  },
  {
   "cell_type": "code",
   "execution_count": 2,
   "metadata": {},
   "outputs": [],
   "source": [
    "me.is_client_worker = False"
   ]
  },
  {
   "cell_type": "code",
   "execution_count": 3,
   "metadata": {},
   "outputs": [
    {
     "name": "stdout",
     "output_type": "stream",
     "text": [
      "<syft.core.frameworks.torch.tensor._LocalTensor object at 0x104f31518>\n"
     ]
    }
   ],
   "source": [
    "x = sy.FloatTensor([1,2,3,4])"
   ]
  },
  {
   "cell_type": "code",
   "execution_count": 4,
   "metadata": {},
   "outputs": [
    {
     "data": {
      "text/plain": [
       "8073736496"
      ]
     },
     "execution_count": 4,
     "metadata": {},
     "output_type": "execute_result"
    }
   ],
   "source": [
    "x.id"
   ]
  },
  {
   "cell_type": "code",
   "execution_count": 5,
   "metadata": {},
   "outputs": [
    {
     "data": {
      "text/plain": [
       "{8073736496: <syft.core.frameworks.torch.tensor._LocalTensor at 0x104f31518>}"
      ]
     },
     "execution_count": 5,
     "metadata": {},
     "output_type": "execute_result"
    }
   ],
   "source": [
    "me._objects"
   ]
  },
  {
   "cell_type": "code",
   "execution_count": 6,
   "metadata": {},
   "outputs": [
    {
     "name": "stdout",
     "output_type": "stream",
     "text": [
      "{'type': 'syft.core.frameworks.torch.tensor._LocalTensor', 'child': {'type': 'syft.FloatTensor', 'data': [1.0, 2.0, 3.0, 4.0]}, 'id': 1234, 'owner': 0}\n",
      "{'type': 'syft.FloatTensor', 'data': [1.0, 2.0, 3.0, 4.0]}\n",
      "<syft.core.frameworks.torch.tensor._LocalTensor object at 0x10d179fd0>\n",
      "<syft.core.frameworks.torch.tensor._LocalTensor object at 0x10d1c40b8>\n",
      "<syft.core.frameworks.torch.tensor._PointerTensor object at 0x104f10f98>\n"
     ]
    },
    {
     "data": {
      "text/plain": [
       "[syft.FloatTensor with no dimension]"
      ]
     },
     "execution_count": 6,
     "metadata": {},
     "output_type": "execute_result"
    }
   ],
   "source": [
    "x.send(remote, new_id=1234)"
   ]
  },
  {
   "cell_type": "code",
   "execution_count": 7,
   "metadata": {},
   "outputs": [
    {
     "data": {
      "text/plain": [
       "{1234: <syft.core.frameworks.torch.tensor._LocalTensor at 0x10d1c40b8>}"
      ]
     },
     "execution_count": 7,
     "metadata": {},
     "output_type": "execute_result"
    }
   ],
   "source": [
    "remote._objects"
   ]
  },
  {
   "cell_type": "code",
   "execution_count": 8,
   "metadata": {},
   "outputs": [
    {
     "data": {
      "text/plain": [
       "{4834977550: <syft.core.frameworks.torch.tensor._LocalTensor at 0x10d179fd0>,\n",
       " 6674350503: <syft.core.frameworks.torch.tensor._LocalTensor at 0x10d1c40b8>,\n",
       " 7061306020: <syft.core.frameworks.torch.tensor._PointerTensor at 0x104f10f98>}"
      ]
     },
     "execution_count": 8,
     "metadata": {},
     "output_type": "execute_result"
    }
   ],
   "source": [
    "me._objects"
   ]
  },
  {
   "cell_type": "code",
   "execution_count": 9,
   "metadata": {},
   "outputs": [
    {
     "name": "stdout",
     "output_type": "stream",
     "text": [
      "<syft.core.frameworks.torch.tensor._LocalTensor object at 0x10d179e10>\n",
      "<syft.core.frameworks.torch.tensor._PointerTensor object at 0x10d179e80>\n",
      "{'type': 'syft.core.frameworks.torch.tensor._PointerTensor', 'id': 4320279817, 'owner': 1, 'location': 1, 'id_at_location': 724556199}\n",
      "<syft.core.frameworks.torch.tensor._PointerTensor object at 0x10d179eb8>\n"
     ]
    }
   ],
   "source": [
    "y = x + x"
   ]
  },
  {
   "cell_type": "code",
   "execution_count": 16,
   "metadata": {},
   "outputs": [
    {
     "data": {
      "text/plain": [
       "<syft.core.frameworks.torch.tensor._PointerTensor at 0x104f10f98>"
      ]
     },
     "execution_count": 16,
     "metadata": {},
     "output_type": "execute_result"
    }
   ],
   "source": [
    "x.child"
   ]
  },
  {
   "cell_type": "code",
   "execution_count": null,
   "metadata": {},
   "outputs": [],
   "source": []
  }
 ],
 "metadata": {
  "kernelspec": {
   "display_name": "Python 3",
   "language": "python",
   "name": "python3"
  },
  "language_info": {
   "codemirror_mode": {
    "name": "ipython",
    "version": 3
   },
   "file_extension": ".py",
   "mimetype": "text/x-python",
   "name": "python",
   "nbconvert_exporter": "python",
   "pygments_lexer": "ipython3",
   "version": "3.6.1"
  }
 },
 "nbformat": 4,
 "nbformat_minor": 2
}
