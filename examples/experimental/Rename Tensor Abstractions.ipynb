{
 "cells": [
  {
   "cell_type": "code",
   "execution_count": 38,
   "metadata": {},
   "outputs": [],
   "source": [
    "import torch\n",
    "\n",
    "class TorchHook(object):\n",
    "    \n",
    "    def __init__(self):\n",
    "        # this is the list of torch tensor types that we will override for remote execution\n",
    "        torch.tensor_types = [torch.FloatTensor,\n",
    "                             torch.DoubleTensor,\n",
    "                             torch.HalfTensor,\n",
    "                             torch.ByteTensor,\n",
    "                             torch.CharTensor,\n",
    "                             torch.ShortTensor,\n",
    "                             torch.IntTensor,\n",
    "                             torch.LongTensor]\n",
    "        \n",
    "        for typ in torch.tensor_types:\n",
    "            self._hook_tensor(typ)\n",
    "\n",
    "    def _hook_tensor(self, typ):\n",
    "        self._hook___new__(typ)\n",
    "        self._hook___str__(typ)\n",
    "    \n",
    "    def _hook___new__(self, tensorvar_type):\n",
    "        \"\"\"Overloads tensor_type.__new__ or Variale.__new__\"\"\"\n",
    "\n",
    "        if ('native___new__' not in dir(tensorvar_type)):\n",
    "            tensorvar_type.native___new__ = tensorvar_type.__new__\n",
    "\n",
    "        def new___new__(tensorvar_self, *args, **kwargs):\n",
    "            result = tensorvar_self.native___new__(tensorvar_self, *args, **kwargs)\n",
    "\n",
    "            tensorvar_self.identity = _LocalTensor(tensorvar_self)\n",
    "\n",
    "            return result\n",
    "\n",
    "        tensorvar_type.__new__ = new___new__\n",
    "    \n",
    "    def _hook___str__(self, tensorvar_type):\n",
    "        \n",
    "        if('native___str__' not in dir(tensorvar_type)):\n",
    "            tensorvar_type.native___str__ = tensorvar_type.__str__\n",
    "\n",
    "        def new___str__(tensorvar_self, long=True):\n",
    "            return str(tensorvar_self.identity)\n",
    "\n",
    "        tensorvar_type.__str__ = new___str__\n",
    "\n",
    "hook = TorchHook()"
   ]
  },
  {
   "cell_type": "code",
   "execution_count": 30,
   "metadata": {},
   "outputs": [],
   "source": [
    "class _AbstractTensor(object):\n",
    "    \"\"\n",
    "\n",
    "class _LocalTensor(_AbstractTensor):\n",
    "\n",
    "    def __init__(self, child):\n",
    "        self.child = child\n",
    "        \n",
    "class _PointerTensor(_AbstractTensor):\n",
    "    \n",
    "    def __init__(self):\n",
    "        \"\"\n",
    "        \n",
    "class _FixedPrecisionTensor(_AbstractTensor):\n",
    "    \n",
    "    def __init__(self):\n",
    "        \"\""
   ]
  },
  {
   "cell_type": "code",
   "execution_count": 31,
   "metadata": {},
   "outputs": [],
   "source": [
    "x = torch.FloatTensor([1,2,3,4])"
   ]
  },
  {
   "cell_type": "code",
   "execution_count": 35,
   "metadata": {},
   "outputs": [],
   "source": [
    "# str(x)"
   ]
  },
  {
   "cell_type": "code",
   "execution_count": 37,
   "metadata": {},
   "outputs": [
    {
     "data": {
      "text/plain": [
       "'_LocalTensor'"
      ]
     },
     "execution_count": 37,
     "metadata": {},
     "output_type": "execute_result"
    }
   ],
   "source": [
    "_LocalTensor.__name__"
   ]
  },
  {
   "cell_type": "code",
   "execution_count": null,
   "metadata": {},
   "outputs": [],
   "source": []
  }
 ],
 "metadata": {
  "kernelspec": {
   "display_name": "Python 3",
   "language": "python",
   "name": "python3"
  },
  "language_info": {
   "codemirror_mode": {
    "name": "ipython",
    "version": 3
   },
   "file_extension": ".py",
   "mimetype": "text/x-python",
   "name": "python",
   "nbconvert_exporter": "python",
   "pygments_lexer": "ipython3",
   "version": "3.6.1"
  }
 },
 "nbformat": 4,
 "nbformat_minor": 2
}
