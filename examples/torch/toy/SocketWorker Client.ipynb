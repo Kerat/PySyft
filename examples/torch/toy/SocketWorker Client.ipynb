{
 "cells": [
  {
   "cell_type": "markdown",
   "metadata": {},
   "source": [
    "# Socket Worker Client Tutorial\n",
    "\n",
    "This tutorial is a 2 notebook tutorial. The partner notebook is the notebook entitled SocketWorker Server.ipynb and is in the same folder as this notebook. You should execute this notebook AFTER you have executed the other one.\n",
    "\n",
    "In this tutorial, we'll demonstrate how to launch a SocketWorker server which will listen for PyTorch commands over a socket connection. This tutorial is a followup to the VirtualWorker tutorial (https://github.com/OpenMined/PySyft/blob/master/examples/Remote%20PyTorch%20using%20Virtual%20Worker.ipynb) where the only difference is that in this tutorial the two workers are connected via a socket connection on the localhost network.\n",
    "\n",
    "If you'd like to circumvent the need to install dependencies, this notebook is also available as as Colab notebook\n",
    "\n",
    "*Colab:* https://colab.research.google.com/drive/1Je1rk7olA9uTWWaqvvt4_gXf7yX1rTBm"
   ]
  },
  {
   "cell_type": "markdown",
   "metadata": {},
   "source": [
    "# Step 1: Hook Torch and Create Local Worker\n",
    "\n",
    "In this step, we hook PyTorch and initialize within the hook a client SocketWorker."
   ]
  },
  {
   "cell_type": "code",
   "execution_count": 1,
   "metadata": {},
   "outputs": [
    {
     "name": "stdout",
     "output_type": "stream",
     "text": [
      "Starting Socket Worker...\n",
      "Ready!\n"
     ]
    }
   ],
   "source": [
    "import syft as sy\n",
    "\n",
    "hook = sy.TorchHook(local_worker=sy.SocketWorker(id=0, port=1111))"
   ]
  },
  {
   "cell_type": "markdown",
   "metadata": {},
   "source": [
    "# Step 2: Create Pointer to Remote Socket Worker\n",
    "\n",
    "In order to interact with a foreign worker over a socket connection, we need to create a pointer to it containing information on how to contact it. We set the is_pointer=True to signify that this Python object is not in fact a worker in and of itself but that it is merely a pointer to one over the network. We then inform our local worker about this pointer."
   ]
  },
  {
   "cell_type": "code",
   "execution_count": 2,
   "metadata": {},
   "outputs": [
    {
     "name": "stderr",
     "output_type": "stream",
     "text": [
      "WARNING:root:Worker ID 2 taken. Have I seen this worker before?\n",
      "WARNING:root:Replacing it anyways... this could cause unexpected behavior...\n",
      "WARNING:root:Worker 2 already exists. Replacing old worker which could cause unexpected behavior\n"
     ]
    },
    {
     "name": "stdout",
     "output_type": "stream",
     "text": [
      "Attaching Pointer to Socket Worker...\n"
     ]
    }
   ],
   "source": [
    "remote_client = sy.SocketWorker(hook=hook,id=2, port=1131, is_pointer=True)\n",
    "hook.local_worker.add_worker(remote_client)"
   ]
  },
  {
   "cell_type": "markdown",
   "metadata": {},
   "source": [
    "# Step 3: Create Tensors & Send To The Worker"
   ]
  },
  {
   "cell_type": "code",
   "execution_count": 3,
   "metadata": {},
   "outputs": [],
   "source": [
    "x = sy.FloatTensor([1,2,3,4,5]).send(remote_client)"
   ]
  },
  {
   "cell_type": "code",
   "execution_count": 4,
   "metadata": {},
   "outputs": [],
   "source": [
    "x2 = sy.FloatTensor([1,2,3,4,4]).send(remote_client)"
   ]
  },
  {
   "cell_type": "code",
   "execution_count": 5,
   "metadata": {},
   "outputs": [
    {
     "data": {
      "text/plain": [
       "FloatTensor[_PointerTensor - id:9355972172 owner:0 loc:2 id@loc:61633545981]"
      ]
     },
     "execution_count": 5,
     "metadata": {},
     "output_type": "execute_result"
    }
   ],
   "source": [
    "x"
   ]
  },
  {
   "cell_type": "code",
   "execution_count": 6,
   "metadata": {},
   "outputs": [
    {
     "data": {
      "text/plain": [
       "FloatTensor[_PointerTensor - id:8666866360 owner:0 loc:2 id@loc:89765971380]"
      ]
     },
     "execution_count": 6,
     "metadata": {},
     "output_type": "execute_result"
    }
   ],
   "source": [
    "x2"
   ]
  },
  {
   "cell_type": "markdown",
   "metadata": {},
   "source": [
    "# Step 4: Execute Operations Like Normal"
   ]
  },
  {
   "cell_type": "code",
   "execution_count": 7,
   "metadata": {},
   "outputs": [],
   "source": [
    "y = x + x2 + x"
   ]
  },
  {
   "cell_type": "markdown",
   "metadata": {},
   "source": [
    "# Step 5: Get Results"
   ]
  },
  {
   "cell_type": "code",
   "execution_count": 8,
   "metadata": {},
   "outputs": [
    {
     "data": {
      "text/plain": [
       "FloatTensor[_PointerTensor - id:7366182616 owner:0 loc:2 id@loc:4693269260]"
      ]
     },
     "execution_count": 8,
     "metadata": {},
     "output_type": "execute_result"
    }
   ],
   "source": [
    "y"
   ]
  },
  {
   "cell_type": "code",
   "execution_count": 9,
   "metadata": {},
   "outputs": [
    {
     "data": {
      "text/plain": [
       "<syft.core.workers.socket.SocketWorker id:0>"
      ]
     },
     "execution_count": 9,
     "metadata": {},
     "output_type": "execute_result"
    }
   ],
   "source": [
    "y.owner"
   ]
  },
  {
   "cell_type": "code",
   "execution_count": 10,
   "metadata": {},
   "outputs": [
    {
     "data": {
      "text/plain": [
       "\n",
       "  3\n",
       "  6\n",
       "  9\n",
       " 12\n",
       " 14\n",
       "[syft.core.frameworks.torch.tensor.FloatTensor of size 5]"
      ]
     },
     "execution_count": 10,
     "metadata": {},
     "output_type": "execute_result"
    }
   ],
   "source": [
    "y.get()"
   ]
  },
  {
   "cell_type": "code",
   "execution_count": 11,
   "metadata": {},
   "outputs": [
    {
     "data": {
      "text/plain": [
       "\n",
       "  3\n",
       "  6\n",
       "  9\n",
       " 12\n",
       " 14\n",
       "[syft.core.frameworks.torch.tensor.FloatTensor of size 5]"
      ]
     },
     "execution_count": 11,
     "metadata": {},
     "output_type": "execute_result"
    }
   ],
   "source": [
    "y"
   ]
  },
  {
   "cell_type": "markdown",
   "metadata": {},
   "source": [
    "# Step 6: Search For Tensors On Remote Machine"
   ]
  },
  {
   "cell_type": "code",
   "execution_count": 12,
   "metadata": {},
   "outputs": [
    {
     "name": "stdout",
     "output_type": "stream",
     "text": [
      "b'\\x82\\xa3obj\\x92\\x81\\xa9__tuple__\\x92\\x82\\xa3obj\\x81\\xac__Variable__\\x84\\xaatorch_type\\xa8Variable\\xa4data\\x81\\xaf__FloatTensor__\\x83\\xaatorch_type\\xabFloatTensor\\xa4data\\x90\\xa5child\\x81\\xb0___LocalTensor__\\x83\\xa5owner\\x02\\xa2id\\xce\\x9a\\x83\\x19*\\xaatorch_type\\xabFloatTensor\\xa5child\\x81\\xb2___PointerTensor__\\x85\\xa5owner\\x02\\xa2id\\xcf\\x00\\x00\\x00\\t}\\x11\\xeb\\xe4\\xa8location\\x02\\xaeid_at_location\\xd9 #boston_housing #target #dataset\\xaatorch_type\\xa8Variable\\xadrequires_grad\\xc2\\xa4mode\\xa7acquire\\x91\\x81\\xb2___PointerTensor__\\x85\\xa5owner\\x02\\xa2id\\xcf\\x00\\x00\\x00\\t}\\x11\\xeb\\xe4\\xa8location\\x02\\xaeid_at_location\\xd9 #boston_housing #target #dataset\\xaatorch_type\\xa8Variable\\x81\\xa9__tuple__\\x92\\x82\\xa3obj\\x81\\xac__Variable__\\x84\\xaatorch_type\\xa8Variable\\xa4data\\x81\\xaf__FloatTensor__\\x83\\xaatorch_type\\xabFloatTensor\\xa4data\\x90\\xa5child\\x81\\xb0___LocalTensor__\\x83\\xa5owner\\x02\\xa2id\\xce\\x8a\\xed\\x94\\xa2\\xaatorch_type\\xabFloatTensor\\xa5child\\x81\\xb2___PointerTensor__\\x85\\xa5owner\\x02\\xa2id\\xcf\\x00\\x00\\x00\\t\\x93\\x1a\\x7f\\r\\xa8location\\x02\\xaeid_at_location\\xbf#boston_housing #input #dataset\\xaatorch_type\\xa8Variable\\xadrequires_grad\\xc2\\xa4mode\\xa7acquire\\x91\\x81\\xb2___PointerTensor__\\x85\\xa5owner\\x02\\xa2id\\xcf\\x00\\x00\\x00\\t\\x93\\x1a\\x7f\\r\\xa8location\\x02\\xaeid_at_location\\xbf#boston_housing #input #dataset\\xaatorch_type\\xa8Variable\\xa4mode\\xa9subscribe'\n",
      "b'\\xc5\\x03\\x81\\x82\\xa3obj\\x92\\x81\\xa9__tuple__\\x92\\x82\\xa3obj\\x81\\xac__Variable__\\x84\\xaatorch_type\\xa8Variable\\xa4data\\x81\\xaf__FloatTensor__\\x83\\xaatorch_type\\xabFloatTensor\\xa4data\\x90\\xa5child\\x81\\xb0___LocalTensor__\\x83\\xa5owner\\x02\\xa2id\\xce\\x9a\\x83\\x19*\\xaatorch_type\\xabFloatTensor\\xa5child\\x81\\xb2___PointerTensor__\\x85\\xa5owner\\x02\\xa2id\\xcf\\x00\\x00\\x00\\t}\\x11\\xeb\\xe4\\xa8location\\x02\\xaeid_at_location\\xd9 #boston_housing #target #dataset\\xaatorch_type\\xa8Variable\\xadrequires_grad\\xc2\\xa4mode\\xa7acquire\\x91\\x81\\xb2___PointerTensor__\\x85\\xa5owner\\x02\\xa2id\\xcf\\x00\\x00\\x00\\t}\\x11\\xeb\\xe4\\xa8location\\x02\\xaeid_at_location\\xd9 #boston_housing #target #dataset\\xaatorch_type\\xa8Variable\\x81\\xa9__tuple__\\x92\\x82\\xa3obj\\x81\\xac__Variable__\\x84\\xaatorch_type\\xa8Variable\\xa4data\\x81\\xaf__FloatTensor__\\x83\\xaatorch_type\\xabFloatTensor\\xa4data\\x90\\xa5child\\x81\\xb0___LocalTensor__\\x83\\xa5owner\\x02\\xa2id\\xce\\x8a\\xed\\x94\\xa2\\xaatorch_type\\xabFloatTensor\\xa5child\\x81\\xb2___PointerTensor__\\x85\\xa5owner\\x02\\xa2id\\xcf\\x00\\x00\\x00\\t\\x93\\x1a\\x7f\\r\\xa8location\\x02\\xaeid_at_location\\xbf#boston_housing #input #dataset\\xaatorch_type\\xa8Variable\\xadrequires_grad\\xc2\\xa4mode\\xa7acquire\\x91\\x81\\xb2___PointerTensor__\\x85\\xa5owner\\x02\\xa2id\\xcf\\x00\\x00\\x00\\t\\x93\\x1a\\x7f\\r\\xa8location\\x02\\xaeid_at_location\\xbf#boston_housing #input #dataset\\xaatorch_type\\xa8Variable\\xa4mode\\xa9subscribe'\n"
     ]
    },
    {
     "ename": "TypeError",
     "evalue": "byte indices must be integers or slices, not str",
     "output_type": "error",
     "traceback": [
      "\u001b[0;31m---------------------------------------------------------------------------\u001b[0m",
      "\u001b[0;31mTypeError\u001b[0m                                 Traceback (most recent call last)",
      "\u001b[0;32m<ipython-input-12-4023014741ab>\u001b[0m in \u001b[0;36m<module>\u001b[0;34m()\u001b[0m\n\u001b[0;32m----> 1\u001b[0;31m \u001b[0mpointers\u001b[0m \u001b[0;34m=\u001b[0m \u001b[0mremote_client\u001b[0m\u001b[0;34m.\u001b[0m\u001b[0msearch\u001b[0m\u001b[0;34m(\u001b[0m\u001b[0;34m\"#boston_housing\"\u001b[0m\u001b[0;34m)\u001b[0m\u001b[0;34m\u001b[0m\u001b[0m\n\u001b[0m",
      "\u001b[0;32m/Users/atrask/anaconda/lib/python3.6/site-packages/syft-0.1.0-py3.6.egg/syft/core/workers/socket.py\u001b[0m in \u001b[0;36msearch\u001b[0;34m(self, query)\u001b[0m\n\u001b[1;32m    184\u001b[0m             \u001b[0mprint\u001b[0m\u001b[0;34m(\u001b[0m\u001b[0mresponse\u001b[0m\u001b[0;34m)\u001b[0m\u001b[0;34m\u001b[0m\u001b[0m\n\u001b[1;32m    185\u001b[0m             \u001b[0mps\u001b[0m \u001b[0;34m=\u001b[0m \u001b[0mlist\u001b[0m\u001b[0;34m(\u001b[0m\u001b[0;34m)\u001b[0m\u001b[0;34m\u001b[0m\u001b[0m\n\u001b[0;32m--> 186\u001b[0;31m             \u001b[0;32mfor\u001b[0m \u001b[0mp\u001b[0m \u001b[0;32min\u001b[0m \u001b[0mresponse\u001b[0m\u001b[0;34m[\u001b[0m\u001b[0;34m'obj'\u001b[0m\u001b[0;34m]\u001b[0m\u001b[0;34m:\u001b[0m\u001b[0;34m\u001b[0m\u001b[0m\n\u001b[0m\u001b[1;32m    187\u001b[0m                 \u001b[0mps\u001b[0m\u001b[0;34m.\u001b[0m\u001b[0mappend\u001b[0m\u001b[0;34m(\u001b[0m\u001b[0mencode\u001b[0m\u001b[0;34m.\u001b[0m\u001b[0mdecode\u001b[0m\u001b[0;34m(\u001b[0m\u001b[0mp\u001b[0m\u001b[0;34m[\u001b[0m\u001b[0;34m'__tuple__'\u001b[0m\u001b[0;34m]\u001b[0m\u001b[0;34m[\u001b[0m\u001b[0;36m0\u001b[0m\u001b[0;34m]\u001b[0m\u001b[0;34m,\u001b[0m \u001b[0mworker\u001b[0m\u001b[0;34m=\u001b[0m\u001b[0mself\u001b[0m\u001b[0;34m.\u001b[0m\u001b[0mhook\u001b[0m\u001b[0;34m.\u001b[0m\u001b[0mlocal_worker\u001b[0m\u001b[0;34m,\u001b[0m \u001b[0mmessage_is_dict\u001b[0m\u001b[0;34m=\u001b[0m\u001b[0;32mTrue\u001b[0m\u001b[0;34m)\u001b[0m\u001b[0;34m)\u001b[0m\u001b[0;34m\u001b[0m\u001b[0m\n\u001b[1;32m    188\u001b[0m             \u001b[0;32mreturn\u001b[0m \u001b[0mps\u001b[0m\u001b[0;34m\u001b[0m\u001b[0m\n",
      "\u001b[0;31mTypeError\u001b[0m: byte indices must be integers or slices, not str"
     ]
    }
   ],
   "source": [
    "pointers = remote_client.search(\"#boston_housing\")"
   ]
  },
  {
   "cell_type": "code",
   "execution_count": 13,
   "metadata": {},
   "outputs": [
    {
     "data": {
      "text/plain": [
       "[Variable containing:[syft.core.frameworks.torch.tensor.FloatTensor with no dimension],\n",
       " Variable containing:[syft.core.frameworks.torch.tensor.FloatTensor with no dimension]]"
      ]
     },
     "execution_count": 13,
     "metadata": {},
     "output_type": "execute_result"
    }
   ],
   "source": [
    "pointers"
   ]
  },
  {
   "cell_type": "code",
   "execution_count": 14,
   "metadata": {},
   "outputs": [],
   "source": [
    "x = pointers[0]"
   ]
  },
  {
   "cell_type": "code",
   "execution_count": 15,
   "metadata": {},
   "outputs": [],
   "source": [
    "y = x + x"
   ]
  },
  {
   "cell_type": "code",
   "execution_count": 16,
   "metadata": {},
   "outputs": [
    {
     "data": {
      "text/plain": [
       "Variable containing:\n",
       "-2\n",
       "-1\n",
       " 0\n",
       " 1\n",
       " 2\n",
       " 3\n",
       "[syft.core.frameworks.torch.tensor.FloatTensor of size 6]"
      ]
     },
     "execution_count": 16,
     "metadata": {},
     "output_type": "execute_result"
    }
   ],
   "source": [
    "x.get()"
   ]
  },
  {
   "cell_type": "code",
   "execution_count": 17,
   "metadata": {},
   "outputs": [
    {
     "data": {
      "text/plain": [
       "Variable containing:\n",
       "-4\n",
       "-2\n",
       " 0\n",
       " 2\n",
       " 4\n",
       " 6\n",
       "[syft.core.frameworks.torch.tensor.FloatTensor of size 6]"
      ]
     },
     "execution_count": 17,
     "metadata": {},
     "output_type": "execute_result"
    }
   ],
   "source": [
    "y.get()"
   ]
  },
  {
   "cell_type": "code",
   "execution_count": 18,
   "metadata": {},
   "outputs": [],
   "source": [
    "# you can also search on multiple conditions at a time\n",
    "pointers = remote_client.search([\"#nashville_housing\", \"#input\"])"
   ]
  },
  {
   "cell_type": "code",
   "execution_count": 19,
   "metadata": {},
   "outputs": [
    {
     "data": {
      "text/plain": [
       "[Variable containing:[syft.core.frameworks.torch.tensor.FloatTensor with no dimension]]"
      ]
     },
     "execution_count": 19,
     "metadata": {},
     "output_type": "execute_result"
    }
   ],
   "source": [
    "pointers"
   ]
  },
  {
   "cell_type": "code",
   "execution_count": 20,
   "metadata": {},
   "outputs": [],
   "source": [
    "# you can also search on multiple conditions at a time\n",
    "pointers = remote_client.search([\"#\"])"
   ]
  },
  {
   "cell_type": "code",
   "execution_count": 21,
   "metadata": {},
   "outputs": [
    {
     "data": {
      "text/plain": [
       "[Variable containing:[syft.core.frameworks.torch.tensor.FloatTensor with no dimension],\n",
       " Variable containing:[syft.core.frameworks.torch.tensor.FloatTensor with no dimension],\n",
       " Variable containing:[syft.core.frameworks.torch.tensor.FloatTensor with no dimension]]"
      ]
     },
     "execution_count": 21,
     "metadata": {},
     "output_type": "execute_result"
    }
   ],
   "source": [
    "pointers # notice that there are 3 since we called .get() on one of them (there were originally 4)"
   ]
  },
  {
   "cell_type": "code",
   "execution_count": null,
   "metadata": {},
   "outputs": [],
   "source": []
  },
  {
   "cell_type": "code",
   "execution_count": null,
   "metadata": {},
   "outputs": [],
   "source": []
  },
  {
   "cell_type": "code",
   "execution_count": null,
   "metadata": {},
   "outputs": [],
   "source": []
  },
  {
   "cell_type": "code",
   "execution_count": null,
   "metadata": {},
   "outputs": [],
   "source": []
  },
  {
   "cell_type": "code",
   "execution_count": null,
   "metadata": {},
   "outputs": [],
   "source": []
  },
  {
   "cell_type": "code",
   "execution_count": null,
   "metadata": {},
   "outputs": [],
   "source": []
  }
 ],
 "metadata": {
  "kernelspec": {
   "display_name": "Python 3",
   "language": "python",
   "name": "python3"
  },
  "language_info": {
   "codemirror_mode": {
    "name": "ipython",
    "version": 3
   },
   "file_extension": ".py",
   "mimetype": "text/x-python",
   "name": "python",
   "nbconvert_exporter": "python",
   "pygments_lexer": "ipython3",
   "version": "3.6.1"
  }
 },
 "nbformat": 4,
 "nbformat_minor": 2
}
