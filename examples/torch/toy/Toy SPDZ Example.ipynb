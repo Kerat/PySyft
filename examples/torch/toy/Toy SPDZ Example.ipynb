{
 "cells": [
  {
   "cell_type": "code",
   "execution_count": 1,
   "metadata": {
    "collapsed": true
   },
   "outputs": [],
   "source": [
    "import random\n",
    "import syft as sy\n",
    "from syft.core import utils\n",
    "from syft.core.frameworks.torch import utils as torch_utils\n",
    "from syft.core.frameworks import encode\n",
    "\n",
    "from syft.core.frameworks.torch.tensor import _GeneralizedPointerTensor\n",
    "from syft.spdz import spdz\n",
    "from syft.core.frameworks.torch.tensor import _SPDZTensor\n",
    "import torch\n",
    "import torch.nn.functional as F\n",
    "from torch.autograd import Variable as Var\n",
    "import json\n",
    "\n",
    "hook = sy.TorchHook(verbose=True)\n",
    "\n",
    "me = hook.local_worker\n",
    "me.is_client_worker = False\n",
    "\n",
    "bob = sy.VirtualWorker(id=\"bob\", hook=hook, is_client_worker=False)\n",
    "alice = sy.VirtualWorker(id=\"alice\", hook=hook, is_client_worker=False)\n",
    "james = sy.VirtualWorker(id=\"james\", hook=hook, is_client_worker=False)"
   ]
  },
  {
   "cell_type": "markdown",
   "metadata": {},
   "source": [
    "# Data Owned By Alice"
   ]
  },
  {
   "cell_type": "code",
   "execution_count": 2,
   "metadata": {
    "collapsed": true
   },
   "outputs": [],
   "source": [
    "# create our dataset\n",
    "data = sy.FloatTensor([[0,0],[0,1],[1,0],[1,1]])\n",
    "target = sy.FloatTensor([[0],[0],[1],[1]])"
   ]
  },
  {
   "cell_type": "markdown",
   "metadata": {},
   "source": [
    "# Model Owned By Bob"
   ]
  },
  {
   "cell_type": "code",
   "execution_count": 3,
   "metadata": {
    "collapsed": true
   },
   "outputs": [],
   "source": [
    "model = sy.zeros(2,1)"
   ]
  },
  {
   "cell_type": "markdown",
   "metadata": {},
   "source": [
    "# Alice <-> Bob Share"
   ]
  },
  {
   "cell_type": "code",
   "execution_count": 4,
   "metadata": {},
   "outputs": [],
   "source": [
    "data = data.fix_precision().share(alice, bob)\n",
    "target = target.fix_precision().share(alice, bob)\n",
    "model = model.fix_precision().share(alice, bob)"
   ]
  },
  {
   "cell_type": "code",
   "execution_count": 5,
   "metadata": {},
   "outputs": [
    {
     "data": {
      "text/plain": [
       "[Fixed precision tensor]"
      ]
     },
     "execution_count": 5,
     "metadata": {},
     "output_type": "execute_result"
    }
   ],
   "source": [
    "data."
   ]
  },
  {
   "cell_type": "code",
   "execution_count": 6,
   "metadata": {
    "collapsed": true
   },
   "outputs": [
    {
     "name": "stdout",
     "output_type": "stream",
     "text": [
      "2.0\n",
      "1.996000004815869\n",
      "1.992000009631738\n",
      "1.9880000143311918\n",
      "1.9839999596588314\n",
      "1.9800000237300992\n",
      "1.9759999690577388\n",
      "1.9719999739900231\n",
      "1.9680000385269523\n",
      "1.9639999829232693\n",
      "1.9600000474601984\n",
      "1.955999992787838\n",
      "1.9519999977201223\n",
      "1.9480000026524067\n",
      "1.944000007584691\n",
      "1.9400000115856528\n",
      "1.9360000174492598\n",
      "1.9320000223815441\n",
      "1.9279999658465385\n",
      "1.9260000046342611\n",
      "1.9219999965280294\n",
      "1.9180000014603138\n",
      "1.9140000063925982\n",
      "1.9100000113248825\n",
      "1.9060000162571669\n",
      "1.9019999615848064\n",
      "1.8980000261217356\n",
      "1.89400003105402\n",
      "1.8899999763816595\n",
      "1.8860000409185886\n",
      "1.881999984383583\n",
      "1.8779999893158674\n",
      "1.8739999942481518\n",
      "1.8719999752938747\n",
      "1.8680000379681587\n",
      "1.8639999851584435\n",
      "1.8599999882280827\n",
      "1.8559999912977219\n",
      "1.8519999980926514\n",
      "1.8480000011622906\n",
      "1.84400000795722\n",
      "1.8399999998509884\n",
      "1.8360000029206276\n",
      "1.832000009715557\n",
      "1.8279999531805515\n",
      "1.8240000195801258\n",
      "1.820000022649765\n",
      "1.818000003695488\n",
      "1.8139999955892563\n",
      "1.8099999986588955\n",
      "1.8059999905526638\n",
      "1.801999993622303\n",
      "1.7980000004172325\n",
      "1.7940000034868717\n",
      "1.7900000102818012\n",
      "1.7860000133514404\n",
      "1.7819999605417252\n",
      "1.7799999974668026\n",
      "1.776000004261732\n",
      "1.7719999477267265\n",
      "1.7680000141263008\n",
      "1.7660000398755074\n",
      "1.7619999833405018\n",
      "1.757999986410141\n",
      "1.7539999932050705\n",
      "1.7499999962747097\n",
      "1.7460000030696392\n",
      "1.7420000061392784\n",
      "1.738000012934208\n",
      "1.7359999790787697\n",
      "1.731999970972538\n",
      "1.7280000373721123\n",
      "1.7239999771118164\n",
      "1.7200000435113907\n",
      "1.7180000096559525\n",
      "1.714000016450882\n",
      "1.7119999825954437\n",
      "1.7100000232458115\n",
      "1.7059999629855156\n",
      "1.7040000036358833\n",
      "1.7000000104308128\n",
      "1.6979999840259552\n",
      "1.6939999759197235\n",
      "1.6900000423192978\n",
      "1.6880000084638596\n",
      "1.684000015258789\n",
      "1.6799999475479126\n",
      "1.6760000139474869\n",
      "1.6720000132918358\n",
      "1.668000005185604\n",
      "1.6640000119805336\n",
      "1.660000003874302\n",
      "1.6559999957680702\n",
      "1.6520000025629997\n",
      "1.6480000093579292\n",
      "1.6440000087022781\n",
      "1.6400000154972076\n",
      "1.6360000222921371\n",
      "1.6319999620318413\n",
      "1.6280000284314156\n"
     ]
    }
   ],
   "source": [
    "for i in range(100):\n",
    "    pred = data.mm(model)\n",
    "    loss = pred - target\n",
    "    update = (model - data.transpose(0,1).mm(loss)).truncate()\n",
    "\n",
    "    model = model + update\n",
    "    print(loss.get().decode().abs().sum())"
   ]
  },
  {
   "cell_type": "code",
   "execution_count": null,
   "metadata": {},
   "outputs": [],
   "source": []
  }
 ],
 "metadata": {
  "kernelspec": {
   "display_name": "Python 3",
   "language": "python",
   "name": "python3"
  },
  "language_info": {
   "codemirror_mode": {
    "name": "ipython",
    "version": 3
   },
   "file_extension": ".py",
   "mimetype": "text/x-python",
   "name": "python",
   "nbconvert_exporter": "python",
   "pygments_lexer": "ipython3",
   "version": "3.6.1"
  }
 },
 "nbformat": 4,
 "nbformat_minor": 2
}
